{
 "cells": [
  {
   "cell_type": "markdown",
   "metadata": {
    "heading_collapsed": true,
    "id": "IJO-n2byJ_lY"
   },
   "source": [
    "# **Classification - NPL Credit Scoring**"
   ]
  },
  {
   "cell_type": "markdown",
   "metadata": {
    "heading_collapsed": true,
    "hidden": true,
    "id": "rZR9IwjIJ_lb"
   },
   "source": [
    "## **Import Packages**"
   ]
  },
  {
   "cell_type": "markdown",
   "metadata": {
    "ExecuteTime": {
     "end_time": "2021-08-29T14:25:18.721756Z",
     "start_time": "2021-08-29T14:25:18.709788Z"
    },
    "hidden": true
   },
   "source": [
    "**Packages yang dipakai untuk manipulasi dan analisis data secara general.**"
   ]
  },
  {
   "cell_type": "code",
   "execution_count": 1,
   "metadata": {
    "ExecuteTime": {
     "end_time": "2021-08-31T05:41:27.258110Z",
     "start_time": "2021-08-31T05:41:25.578925Z"
    },
    "hidden": true,
    "id": "7EZ9sGkuJ_lc"
   },
   "outputs": [],
   "source": [
    "import numpy as np\n",
    "import pandas as pd\n",
    "\n",
    "import matplotlib.pyplot as plt\n",
    "import seaborn as sns"
   ]
  },
  {
   "cell_type": "markdown",
   "metadata": {
    "hidden": true
   },
   "source": [
    "**Packages yang dipakai untuk modelling/machine learning secara spesifik.**"
   ]
  },
  {
   "cell_type": "code",
   "execution_count": 2,
   "metadata": {
    "ExecuteTime": {
     "end_time": "2021-08-31T05:41:28.237626Z",
     "start_time": "2021-08-31T05:41:27.258977Z"
    },
    "hidden": true
   },
   "outputs": [],
   "source": [
    "from sklearn.preprocessing import LabelEncoder, MinMaxScaler\n",
    "from sklearn.model_selection import train_test_split, cross_validate, KFold, GridSearchCV\n",
    "\n",
    "# Untuk SMOTE dan undersampling \n",
    "# Pastikan sudah pip install karena tidak ada di default Anaconda!\n",
    "from imblearn.over_sampling import BorderlineSMOTE\n",
    "from imblearn.under_sampling import RandomUnderSampler\n",
    "\n",
    "from sklearn.linear_model import LogisticRegression\n",
    "from sklearn.metrics import recall_score"
   ]
  },
  {
   "cell_type": "markdown",
   "metadata": {
    "hidden": true
   },
   "source": [
    "**Packages untuk kegunaan lain-lain.**"
   ]
  },
  {
   "cell_type": "code",
   "execution_count": 3,
   "metadata": {
    "ExecuteTime": {
     "end_time": "2021-08-31T05:41:28.252960Z",
     "start_time": "2021-08-31T05:41:28.240621Z"
    },
    "hidden": true
   },
   "outputs": [],
   "source": [
    "import os\n",
    "import warnings"
   ]
  },
  {
   "cell_type": "markdown",
   "metadata": {
    "heading_collapsed": true,
    "hidden": true
   },
   "source": [
    "## **Define Functions and Settings**"
   ]
  },
  {
   "cell_type": "markdown",
   "metadata": {
    "hidden": true
   },
   "source": [
    "**Function-function yang akan sering dipakai di keseluruhan notebook** didefinisikan terlebih dahulu, sehingga lebih mudah dikenali dan dipahami ketika digunakan dalam notebook ini."
   ]
  },
  {
   "cell_type": "code",
   "execution_count": 4,
   "metadata": {
    "ExecuteTime": {
     "end_time": "2021-08-31T05:41:28.267942Z",
     "start_time": "2021-08-31T05:41:28.257957Z"
    },
    "hidden": true
   },
   "outputs": [],
   "source": [
    "def display_df(df, n = 5):\n",
    "    '''\n",
    "        Display the first n rows (default = 5) of a DataFrame and its shape\n",
    "        Goal: To print short previews of a dataset and know its dimensions at the same time\n",
    "    '''\n",
    "    if n == 'all':\n",
    "        display(df)\n",
    "    elif type(n) == int:\n",
    "        display(df.head(n))\n",
    "    display(df.shape)\n",
    "\n",
    "def batch_cross_val(model, X, y, kfold):\n",
    "    '''\n",
    "        Cross-validate a machine learning model and return all the four common metrics.\n",
    "        Requires cross_validate to be imported!\n",
    "    '''\n",
    "\n",
    "    scoring_metrics = {\n",
    "        'acc': 'accuracy',\n",
    "        'prec': 'precision',\n",
    "        'rec': 'recall',\n",
    "        'F1': 'f1'\n",
    "    }\n",
    "\n",
    "    scores = cross_validate(model, X, y, cv = kfold, scoring = scoring_metrics)\n",
    "\n",
    "    acc = scores['test_acc']\n",
    "    print('Mean accuracy: {:.3f}'.format(acc.mean()))\n",
    "\n",
    "    prec = scores['test_prec']\n",
    "    print('Mean precision: {:.3f}'.format(prec.mean()))\n",
    "\n",
    "    rec = scores['test_rec']\n",
    "    print('Mean recall: {:.3f}'.format(rec.mean()))\n",
    "\n",
    "    f1 = scores['test_F1']\n",
    "    print('Mean F1-score: {:.3f}'.format(f1.mean()))\n",
    "    \n",
    "    return (acc, prec, rec, f1)"
   ]
  },
  {
   "cell_type": "markdown",
   "metadata": {
    "hidden": true
   },
   "source": [
    "Beberapa **pengaturan dari packages yang berdampak dalam keseluruhan notebook** akan diatur dan dicatat terlebih dahulu disini."
   ]
  },
  {
   "cell_type": "code",
   "execution_count": 5,
   "metadata": {
    "ExecuteTime": {
     "end_time": "2021-08-31T05:41:28.283482Z",
     "start_time": "2021-08-31T05:41:28.269913Z"
    },
    "hidden": true
   },
   "outputs": [],
   "source": [
    "pd.set_option('mode.chained_assignment', None)\n",
    "sns.set_style('darkgrid')"
   ]
  },
  {
   "cell_type": "markdown",
   "metadata": {
    "heading_collapsed": true,
    "hidden": true,
    "id": "f4DCJr9kJ_lc"
   },
   "source": [
    "## **Read Dataset**"
   ]
  },
  {
   "cell_type": "markdown",
   "metadata": {
    "hidden": true
   },
   "source": [
    "**Menuliskan path folder tempat data disimpan terlebih dahulu.**"
   ]
  },
  {
   "cell_type": "code",
   "execution_count": 6,
   "metadata": {
    "ExecuteTime": {
     "end_time": "2021-08-31T05:41:28.298758Z",
     "start_time": "2021-08-31T05:41:28.285450Z"
    },
    "hidden": true
   },
   "outputs": [],
   "source": [
    "data_folder = 'data'"
   ]
  },
  {
   "cell_type": "markdown",
   "metadata": {
    "heading_collapsed": true,
    "hidden": true
   },
   "source": [
    "### **Data Train**"
   ]
  },
  {
   "cell_type": "markdown",
   "metadata": {
    "hidden": true
   },
   "source": [
    "**Data train adalah data yang akan digunakan untuk melatih model machine learning.**\n",
    "\n",
    "Data train terdiri dari 15,343 baris dan 24 kolom, serta dilengkapi dengan variabel target yang akan digunakan nanti, yaitu `flag_kredit_macet`. Terdapat kolom misterius, yaitu kolom `X`, yang akan diinvestigasi lebih lanjut setelah ini."
   ]
  },
  {
   "cell_type": "code",
   "execution_count": 7,
   "metadata": {
    "ExecuteTime": {
     "end_time": "2021-08-31T05:41:28.390758Z",
     "start_time": "2021-08-31T05:41:28.300441Z"
    },
    "hidden": true,
    "id": "fcrxS0OHJ_ld",
    "scrolled": true
   },
   "outputs": [
    {
     "data": {
      "text/html": [
       "<div>\n",
       "<style scoped>\n",
       "    .dataframe tbody tr th:only-of-type {\n",
       "        vertical-align: middle;\n",
       "    }\n",
       "\n",
       "    .dataframe tbody tr th {\n",
       "        vertical-align: top;\n",
       "    }\n",
       "\n",
       "    .dataframe thead th {\n",
       "        text-align: right;\n",
       "    }\n",
       "</style>\n",
       "<table border=\"1\" class=\"dataframe\">\n",
       "  <thead>\n",
       "    <tr style=\"text-align: right;\">\n",
       "      <th></th>\n",
       "      <th>X</th>\n",
       "      <th>jumlah_kartu</th>\n",
       "      <th>outstanding</th>\n",
       "      <th>limit_kredit</th>\n",
       "      <th>tagihan</th>\n",
       "      <th>total_pemakaian_tunai</th>\n",
       "      <th>total_pemakaian_retail</th>\n",
       "      <th>sisa_tagihan_tidak_terbayar</th>\n",
       "      <th>kode_cabang</th>\n",
       "      <th>rasio_pembayaran</th>\n",
       "      <th>...</th>\n",
       "      <th>flag_kredit_macet</th>\n",
       "      <th>jumlah_tahun_sejak_pembukaan_kredit</th>\n",
       "      <th>total_pemakaian</th>\n",
       "      <th>sisa_tagihan_per_jumlah_kartu</th>\n",
       "      <th>sisa_tagihan_per_limit</th>\n",
       "      <th>total_pemakaian_per_limit</th>\n",
       "      <th>pemakaian_3bln_per_limit</th>\n",
       "      <th>pemakaian_6bln_per_limit</th>\n",
       "      <th>utilisasi_3bulan</th>\n",
       "      <th>utilisasi_6bulan</th>\n",
       "    </tr>\n",
       "  </thead>\n",
       "  <tbody>\n",
       "    <tr>\n",
       "      <th>0</th>\n",
       "      <td>92</td>\n",
       "      <td>5</td>\n",
       "      <td>5972272</td>\n",
       "      <td>6000000.0</td>\n",
       "      <td>5068230.0</td>\n",
       "      <td>0.0</td>\n",
       "      <td>0.0</td>\n",
       "      <td>5206434.0</td>\n",
       "      <td>NaN</td>\n",
       "      <td>12.19</td>\n",
       "      <td>...</td>\n",
       "      <td>0</td>\n",
       "      <td>9.916667</td>\n",
       "      <td>0.0</td>\n",
       "      <td>1041286.8</td>\n",
       "      <td>0.867739</td>\n",
       "      <td>0.000000</td>\n",
       "      <td>0.059401</td>\n",
       "      <td>0.041536</td>\n",
       "      <td>0.919164</td>\n",
       "      <td>0.919635</td>\n",
       "    </tr>\n",
       "    <tr>\n",
       "      <th>1</th>\n",
       "      <td>316</td>\n",
       "      <td>2</td>\n",
       "      <td>136453</td>\n",
       "      <td>65000000.0</td>\n",
       "      <td>128750.0</td>\n",
       "      <td>0.0</td>\n",
       "      <td>0.0</td>\n",
       "      <td>0.0</td>\n",
       "      <td>NaN</td>\n",
       "      <td>100.00</td>\n",
       "      <td>...</td>\n",
       "      <td>0</td>\n",
       "      <td>3.500000</td>\n",
       "      <td>0.0</td>\n",
       "      <td>0.0</td>\n",
       "      <td>0.000000</td>\n",
       "      <td>0.000000</td>\n",
       "      <td>0.023722</td>\n",
       "      <td>0.013271</td>\n",
       "      <td>0.022847</td>\n",
       "      <td>0.007724</td>\n",
       "    </tr>\n",
       "    <tr>\n",
       "      <th>2</th>\n",
       "      <td>624</td>\n",
       "      <td>1</td>\n",
       "      <td>1354080</td>\n",
       "      <td>3000000.0</td>\n",
       "      <td>1369203.0</td>\n",
       "      <td>0.0</td>\n",
       "      <td>15000.0</td>\n",
       "      <td>0.0</td>\n",
       "      <td>NaN</td>\n",
       "      <td>100.00</td>\n",
       "      <td>...</td>\n",
       "      <td>0</td>\n",
       "      <td>8.500000</td>\n",
       "      <td>15000.0</td>\n",
       "      <td>0.0</td>\n",
       "      <td>0.000000</td>\n",
       "      <td>0.005000</td>\n",
       "      <td>0.145833</td>\n",
       "      <td>0.000000</td>\n",
       "      <td>0.627426</td>\n",
       "      <td>0.899309</td>\n",
       "    </tr>\n",
       "    <tr>\n",
       "      <th>3</th>\n",
       "      <td>628</td>\n",
       "      <td>2</td>\n",
       "      <td>1076660</td>\n",
       "      <td>49000000.0</td>\n",
       "      <td>752108.0</td>\n",
       "      <td>0.0</td>\n",
       "      <td>775440.0</td>\n",
       "      <td>0.0</td>\n",
       "      <td>NaN</td>\n",
       "      <td>99.07</td>\n",
       "      <td>...</td>\n",
       "      <td>0</td>\n",
       "      <td>4.333333</td>\n",
       "      <td>775440.0</td>\n",
       "      <td>0.0</td>\n",
       "      <td>0.000000</td>\n",
       "      <td>0.015825</td>\n",
       "      <td>0.017617</td>\n",
       "      <td>0.177094</td>\n",
       "      <td>0.013699</td>\n",
       "      <td>0.255363</td>\n",
       "    </tr>\n",
       "    <tr>\n",
       "      <th>4</th>\n",
       "      <td>947</td>\n",
       "      <td>3</td>\n",
       "      <td>42281368</td>\n",
       "      <td>34000000.0</td>\n",
       "      <td>43130581.0</td>\n",
       "      <td>0.0</td>\n",
       "      <td>0.0</td>\n",
       "      <td>41144841.0</td>\n",
       "      <td>NaN</td>\n",
       "      <td>0.00</td>\n",
       "      <td>...</td>\n",
       "      <td>1</td>\n",
       "      <td>7.000000</td>\n",
       "      <td>0.0</td>\n",
       "      <td>13714947.0</td>\n",
       "      <td>1.210142</td>\n",
       "      <td>0.000000</td>\n",
       "      <td>0.412361</td>\n",
       "      <td>0.014556</td>\n",
       "      <td>1.205087</td>\n",
       "      <td>1.116092</td>\n",
       "    </tr>\n",
       "  </tbody>\n",
       "</table>\n",
       "<p>5 rows × 24 columns</p>\n",
       "</div>"
      ],
      "text/plain": [
       "     X  jumlah_kartu  outstanding  limit_kredit     tagihan  \\\n",
       "0   92             5      5972272     6000000.0   5068230.0   \n",
       "1  316             2       136453    65000000.0    128750.0   \n",
       "2  624             1      1354080     3000000.0   1369203.0   \n",
       "3  628             2      1076660    49000000.0    752108.0   \n",
       "4  947             3     42281368    34000000.0  43130581.0   \n",
       "\n",
       "   total_pemakaian_tunai  total_pemakaian_retail  sisa_tagihan_tidak_terbayar  \\\n",
       "0                    0.0                     0.0                    5206434.0   \n",
       "1                    0.0                     0.0                          0.0   \n",
       "2                    0.0                 15000.0                          0.0   \n",
       "3                    0.0                775440.0                          0.0   \n",
       "4                    0.0                     0.0                   41144841.0   \n",
       "\n",
       "  kode_cabang  rasio_pembayaran  ...  flag_kredit_macet  \\\n",
       "0         NaN             12.19  ...                  0   \n",
       "1         NaN            100.00  ...                  0   \n",
       "2         NaN            100.00  ...                  0   \n",
       "3         NaN             99.07  ...                  0   \n",
       "4         NaN              0.00  ...                  1   \n",
       "\n",
       "   jumlah_tahun_sejak_pembukaan_kredit  total_pemakaian  \\\n",
       "0                             9.916667              0.0   \n",
       "1                             3.500000              0.0   \n",
       "2                             8.500000          15000.0   \n",
       "3                             4.333333         775440.0   \n",
       "4                             7.000000              0.0   \n",
       "\n",
       "   sisa_tagihan_per_jumlah_kartu  sisa_tagihan_per_limit  \\\n",
       "0                      1041286.8                0.867739   \n",
       "1                            0.0                0.000000   \n",
       "2                            0.0                0.000000   \n",
       "3                            0.0                0.000000   \n",
       "4                     13714947.0                1.210142   \n",
       "\n",
       "   total_pemakaian_per_limit  pemakaian_3bln_per_limit  \\\n",
       "0                   0.000000                  0.059401   \n",
       "1                   0.000000                  0.023722   \n",
       "2                   0.005000                  0.145833   \n",
       "3                   0.015825                  0.017617   \n",
       "4                   0.000000                  0.412361   \n",
       "\n",
       "   pemakaian_6bln_per_limit  utilisasi_3bulan  utilisasi_6bulan  \n",
       "0                  0.041536          0.919164          0.919635  \n",
       "1                  0.013271          0.022847          0.007724  \n",
       "2                  0.000000          0.627426          0.899309  \n",
       "3                  0.177094          0.013699          0.255363  \n",
       "4                  0.014556          1.205087          1.116092  \n",
       "\n",
       "[5 rows x 24 columns]"
      ]
     },
     "metadata": {},
     "output_type": "display_data"
    },
    {
     "data": {
      "text/plain": [
       "(15343, 24)"
      ]
     },
     "metadata": {},
     "output_type": "display_data"
    }
   ],
   "source": [
    "train_df = pd.read_csv(os.path.join(data_folder, 'npl_credit_scoring_train.csv'))\n",
    "\n",
    "display_df(train_df)"
   ]
  },
  {
   "cell_type": "markdown",
   "metadata": {
    "hidden": true
   },
   "source": [
    "**Berikut ini beberapa overview singkat dari data train.**"
   ]
  },
  {
   "cell_type": "code",
   "execution_count": 8,
   "metadata": {
    "ExecuteTime": {
     "end_time": "2021-08-31T05:41:28.406645Z",
     "start_time": "2021-08-31T05:41:28.392681Z"
    },
    "hidden": true
   },
   "outputs": [
    {
     "name": "stdout",
     "output_type": "stream",
     "text": [
      "<class 'pandas.core.frame.DataFrame'>\n",
      "RangeIndex: 15343 entries, 0 to 15342\n",
      "Data columns (total 24 columns):\n",
      " #   Column                               Non-Null Count  Dtype  \n",
      "---  ------                               --------------  -----  \n",
      " 0   X                                    15343 non-null  int64  \n",
      " 1   jumlah_kartu                         15343 non-null  int64  \n",
      " 2   outstanding                          15343 non-null  int64  \n",
      " 3   limit_kredit                         15343 non-null  float64\n",
      " 4   tagihan                              15343 non-null  float64\n",
      " 5   total_pemakaian_tunai                15343 non-null  float64\n",
      " 6   total_pemakaian_retail               15343 non-null  float64\n",
      " 7   sisa_tagihan_tidak_terbayar          15343 non-null  float64\n",
      " 8   kode_cabang                          15243 non-null  object \n",
      " 9   rasio_pembayaran                     15343 non-null  float64\n",
      " 10  persentasi_overlimit                 15343 non-null  float64\n",
      " 11  rasio_pembayaran_3bulan              15343 non-null  float64\n",
      " 12  rasio_pembayaran_6bulan              15343 non-null  float64\n",
      " 13  skor_delikuensi                      15343 non-null  int64  \n",
      " 14  flag_kredit_macet                    15343 non-null  int64  \n",
      " 15  jumlah_tahun_sejak_pembukaan_kredit  15343 non-null  float64\n",
      " 16  total_pemakaian                      15343 non-null  float64\n",
      " 17  sisa_tagihan_per_jumlah_kartu        15343 non-null  float64\n",
      " 18  sisa_tagihan_per_limit               15343 non-null  float64\n",
      " 19  total_pemakaian_per_limit            15343 non-null  float64\n",
      " 20  pemakaian_3bln_per_limit             15343 non-null  float64\n",
      " 21  pemakaian_6bln_per_limit             15343 non-null  float64\n",
      " 22  utilisasi_3bulan                     15343 non-null  float64\n",
      " 23  utilisasi_6bulan                     15343 non-null  float64\n",
      "dtypes: float64(18), int64(5), object(1)\n",
      "memory usage: 2.8+ MB\n"
     ]
    }
   ],
   "source": [
    "train_df.info()"
   ]
  },
  {
   "cell_type": "code",
   "execution_count": 9,
   "metadata": {
    "ExecuteTime": {
     "end_time": "2021-08-31T05:41:28.469407Z",
     "start_time": "2021-08-31T05:41:28.408669Z"
    },
    "hidden": true
   },
   "outputs": [
    {
     "data": {
      "text/html": [
       "<div>\n",
       "<style scoped>\n",
       "    .dataframe tbody tr th:only-of-type {\n",
       "        vertical-align: middle;\n",
       "    }\n",
       "\n",
       "    .dataframe tbody tr th {\n",
       "        vertical-align: top;\n",
       "    }\n",
       "\n",
       "    .dataframe thead th {\n",
       "        text-align: right;\n",
       "    }\n",
       "</style>\n",
       "<table border=\"1\" class=\"dataframe\">\n",
       "  <thead>\n",
       "    <tr style=\"text-align: right;\">\n",
       "      <th></th>\n",
       "      <th>X</th>\n",
       "      <th>jumlah_kartu</th>\n",
       "      <th>outstanding</th>\n",
       "      <th>limit_kredit</th>\n",
       "      <th>tagihan</th>\n",
       "      <th>total_pemakaian_tunai</th>\n",
       "      <th>total_pemakaian_retail</th>\n",
       "      <th>sisa_tagihan_tidak_terbayar</th>\n",
       "      <th>rasio_pembayaran</th>\n",
       "      <th>persentasi_overlimit</th>\n",
       "      <th>...</th>\n",
       "      <th>flag_kredit_macet</th>\n",
       "      <th>jumlah_tahun_sejak_pembukaan_kredit</th>\n",
       "      <th>total_pemakaian</th>\n",
       "      <th>sisa_tagihan_per_jumlah_kartu</th>\n",
       "      <th>sisa_tagihan_per_limit</th>\n",
       "      <th>total_pemakaian_per_limit</th>\n",
       "      <th>pemakaian_3bln_per_limit</th>\n",
       "      <th>pemakaian_6bln_per_limit</th>\n",
       "      <th>utilisasi_3bulan</th>\n",
       "      <th>utilisasi_6bulan</th>\n",
       "    </tr>\n",
       "  </thead>\n",
       "  <tbody>\n",
       "    <tr>\n",
       "      <th>count</th>\n",
       "      <td>15343.000000</td>\n",
       "      <td>15343.000000</td>\n",
       "      <td>1.534300e+04</td>\n",
       "      <td>1.534300e+04</td>\n",
       "      <td>1.534300e+04</td>\n",
       "      <td>1.534300e+04</td>\n",
       "      <td>1.534300e+04</td>\n",
       "      <td>1.534300e+04</td>\n",
       "      <td>15343.000000</td>\n",
       "      <td>15343.000000</td>\n",
       "      <td>...</td>\n",
       "      <td>15343.000000</td>\n",
       "      <td>15343.000000</td>\n",
       "      <td>1.534300e+04</td>\n",
       "      <td>1.534300e+04</td>\n",
       "      <td>15343.000000</td>\n",
       "      <td>15343.000000</td>\n",
       "      <td>15343.000000</td>\n",
       "      <td>15343.000000</td>\n",
       "      <td>15343.000000</td>\n",
       "      <td>15343.000000</td>\n",
       "    </tr>\n",
       "    <tr>\n",
       "      <th>mean</th>\n",
       "      <td>7750.138956</td>\n",
       "      <td>2.507332</td>\n",
       "      <td>1.160634e+07</td>\n",
       "      <td>2.081037e+07</td>\n",
       "      <td>8.087595e+06</td>\n",
       "      <td>7.468477e+04</td>\n",
       "      <td>2.032315e+06</td>\n",
       "      <td>8.138304e+06</td>\n",
       "      <td>64.482234</td>\n",
       "      <td>3.347169</td>\n",
       "      <td>...</td>\n",
       "      <td>0.087597</td>\n",
       "      <td>6.636067</td>\n",
       "      <td>2.107030e+06</td>\n",
       "      <td>2.964641e+06</td>\n",
       "      <td>0.468332</td>\n",
       "      <td>0.109579</td>\n",
       "      <td>0.167506</td>\n",
       "      <td>0.202896</td>\n",
       "      <td>0.571362</td>\n",
       "      <td>0.534084</td>\n",
       "    </tr>\n",
       "    <tr>\n",
       "      <th>std</th>\n",
       "      <td>4472.966163</td>\n",
       "      <td>1.014525</td>\n",
       "      <td>2.415412e+07</td>\n",
       "      <td>2.960443e+07</td>\n",
       "      <td>1.766835e+07</td>\n",
       "      <td>6.205923e+05</td>\n",
       "      <td>7.959575e+06</td>\n",
       "      <td>1.925786e+07</td>\n",
       "      <td>797.324307</td>\n",
       "      <td>9.257389</td>\n",
       "      <td>...</td>\n",
       "      <td>0.282717</td>\n",
       "      <td>4.682317</td>\n",
       "      <td>8.125462e+06</td>\n",
       "      <td>6.262742e+06</td>\n",
       "      <td>0.473221</td>\n",
       "      <td>0.200651</td>\n",
       "      <td>0.192300</td>\n",
       "      <td>0.275018</td>\n",
       "      <td>0.412303</td>\n",
       "      <td>0.432826</td>\n",
       "    </tr>\n",
       "    <tr>\n",
       "      <th>min</th>\n",
       "      <td>1.000000</td>\n",
       "      <td>1.000000</td>\n",
       "      <td>0.000000e+00</td>\n",
       "      <td>3.000000e+06</td>\n",
       "      <td>2.004300e+04</td>\n",
       "      <td>0.000000e+00</td>\n",
       "      <td>-1.566720e+07</td>\n",
       "      <td>0.000000e+00</td>\n",
       "      <td>-18138.000000</td>\n",
       "      <td>0.000000</td>\n",
       "      <td>...</td>\n",
       "      <td>0.000000</td>\n",
       "      <td>0.750000</td>\n",
       "      <td>-1.566720e+07</td>\n",
       "      <td>0.000000e+00</td>\n",
       "      <td>0.000000</td>\n",
       "      <td>-0.632000</td>\n",
       "      <td>-0.126000</td>\n",
       "      <td>-0.569000</td>\n",
       "      <td>0.000288</td>\n",
       "      <td>0.000000</td>\n",
       "    </tr>\n",
       "    <tr>\n",
       "      <th>25%</th>\n",
       "      <td>3875.500000</td>\n",
       "      <td>2.000000</td>\n",
       "      <td>1.997592e+06</td>\n",
       "      <td>5.000000e+06</td>\n",
       "      <td>8.150830e+05</td>\n",
       "      <td>0.000000e+00</td>\n",
       "      <td>0.000000e+00</td>\n",
       "      <td>0.000000e+00</td>\n",
       "      <td>0.000000</td>\n",
       "      <td>0.000000</td>\n",
       "      <td>...</td>\n",
       "      <td>0.000000</td>\n",
       "      <td>2.920000</td>\n",
       "      <td>0.000000e+00</td>\n",
       "      <td>0.000000e+00</td>\n",
       "      <td>0.000000</td>\n",
       "      <td>0.000000</td>\n",
       "      <td>0.035000</td>\n",
       "      <td>0.032900</td>\n",
       "      <td>0.189000</td>\n",
       "      <td>0.155000</td>\n",
       "    </tr>\n",
       "    <tr>\n",
       "      <th>50%</th>\n",
       "      <td>7752.000000</td>\n",
       "      <td>2.000000</td>\n",
       "      <td>4.724856e+06</td>\n",
       "      <td>9.000000e+06</td>\n",
       "      <td>3.141692e+06</td>\n",
       "      <td>0.000000e+00</td>\n",
       "      <td>2.010420e+05</td>\n",
       "      <td>2.750772e+06</td>\n",
       "      <td>26.900000</td>\n",
       "      <td>0.000000</td>\n",
       "      <td>...</td>\n",
       "      <td>0.000000</td>\n",
       "      <td>5.666667</td>\n",
       "      <td>2.480000e+05</td>\n",
       "      <td>1.209318e+06</td>\n",
       "      <td>0.335929</td>\n",
       "      <td>0.022100</td>\n",
       "      <td>0.108000</td>\n",
       "      <td>0.117000</td>\n",
       "      <td>0.576000</td>\n",
       "      <td>0.496000</td>\n",
       "    </tr>\n",
       "    <tr>\n",
       "      <th>75%</th>\n",
       "      <td>11624.500000</td>\n",
       "      <td>3.000000</td>\n",
       "      <td>1.061836e+07</td>\n",
       "      <td>2.200000e+07</td>\n",
       "      <td>7.420343e+06</td>\n",
       "      <td>0.000000e+00</td>\n",
       "      <td>1.403758e+06</td>\n",
       "      <td>7.139904e+06</td>\n",
       "      <td>100.000000</td>\n",
       "      <td>1.070000</td>\n",
       "      <td>...</td>\n",
       "      <td>0.000000</td>\n",
       "      <td>9.330000</td>\n",
       "      <td>1.513168e+06</td>\n",
       "      <td>3.083416e+06</td>\n",
       "      <td>0.930000</td>\n",
       "      <td>0.128000</td>\n",
       "      <td>0.239424</td>\n",
       "      <td>0.285000</td>\n",
       "      <td>0.917000</td>\n",
       "      <td>0.864000</td>\n",
       "    </tr>\n",
       "    <tr>\n",
       "      <th>max</th>\n",
       "      <td>15493.000000</td>\n",
       "      <td>16.000000</td>\n",
       "      <td>7.980586e+08</td>\n",
       "      <td>1.000000e+09</td>\n",
       "      <td>6.280000e+08</td>\n",
       "      <td>2.884057e+07</td>\n",
       "      <td>2.850000e+08</td>\n",
       "      <td>4.440000e+08</td>\n",
       "      <td>68983.000000</td>\n",
       "      <td>190.000000</td>\n",
       "      <td>...</td>\n",
       "      <td>1.000000</td>\n",
       "      <td>34.416667</td>\n",
       "      <td>3.140000e+08</td>\n",
       "      <td>1.480000e+08</td>\n",
       "      <td>7.240000</td>\n",
       "      <td>4.600000</td>\n",
       "      <td>3.490000</td>\n",
       "      <td>8.110000</td>\n",
       "      <td>8.125671</td>\n",
       "      <td>9.730000</td>\n",
       "    </tr>\n",
       "  </tbody>\n",
       "</table>\n",
       "<p>8 rows × 23 columns</p>\n",
       "</div>"
      ],
      "text/plain": [
       "                  X  jumlah_kartu   outstanding  limit_kredit       tagihan  \\\n",
       "count  15343.000000  15343.000000  1.534300e+04  1.534300e+04  1.534300e+04   \n",
       "mean    7750.138956      2.507332  1.160634e+07  2.081037e+07  8.087595e+06   \n",
       "std     4472.966163      1.014525  2.415412e+07  2.960443e+07  1.766835e+07   \n",
       "min        1.000000      1.000000  0.000000e+00  3.000000e+06  2.004300e+04   \n",
       "25%     3875.500000      2.000000  1.997592e+06  5.000000e+06  8.150830e+05   \n",
       "50%     7752.000000      2.000000  4.724856e+06  9.000000e+06  3.141692e+06   \n",
       "75%    11624.500000      3.000000  1.061836e+07  2.200000e+07  7.420343e+06   \n",
       "max    15493.000000     16.000000  7.980586e+08  1.000000e+09  6.280000e+08   \n",
       "\n",
       "       total_pemakaian_tunai  total_pemakaian_retail  \\\n",
       "count           1.534300e+04            1.534300e+04   \n",
       "mean            7.468477e+04            2.032315e+06   \n",
       "std             6.205923e+05            7.959575e+06   \n",
       "min             0.000000e+00           -1.566720e+07   \n",
       "25%             0.000000e+00            0.000000e+00   \n",
       "50%             0.000000e+00            2.010420e+05   \n",
       "75%             0.000000e+00            1.403758e+06   \n",
       "max             2.884057e+07            2.850000e+08   \n",
       "\n",
       "       sisa_tagihan_tidak_terbayar  rasio_pembayaran  persentasi_overlimit  \\\n",
       "count                 1.534300e+04      15343.000000          15343.000000   \n",
       "mean                  8.138304e+06         64.482234              3.347169   \n",
       "std                   1.925786e+07        797.324307              9.257389   \n",
       "min                   0.000000e+00     -18138.000000              0.000000   \n",
       "25%                   0.000000e+00          0.000000              0.000000   \n",
       "50%                   2.750772e+06         26.900000              0.000000   \n",
       "75%                   7.139904e+06        100.000000              1.070000   \n",
       "max                   4.440000e+08      68983.000000            190.000000   \n",
       "\n",
       "       ...  flag_kredit_macet  jumlah_tahun_sejak_pembukaan_kredit  \\\n",
       "count  ...       15343.000000                         15343.000000   \n",
       "mean   ...           0.087597                             6.636067   \n",
       "std    ...           0.282717                             4.682317   \n",
       "min    ...           0.000000                             0.750000   \n",
       "25%    ...           0.000000                             2.920000   \n",
       "50%    ...           0.000000                             5.666667   \n",
       "75%    ...           0.000000                             9.330000   \n",
       "max    ...           1.000000                            34.416667   \n",
       "\n",
       "       total_pemakaian  sisa_tagihan_per_jumlah_kartu  sisa_tagihan_per_limit  \\\n",
       "count     1.534300e+04                   1.534300e+04            15343.000000   \n",
       "mean      2.107030e+06                   2.964641e+06                0.468332   \n",
       "std       8.125462e+06                   6.262742e+06                0.473221   \n",
       "min      -1.566720e+07                   0.000000e+00                0.000000   \n",
       "25%       0.000000e+00                   0.000000e+00                0.000000   \n",
       "50%       2.480000e+05                   1.209318e+06                0.335929   \n",
       "75%       1.513168e+06                   3.083416e+06                0.930000   \n",
       "max       3.140000e+08                   1.480000e+08                7.240000   \n",
       "\n",
       "       total_pemakaian_per_limit  pemakaian_3bln_per_limit  \\\n",
       "count               15343.000000              15343.000000   \n",
       "mean                    0.109579                  0.167506   \n",
       "std                     0.200651                  0.192300   \n",
       "min                    -0.632000                 -0.126000   \n",
       "25%                     0.000000                  0.035000   \n",
       "50%                     0.022100                  0.108000   \n",
       "75%                     0.128000                  0.239424   \n",
       "max                     4.600000                  3.490000   \n",
       "\n",
       "       pemakaian_6bln_per_limit  utilisasi_3bulan  utilisasi_6bulan  \n",
       "count              15343.000000      15343.000000      15343.000000  \n",
       "mean                   0.202896          0.571362          0.534084  \n",
       "std                    0.275018          0.412303          0.432826  \n",
       "min                   -0.569000          0.000288          0.000000  \n",
       "25%                    0.032900          0.189000          0.155000  \n",
       "50%                    0.117000          0.576000          0.496000  \n",
       "75%                    0.285000          0.917000          0.864000  \n",
       "max                    8.110000          8.125671          9.730000  \n",
       "\n",
       "[8 rows x 23 columns]"
      ]
     },
     "execution_count": 9,
     "metadata": {},
     "output_type": "execute_result"
    }
   ],
   "source": [
    "train_df.describe()"
   ]
  },
  {
   "cell_type": "markdown",
   "metadata": {
    "heading_collapsed": true,
    "hidden": true
   },
   "source": [
    "### **Data Test**"
   ]
  },
  {
   "cell_type": "markdown",
   "metadata": {
    "hidden": true
   },
   "source": [
    "**Data test adalah data yang akan diprediksi dengan model yang sudah dilatih.**\n",
    "\n",
    "Data test terdiri dari 150 baris dan 23 kolom, 1 kolom lebih sedikit dibandingkan data train karena ketiadaan variabel target `flag_kredit_macet`. Kolom misterius `X` juga ada di data test seperti pada data train, dan akan diinvestigasi lebih lanjut setelah ini."
   ]
  },
  {
   "cell_type": "code",
   "execution_count": 10,
   "metadata": {
    "ExecuteTime": {
     "end_time": "2021-08-31T05:41:28.499345Z",
     "start_time": "2021-08-31T05:41:28.471369Z"
    },
    "hidden": true
   },
   "outputs": [
    {
     "data": {
      "text/html": [
       "<div>\n",
       "<style scoped>\n",
       "    .dataframe tbody tr th:only-of-type {\n",
       "        vertical-align: middle;\n",
       "    }\n",
       "\n",
       "    .dataframe tbody tr th {\n",
       "        vertical-align: top;\n",
       "    }\n",
       "\n",
       "    .dataframe thead th {\n",
       "        text-align: right;\n",
       "    }\n",
       "</style>\n",
       "<table border=\"1\" class=\"dataframe\">\n",
       "  <thead>\n",
       "    <tr style=\"text-align: right;\">\n",
       "      <th></th>\n",
       "      <th>X</th>\n",
       "      <th>jumlah_kartu</th>\n",
       "      <th>outstanding</th>\n",
       "      <th>limit_kredit</th>\n",
       "      <th>tagihan</th>\n",
       "      <th>total_pemakaian_tunai</th>\n",
       "      <th>total_pemakaian_retail</th>\n",
       "      <th>sisa_tagihan_tidak_terbayar</th>\n",
       "      <th>kode_cabang</th>\n",
       "      <th>rasio_pembayaran</th>\n",
       "      <th>...</th>\n",
       "      <th>skor_delikuensi</th>\n",
       "      <th>jumlah_tahun_sejak_pembukaan_kredit</th>\n",
       "      <th>total_pemakaian</th>\n",
       "      <th>sisa_tagihan_per_jumlah_kartu</th>\n",
       "      <th>sisa_tagihan_per_limit</th>\n",
       "      <th>total_pemakaian_per_limit</th>\n",
       "      <th>pemakaian_3bln_per_limit</th>\n",
       "      <th>pemakaian_6bln_per_limit</th>\n",
       "      <th>utilisasi_3bulan</th>\n",
       "      <th>utilisasi_6bulan</th>\n",
       "    </tr>\n",
       "  </thead>\n",
       "  <tbody>\n",
       "    <tr>\n",
       "      <th>0</th>\n",
       "      <td>6188</td>\n",
       "      <td>2</td>\n",
       "      <td>5025000</td>\n",
       "      <td>5000000.0</td>\n",
       "      <td>833333.0</td>\n",
       "      <td>900000.0</td>\n",
       "      <td>538002.0</td>\n",
       "      <td>3290742.0</td>\n",
       "      <td>F</td>\n",
       "      <td>100.0</td>\n",
       "      <td>...</td>\n",
       "      <td>0</td>\n",
       "      <td>6.75</td>\n",
       "      <td>1438002.0</td>\n",
       "      <td>1645371.0</td>\n",
       "      <td>0.658</td>\n",
       "      <td>0.288</td>\n",
       "      <td>0.0322</td>\n",
       "      <td>6.600000e-08</td>\n",
       "      <td>1.0200</td>\n",
       "      <td>1.2000</td>\n",
       "    </tr>\n",
       "    <tr>\n",
       "      <th>1</th>\n",
       "      <td>4783</td>\n",
       "      <td>2</td>\n",
       "      <td>509019</td>\n",
       "      <td>3000000.0</td>\n",
       "      <td>258000.0</td>\n",
       "      <td>0.0</td>\n",
       "      <td>418000.0</td>\n",
       "      <td>0.0</td>\n",
       "      <td>A</td>\n",
       "      <td>0.0</td>\n",
       "      <td>...</td>\n",
       "      <td>0</td>\n",
       "      <td>5.42</td>\n",
       "      <td>418000.0</td>\n",
       "      <td>0.0</td>\n",
       "      <td>0.000</td>\n",
       "      <td>0.139</td>\n",
       "      <td>0.0695</td>\n",
       "      <td>0.000000e+00</td>\n",
       "      <td>0.0897</td>\n",
       "      <td>0.0592</td>\n",
       "    </tr>\n",
       "    <tr>\n",
       "      <th>2</th>\n",
       "      <td>13414</td>\n",
       "      <td>2</td>\n",
       "      <td>5153766</td>\n",
       "      <td>5000000.0</td>\n",
       "      <td>5007495.0</td>\n",
       "      <td>0.0</td>\n",
       "      <td>5019950.0</td>\n",
       "      <td>5515204.0</td>\n",
       "      <td>F</td>\n",
       "      <td>0.0</td>\n",
       "      <td>...</td>\n",
       "      <td>0</td>\n",
       "      <td>7.67</td>\n",
       "      <td>5019950.0</td>\n",
       "      <td>2757602.0</td>\n",
       "      <td>1.100</td>\n",
       "      <td>1.000</td>\n",
       "      <td>0.4390</td>\n",
       "      <td>3.550000e-01</td>\n",
       "      <td>0.6740</td>\n",
       "      <td>0.3630</td>\n",
       "    </tr>\n",
       "    <tr>\n",
       "      <th>3</th>\n",
       "      <td>11819</td>\n",
       "      <td>3</td>\n",
       "      <td>29214412</td>\n",
       "      <td>35000000.0</td>\n",
       "      <td>28509908.0</td>\n",
       "      <td>0.0</td>\n",
       "      <td>4148000.0</td>\n",
       "      <td>29214022.0</td>\n",
       "      <td>A</td>\n",
       "      <td>0.0</td>\n",
       "      <td>...</td>\n",
       "      <td>0</td>\n",
       "      <td>13.70</td>\n",
       "      <td>4148000.0</td>\n",
       "      <td>9738007.0</td>\n",
       "      <td>0.835</td>\n",
       "      <td>0.119</td>\n",
       "      <td>0.0833</td>\n",
       "      <td>3.620000e-02</td>\n",
       "      <td>0.7920</td>\n",
       "      <td>0.7430</td>\n",
       "    </tr>\n",
       "    <tr>\n",
       "      <th>4</th>\n",
       "      <td>7416</td>\n",
       "      <td>2</td>\n",
       "      <td>40929</td>\n",
       "      <td>3000000.0</td>\n",
       "      <td>40100.0</td>\n",
       "      <td>0.0</td>\n",
       "      <td>0.0</td>\n",
       "      <td>0.0</td>\n",
       "      <td>B</td>\n",
       "      <td>0.0</td>\n",
       "      <td>...</td>\n",
       "      <td>0</td>\n",
       "      <td>6.42</td>\n",
       "      <td>0.0</td>\n",
       "      <td>0.0</td>\n",
       "      <td>0.000</td>\n",
       "      <td>0.000</td>\n",
       "      <td>0.0000</td>\n",
       "      <td>0.000000e+00</td>\n",
       "      <td>0.0107</td>\n",
       "      <td>0.0000</td>\n",
       "    </tr>\n",
       "  </tbody>\n",
       "</table>\n",
       "<p>5 rows × 23 columns</p>\n",
       "</div>"
      ],
      "text/plain": [
       "       X  jumlah_kartu  outstanding  limit_kredit     tagihan  \\\n",
       "0   6188             2      5025000     5000000.0    833333.0   \n",
       "1   4783             2       509019     3000000.0    258000.0   \n",
       "2  13414             2      5153766     5000000.0   5007495.0   \n",
       "3  11819             3     29214412    35000000.0  28509908.0   \n",
       "4   7416             2        40929     3000000.0     40100.0   \n",
       "\n",
       "   total_pemakaian_tunai  total_pemakaian_retail  sisa_tagihan_tidak_terbayar  \\\n",
       "0               900000.0                538002.0                    3290742.0   \n",
       "1                    0.0                418000.0                          0.0   \n",
       "2                    0.0               5019950.0                    5515204.0   \n",
       "3                    0.0               4148000.0                   29214022.0   \n",
       "4                    0.0                     0.0                          0.0   \n",
       "\n",
       "  kode_cabang  rasio_pembayaran  ...  skor_delikuensi  \\\n",
       "0           F             100.0  ...                0   \n",
       "1           A               0.0  ...                0   \n",
       "2           F               0.0  ...                0   \n",
       "3           A               0.0  ...                0   \n",
       "4           B               0.0  ...                0   \n",
       "\n",
       "   jumlah_tahun_sejak_pembukaan_kredit  total_pemakaian  \\\n",
       "0                                 6.75        1438002.0   \n",
       "1                                 5.42         418000.0   \n",
       "2                                 7.67        5019950.0   \n",
       "3                                13.70        4148000.0   \n",
       "4                                 6.42              0.0   \n",
       "\n",
       "   sisa_tagihan_per_jumlah_kartu  sisa_tagihan_per_limit  \\\n",
       "0                      1645371.0                   0.658   \n",
       "1                            0.0                   0.000   \n",
       "2                      2757602.0                   1.100   \n",
       "3                      9738007.0                   0.835   \n",
       "4                            0.0                   0.000   \n",
       "\n",
       "   total_pemakaian_per_limit  pemakaian_3bln_per_limit  \\\n",
       "0                      0.288                    0.0322   \n",
       "1                      0.139                    0.0695   \n",
       "2                      1.000                    0.4390   \n",
       "3                      0.119                    0.0833   \n",
       "4                      0.000                    0.0000   \n",
       "\n",
       "   pemakaian_6bln_per_limit  utilisasi_3bulan  utilisasi_6bulan  \n",
       "0              6.600000e-08            1.0200            1.2000  \n",
       "1              0.000000e+00            0.0897            0.0592  \n",
       "2              3.550000e-01            0.6740            0.3630  \n",
       "3              3.620000e-02            0.7920            0.7430  \n",
       "4              0.000000e+00            0.0107            0.0000  \n",
       "\n",
       "[5 rows x 23 columns]"
      ]
     },
     "metadata": {},
     "output_type": "display_data"
    },
    {
     "data": {
      "text/plain": [
       "(150, 23)"
      ]
     },
     "metadata": {},
     "output_type": "display_data"
    }
   ],
   "source": [
    "test_df = pd.read_csv(os.path.join(data_folder, 'npl_credit_scoring_test.csv'))\n",
    "\n",
    "display_df(test_df)"
   ]
  },
  {
   "cell_type": "markdown",
   "metadata": {
    "hidden": true
   },
   "source": [
    "**Berikut ini beberapa overview singkat dari data test.**"
   ]
  },
  {
   "cell_type": "code",
   "execution_count": 11,
   "metadata": {
    "ExecuteTime": {
     "end_time": "2021-08-31T05:41:28.515271Z",
     "start_time": "2021-08-31T05:41:28.500291Z"
    },
    "hidden": true
   },
   "outputs": [
    {
     "name": "stdout",
     "output_type": "stream",
     "text": [
      "<class 'pandas.core.frame.DataFrame'>\n",
      "RangeIndex: 150 entries, 0 to 149\n",
      "Data columns (total 23 columns):\n",
      " #   Column                               Non-Null Count  Dtype  \n",
      "---  ------                               --------------  -----  \n",
      " 0   X                                    150 non-null    int64  \n",
      " 1   jumlah_kartu                         150 non-null    int64  \n",
      " 2   outstanding                          150 non-null    int64  \n",
      " 3   limit_kredit                         150 non-null    float64\n",
      " 4   tagihan                              150 non-null    float64\n",
      " 5   total_pemakaian_tunai                150 non-null    float64\n",
      " 6   total_pemakaian_retail               150 non-null    float64\n",
      " 7   sisa_tagihan_tidak_terbayar          150 non-null    float64\n",
      " 8   kode_cabang                          150 non-null    object \n",
      " 9   rasio_pembayaran                     150 non-null    float64\n",
      " 10  persentasi_overlimit                 150 non-null    float64\n",
      " 11  rasio_pembayaran_3bulan              150 non-null    float64\n",
      " 12  rasio_pembayaran_6bulan              150 non-null    float64\n",
      " 13  skor_delikuensi                      150 non-null    int64  \n",
      " 14  jumlah_tahun_sejak_pembukaan_kredit  150 non-null    float64\n",
      " 15  total_pemakaian                      150 non-null    float64\n",
      " 16  sisa_tagihan_per_jumlah_kartu        150 non-null    float64\n",
      " 17  sisa_tagihan_per_limit               150 non-null    float64\n",
      " 18  total_pemakaian_per_limit            150 non-null    float64\n",
      " 19  pemakaian_3bln_per_limit             150 non-null    float64\n",
      " 20  pemakaian_6bln_per_limit             150 non-null    float64\n",
      " 21  utilisasi_3bulan                     150 non-null    float64\n",
      " 22  utilisasi_6bulan                     150 non-null    float64\n",
      "dtypes: float64(18), int64(4), object(1)\n",
      "memory usage: 27.1+ KB\n"
     ]
    }
   ],
   "source": [
    "test_df.info()"
   ]
  },
  {
   "cell_type": "code",
   "execution_count": 12,
   "metadata": {
    "ExecuteTime": {
     "end_time": "2021-08-31T05:41:28.592096Z",
     "start_time": "2021-08-31T05:41:28.517245Z"
    },
    "hidden": true
   },
   "outputs": [
    {
     "data": {
      "text/html": [
       "<div>\n",
       "<style scoped>\n",
       "    .dataframe tbody tr th:only-of-type {\n",
       "        vertical-align: middle;\n",
       "    }\n",
       "\n",
       "    .dataframe tbody tr th {\n",
       "        vertical-align: top;\n",
       "    }\n",
       "\n",
       "    .dataframe thead th {\n",
       "        text-align: right;\n",
       "    }\n",
       "</style>\n",
       "<table border=\"1\" class=\"dataframe\">\n",
       "  <thead>\n",
       "    <tr style=\"text-align: right;\">\n",
       "      <th></th>\n",
       "      <th>X</th>\n",
       "      <th>jumlah_kartu</th>\n",
       "      <th>outstanding</th>\n",
       "      <th>limit_kredit</th>\n",
       "      <th>tagihan</th>\n",
       "      <th>total_pemakaian_tunai</th>\n",
       "      <th>total_pemakaian_retail</th>\n",
       "      <th>sisa_tagihan_tidak_terbayar</th>\n",
       "      <th>rasio_pembayaran</th>\n",
       "      <th>persentasi_overlimit</th>\n",
       "      <th>...</th>\n",
       "      <th>skor_delikuensi</th>\n",
       "      <th>jumlah_tahun_sejak_pembukaan_kredit</th>\n",
       "      <th>total_pemakaian</th>\n",
       "      <th>sisa_tagihan_per_jumlah_kartu</th>\n",
       "      <th>sisa_tagihan_per_limit</th>\n",
       "      <th>total_pemakaian_per_limit</th>\n",
       "      <th>pemakaian_3bln_per_limit</th>\n",
       "      <th>pemakaian_6bln_per_limit</th>\n",
       "      <th>utilisasi_3bulan</th>\n",
       "      <th>utilisasi_6bulan</th>\n",
       "    </tr>\n",
       "  </thead>\n",
       "  <tbody>\n",
       "    <tr>\n",
       "      <th>count</th>\n",
       "      <td>150.000000</td>\n",
       "      <td>150.000000</td>\n",
       "      <td>1.500000e+02</td>\n",
       "      <td>1.500000e+02</td>\n",
       "      <td>1.500000e+02</td>\n",
       "      <td>1.500000e+02</td>\n",
       "      <td>1.500000e+02</td>\n",
       "      <td>1.500000e+02</td>\n",
       "      <td>150.000000</td>\n",
       "      <td>150.000000</td>\n",
       "      <td>...</td>\n",
       "      <td>150.000000</td>\n",
       "      <td>150.000000</td>\n",
       "      <td>1.500000e+02</td>\n",
       "      <td>1.500000e+02</td>\n",
       "      <td>150.000000</td>\n",
       "      <td>150.000000</td>\n",
       "      <td>150.000000</td>\n",
       "      <td>150.000000</td>\n",
       "      <td>150.000000</td>\n",
       "      <td>150.000000</td>\n",
       "    </tr>\n",
       "    <tr>\n",
       "      <th>mean</th>\n",
       "      <td>7425.926667</td>\n",
       "      <td>2.426667</td>\n",
       "      <td>1.077944e+07</td>\n",
       "      <td>1.956667e+07</td>\n",
       "      <td>7.164982e+06</td>\n",
       "      <td>5.900000e+04</td>\n",
       "      <td>1.365373e+06</td>\n",
       "      <td>8.403871e+06</td>\n",
       "      <td>81.512800</td>\n",
       "      <td>2.971667</td>\n",
       "      <td>...</td>\n",
       "      <td>0.006667</td>\n",
       "      <td>6.432200</td>\n",
       "      <td>1.424373e+06</td>\n",
       "      <td>3.317756e+06</td>\n",
       "      <td>0.459443</td>\n",
       "      <td>0.087215</td>\n",
       "      <td>0.161383</td>\n",
       "      <td>0.173214</td>\n",
       "      <td>0.544561</td>\n",
       "      <td>0.496405</td>\n",
       "    </tr>\n",
       "    <tr>\n",
       "      <th>std</th>\n",
       "      <td>4436.819080</td>\n",
       "      <td>0.797199</td>\n",
       "      <td>1.560297e+07</td>\n",
       "      <td>2.380272e+07</td>\n",
       "      <td>1.048165e+07</td>\n",
       "      <td>3.268761e+05</td>\n",
       "      <td>3.262666e+06</td>\n",
       "      <td>1.546054e+07</td>\n",
       "      <td>343.005366</td>\n",
       "      <td>7.508772</td>\n",
       "      <td>...</td>\n",
       "      <td>0.081650</td>\n",
       "      <td>3.918161</td>\n",
       "      <td>3.257153e+06</td>\n",
       "      <td>6.216436e+06</td>\n",
       "      <td>0.457270</td>\n",
       "      <td>0.139763</td>\n",
       "      <td>0.195670</td>\n",
       "      <td>0.183953</td>\n",
       "      <td>0.371804</td>\n",
       "      <td>0.380026</td>\n",
       "    </tr>\n",
       "    <tr>\n",
       "      <th>min</th>\n",
       "      <td>180.000000</td>\n",
       "      <td>2.000000</td>\n",
       "      <td>2.312000e+04</td>\n",
       "      <td>3.000000e+06</td>\n",
       "      <td>2.300000e+04</td>\n",
       "      <td>0.000000e+00</td>\n",
       "      <td>0.000000e+00</td>\n",
       "      <td>0.000000e+00</td>\n",
       "      <td>0.000000</td>\n",
       "      <td>0.000000</td>\n",
       "      <td>...</td>\n",
       "      <td>0.000000</td>\n",
       "      <td>0.750000</td>\n",
       "      <td>0.000000e+00</td>\n",
       "      <td>0.000000e+00</td>\n",
       "      <td>0.000000</td>\n",
       "      <td>0.000000</td>\n",
       "      <td>0.000000</td>\n",
       "      <td>0.000000</td>\n",
       "      <td>0.001290</td>\n",
       "      <td>0.000000</td>\n",
       "    </tr>\n",
       "    <tr>\n",
       "      <th>25%</th>\n",
       "      <td>3708.250000</td>\n",
       "      <td>2.000000</td>\n",
       "      <td>2.257512e+06</td>\n",
       "      <td>5.000000e+06</td>\n",
       "      <td>1.138527e+06</td>\n",
       "      <td>0.000000e+00</td>\n",
       "      <td>0.000000e+00</td>\n",
       "      <td>0.000000e+00</td>\n",
       "      <td>0.000000</td>\n",
       "      <td>0.000000</td>\n",
       "      <td>...</td>\n",
       "      <td>0.000000</td>\n",
       "      <td>3.330000</td>\n",
       "      <td>0.000000e+00</td>\n",
       "      <td>0.000000e+00</td>\n",
       "      <td>0.000000</td>\n",
       "      <td>0.000000</td>\n",
       "      <td>0.044226</td>\n",
       "      <td>0.032300</td>\n",
       "      <td>0.197961</td>\n",
       "      <td>0.169000</td>\n",
       "    </tr>\n",
       "    <tr>\n",
       "      <th>50%</th>\n",
       "      <td>7384.000000</td>\n",
       "      <td>2.000000</td>\n",
       "      <td>5.038225e+06</td>\n",
       "      <td>9.000000e+06</td>\n",
       "      <td>3.462150e+06</td>\n",
       "      <td>0.000000e+00</td>\n",
       "      <td>1.758790e+05</td>\n",
       "      <td>2.899340e+06</td>\n",
       "      <td>40.450000</td>\n",
       "      <td>0.000000</td>\n",
       "      <td>...</td>\n",
       "      <td>0.000000</td>\n",
       "      <td>5.500000</td>\n",
       "      <td>2.474190e+05</td>\n",
       "      <td>1.209952e+06</td>\n",
       "      <td>0.291500</td>\n",
       "      <td>0.024900</td>\n",
       "      <td>0.103150</td>\n",
       "      <td>0.109000</td>\n",
       "      <td>0.504500</td>\n",
       "      <td>0.428000</td>\n",
       "    </tr>\n",
       "    <tr>\n",
       "      <th>75%</th>\n",
       "      <td>11177.500000</td>\n",
       "      <td>3.000000</td>\n",
       "      <td>1.267008e+07</td>\n",
       "      <td>2.000000e+07</td>\n",
       "      <td>7.161343e+06</td>\n",
       "      <td>0.000000e+00</td>\n",
       "      <td>1.080250e+06</td>\n",
       "      <td>8.133821e+06</td>\n",
       "      <td>100.000000</td>\n",
       "      <td>0.000000</td>\n",
       "      <td>...</td>\n",
       "      <td>0.000000</td>\n",
       "      <td>8.957500</td>\n",
       "      <td>1.416973e+06</td>\n",
       "      <td>3.595408e+06</td>\n",
       "      <td>0.914887</td>\n",
       "      <td>0.121250</td>\n",
       "      <td>0.212014</td>\n",
       "      <td>0.281750</td>\n",
       "      <td>0.916274</td>\n",
       "      <td>0.834750</td>\n",
       "    </tr>\n",
       "    <tr>\n",
       "      <th>max</th>\n",
       "      <td>15347.000000</td>\n",
       "      <td>6.000000</td>\n",
       "      <td>9.859690e+07</td>\n",
       "      <td>1.200000e+08</td>\n",
       "      <td>6.276755e+07</td>\n",
       "      <td>3.000000e+06</td>\n",
       "      <td>2.143566e+07</td>\n",
       "      <td>9.213385e+07</td>\n",
       "      <td>4198.850000</td>\n",
       "      <td>52.600000</td>\n",
       "      <td>...</td>\n",
       "      <td>1.000000</td>\n",
       "      <td>19.100000</td>\n",
       "      <td>2.143566e+07</td>\n",
       "      <td>4.606692e+07</td>\n",
       "      <td>1.410000</td>\n",
       "      <td>1.000000</td>\n",
       "      <td>1.700000</td>\n",
       "      <td>0.955000</td>\n",
       "      <td>1.280000</td>\n",
       "      <td>1.440000</td>\n",
       "    </tr>\n",
       "  </tbody>\n",
       "</table>\n",
       "<p>8 rows × 22 columns</p>\n",
       "</div>"
      ],
      "text/plain": [
       "                  X  jumlah_kartu   outstanding  limit_kredit       tagihan  \\\n",
       "count    150.000000    150.000000  1.500000e+02  1.500000e+02  1.500000e+02   \n",
       "mean    7425.926667      2.426667  1.077944e+07  1.956667e+07  7.164982e+06   \n",
       "std     4436.819080      0.797199  1.560297e+07  2.380272e+07  1.048165e+07   \n",
       "min      180.000000      2.000000  2.312000e+04  3.000000e+06  2.300000e+04   \n",
       "25%     3708.250000      2.000000  2.257512e+06  5.000000e+06  1.138527e+06   \n",
       "50%     7384.000000      2.000000  5.038225e+06  9.000000e+06  3.462150e+06   \n",
       "75%    11177.500000      3.000000  1.267008e+07  2.000000e+07  7.161343e+06   \n",
       "max    15347.000000      6.000000  9.859690e+07  1.200000e+08  6.276755e+07   \n",
       "\n",
       "       total_pemakaian_tunai  total_pemakaian_retail  \\\n",
       "count           1.500000e+02            1.500000e+02   \n",
       "mean            5.900000e+04            1.365373e+06   \n",
       "std             3.268761e+05            3.262666e+06   \n",
       "min             0.000000e+00            0.000000e+00   \n",
       "25%             0.000000e+00            0.000000e+00   \n",
       "50%             0.000000e+00            1.758790e+05   \n",
       "75%             0.000000e+00            1.080250e+06   \n",
       "max             3.000000e+06            2.143566e+07   \n",
       "\n",
       "       sisa_tagihan_tidak_terbayar  rasio_pembayaran  persentasi_overlimit  \\\n",
       "count                 1.500000e+02        150.000000            150.000000   \n",
       "mean                  8.403871e+06         81.512800              2.971667   \n",
       "std                   1.546054e+07        343.005366              7.508772   \n",
       "min                   0.000000e+00          0.000000              0.000000   \n",
       "25%                   0.000000e+00          0.000000              0.000000   \n",
       "50%                   2.899340e+06         40.450000              0.000000   \n",
       "75%                   8.133821e+06        100.000000              0.000000   \n",
       "max                   9.213385e+07       4198.850000             52.600000   \n",
       "\n",
       "       ...  skor_delikuensi  jumlah_tahun_sejak_pembukaan_kredit  \\\n",
       "count  ...       150.000000                           150.000000   \n",
       "mean   ...         0.006667                             6.432200   \n",
       "std    ...         0.081650                             3.918161   \n",
       "min    ...         0.000000                             0.750000   \n",
       "25%    ...         0.000000                             3.330000   \n",
       "50%    ...         0.000000                             5.500000   \n",
       "75%    ...         0.000000                             8.957500   \n",
       "max    ...         1.000000                            19.100000   \n",
       "\n",
       "       total_pemakaian  sisa_tagihan_per_jumlah_kartu  sisa_tagihan_per_limit  \\\n",
       "count     1.500000e+02                   1.500000e+02              150.000000   \n",
       "mean      1.424373e+06                   3.317756e+06                0.459443   \n",
       "std       3.257153e+06                   6.216436e+06                0.457270   \n",
       "min       0.000000e+00                   0.000000e+00                0.000000   \n",
       "25%       0.000000e+00                   0.000000e+00                0.000000   \n",
       "50%       2.474190e+05                   1.209952e+06                0.291500   \n",
       "75%       1.416973e+06                   3.595408e+06                0.914887   \n",
       "max       2.143566e+07                   4.606692e+07                1.410000   \n",
       "\n",
       "       total_pemakaian_per_limit  pemakaian_3bln_per_limit  \\\n",
       "count                 150.000000                150.000000   \n",
       "mean                    0.087215                  0.161383   \n",
       "std                     0.139763                  0.195670   \n",
       "min                     0.000000                  0.000000   \n",
       "25%                     0.000000                  0.044226   \n",
       "50%                     0.024900                  0.103150   \n",
       "75%                     0.121250                  0.212014   \n",
       "max                     1.000000                  1.700000   \n",
       "\n",
       "       pemakaian_6bln_per_limit  utilisasi_3bulan  utilisasi_6bulan  \n",
       "count                150.000000        150.000000        150.000000  \n",
       "mean                   0.173214          0.544561          0.496405  \n",
       "std                    0.183953          0.371804          0.380026  \n",
       "min                    0.000000          0.001290          0.000000  \n",
       "25%                    0.032300          0.197961          0.169000  \n",
       "50%                    0.109000          0.504500          0.428000  \n",
       "75%                    0.281750          0.916274          0.834750  \n",
       "max                    0.955000          1.280000          1.440000  \n",
       "\n",
       "[8 rows x 22 columns]"
      ]
     },
     "execution_count": 12,
     "metadata": {},
     "output_type": "execute_result"
    }
   ],
   "source": [
    "test_df.describe()"
   ]
  },
  {
   "cell_type": "markdown",
   "metadata": {
    "heading_collapsed": true,
    "hidden": true
   },
   "source": [
    "### **Mengenai Kolom `X`**"
   ]
  },
  {
   "cell_type": "markdown",
   "metadata": {
    "hidden": true
   },
   "source": [
    "**Kolom `X` diduga adalah kolom index yang tersisa setelah split data train dan test.**\n",
    "\n",
    "Kecurigaan ini didasarkan karena kolom `X` pada data train, jika diurutkan, cukup runtut dari angka 1 hingg 15,493. Angka akhir 15,493 sendiri diduga berasal dari 15,343 baris panjang data train + 150 baris panjang data test."
   ]
  },
  {
   "cell_type": "code",
   "execution_count": 13,
   "metadata": {
    "ExecuteTime": {
     "end_time": "2021-08-31T05:41:28.607030Z",
     "start_time": "2021-08-31T05:41:28.593042Z"
    },
    "hidden": true
   },
   "outputs": [
    {
     "data": {
      "text/plain": [
       "3896         1\n",
       "8879         2\n",
       "2375         3\n",
       "9051         4\n",
       "13545        5\n",
       "         ...  \n",
       "6627     15489\n",
       "2797     15490\n",
       "13932    15491\n",
       "9787     15492\n",
       "6909     15493\n",
       "Name: X, Length: 15343, dtype: int64"
      ]
     },
     "execution_count": 13,
     "metadata": {},
     "output_type": "execute_result"
    }
   ],
   "source": [
    "train_df['X'].sort_values()"
   ]
  },
  {
   "cell_type": "markdown",
   "metadata": {
    "hidden": true
   },
   "source": [
    "**Berdasarkan hasil pengecekan, dugaan tersebut tepat.**\n",
    "\n",
    "Apabila kolom `X` di kedua data digabung dan diurutkan, kemudian dibandingkan dengan angka berurutan dari angka 1 hingga 15,493 menggunakan np.arange(), maka ditemukan bahwa setiap nilai dalam kolom `X` cocok dengan teori sebelumnya."
   ]
  },
  {
   "cell_type": "code",
   "execution_count": 14,
   "metadata": {
    "ExecuteTime": {
     "end_time": "2021-08-31T05:41:28.638951Z",
     "start_time": "2021-08-31T05:41:28.609002Z"
    },
    "hidden": true
   },
   "outputs": [
    {
     "name": "stdout",
     "output_type": "stream",
     "text": [
      "Apakah kolom X sebenarnya hanyalah kolom index biasa?\n",
      "True\n"
     ]
    }
   ],
   "source": [
    "combined_X = pd.concat([train_df['X'], test_df['X']])\n",
    "\n",
    "print('Apakah kolom X sebenarnya hanyalah kolom index biasa?')\n",
    "print(np.all(combined_X.sort_values() == np.arange(1, len(train_df) + len(test_df) + 1)))"
   ]
  },
  {
   "cell_type": "markdown",
   "metadata": {
    "hidden": true
   },
   "source": [
    "**Kolom `X` akan dikeluarkan dari data train dan test.**\n",
    "\n",
    "Karena sudah ada index yang urut dari data train dan test yang diciptakan oleh `pandas` saat data dibaca masuk, sementara data train dan test diperkirakan tidak akan berinteraksi lagi di masa depan yang membutuhkan kolom `X`, maka kolom `X` akan dihapus dari kedua data agar tidak ada index yang redundan."
   ]
  },
  {
   "cell_type": "code",
   "execution_count": 15,
   "metadata": {
    "ExecuteTime": {
     "end_time": "2021-08-31T05:41:28.654480Z",
     "start_time": "2021-08-31T05:41:28.639917Z"
    },
    "hidden": true
   },
   "outputs": [
    {
     "name": "stdout",
     "output_type": "stream",
     "text": [
      "Kolom X telah berhasil dihapus dari data train dan test!\n"
     ]
    }
   ],
   "source": [
    "train_df.drop('X', axis = 1, inplace = True)\n",
    "test_df.drop('X', axis = 1, inplace = True)\n",
    "\n",
    "print('Kolom X telah berhasil dihapus dari data train dan test!')"
   ]
  },
  {
   "cell_type": "markdown",
   "metadata": {
    "heading_collapsed": true,
    "hidden": true,
    "id": "fd42oBYAJ_ld"
   },
   "source": [
    "## **Problem Statement**"
   ]
  },
  {
   "cell_type": "markdown",
   "metadata": {
    "hidden": true,
    "id": "1b0-dMMOJ_le"
   },
   "source": [
    "<u>**Berikut ini adalah masalah yang menjadi background case study kali ini:**</u>\n",
    "\n",
    "- Data yang kita miliki sekarang adalah data dari Bank A, dimana sebagian besar kolomnya nampaknya berputar sekitar data penggunaan kartu kredit nasabah Bank A.\n",
    "<br /><br />\n",
    "- Dengan data yang telah kita baca di atas, <u>**Bank A ingin agar kita menciptakan sistem penilaian kelayakan kredit secara otomatis**</u> yang bisa memberikan rekomendasi menerima atau menolak pengajuan kredit nasabah, di mana rekomendasi ini dibuat melalui **prediksi kita tentang potensi kredit macet** dari nasabah tersebut. \n",
    "<br /><br />\n",
    "- Selain itu, karena ini adalah kasus _credit scoring_, maka jika kita salah <u>**memprediksi seharusnya macet menjadi tidak macet**</u>, maka itu akan **menyebabkan kerugian yang besar pada Bank A** sehingga hal itu hendaknya dihindari."
   ]
  },
  {
   "cell_type": "markdown",
   "metadata": {
    "hidden": true
   },
   "source": [
    "<u>**Jika diterjemahkan dalam teknik machine learning, berarti:**</u>\n",
    "- Kita memiliki _**classification problem**_, di mana\n",
    "- **Variabel target kita adalah `flag_kredit_macet`** seperti ditemukan di pembacaan data sebelumnya, serta\n",
    "- Goal kita adalah **memprediksi dengan meminimalisasi _false negative_** juga, di mana aspek tersebut dapat dinilai melalui **metrik _recall_**."
   ]
  },
  {
   "cell_type": "markdown",
   "metadata": {
    "hidden": true
   },
   "source": [
    "**Ada beberapa pertanyaan yang dapat kita cari jawabannya sambil kita menciptakan model:**\n",
    "- Faktor-faktor apa saja yang dapat memprediksi nasabah yang akan kredit macet?\n",
    "- Apakah ada pola yang dapat membantu kita untuk mengantisipasi nasabah akan kredit macet?\n"
   ]
  },
  {
   "cell_type": "markdown",
   "metadata": {
    "heading_collapsed": true,
    "hidden": true,
    "id": "1LTjPkJzJ_lh"
   },
   "source": [
    "## **Exploratory Data Analysis**"
   ]
  },
  {
   "cell_type": "markdown",
   "metadata": {
    "hidden": true
   },
   "source": [
    "**Sebelum memulai EDA, `plot_df` diciptakan untuk hasil plot yang lebih bersih.**\n",
    "\n",
    "Karena secara default, nama kolom akan dijadikan label axis, maka diciptakan `plot_df` yang memiliki nama kolom yang lebih rapi untuk plot. Selain itu, nilai dari variabel target `flag_kredit_macet` juga diganti menjadi \"Ya\" dan \"Tidak\" dan diset sebagai tipe data `category` untuk tujuan plot yang lebih mudah diinterpretasi pula."
   ]
  },
  {
   "cell_type": "code",
   "execution_count": 16,
   "metadata": {
    "ExecuteTime": {
     "end_time": "2021-08-31T05:41:28.686399Z",
     "start_time": "2021-08-31T05:41:28.656479Z"
    },
    "hidden": true
   },
   "outputs": [
    {
     "data": {
      "text/html": [
       "<div>\n",
       "<style scoped>\n",
       "    .dataframe tbody tr th:only-of-type {\n",
       "        vertical-align: middle;\n",
       "    }\n",
       "\n",
       "    .dataframe tbody tr th {\n",
       "        vertical-align: top;\n",
       "    }\n",
       "\n",
       "    .dataframe thead th {\n",
       "        text-align: right;\n",
       "    }\n",
       "</style>\n",
       "<table border=\"1\" class=\"dataframe\">\n",
       "  <thead>\n",
       "    <tr style=\"text-align: right;\">\n",
       "      <th></th>\n",
       "      <th>Jumlah Kartu</th>\n",
       "      <th>Outstanding</th>\n",
       "      <th>Limit Kredit</th>\n",
       "      <th>Tagihan</th>\n",
       "      <th>Total Pemakaian Tunai</th>\n",
       "      <th>Total Pemakaian Retail</th>\n",
       "      <th>Sisa Tagihan Tidak Terbayar</th>\n",
       "      <th>Kode Cabang</th>\n",
       "      <th>Rasio Pembayaran</th>\n",
       "      <th>Persentase Overlimit</th>\n",
       "      <th>...</th>\n",
       "      <th>Flag Kredit Macet</th>\n",
       "      <th>Jumlah Tahun Sejak Pembukaan Kredit</th>\n",
       "      <th>Total Pemakaian</th>\n",
       "      <th>Sisa Tagihan Per Jumlah Kartu</th>\n",
       "      <th>Sisa Tagihan Per Limit</th>\n",
       "      <th>Total Pemakaian Per Limit</th>\n",
       "      <th>Pemakaian 3 Bulan Per Limit</th>\n",
       "      <th>Pemakaian 6 Bulan Per Limit</th>\n",
       "      <th>Utilisasi 3 Bulan</th>\n",
       "      <th>Utilisasi 6 Bulan</th>\n",
       "    </tr>\n",
       "  </thead>\n",
       "  <tbody>\n",
       "    <tr>\n",
       "      <th>0</th>\n",
       "      <td>5</td>\n",
       "      <td>5972272</td>\n",
       "      <td>6000000.0</td>\n",
       "      <td>5068230.0</td>\n",
       "      <td>0.0</td>\n",
       "      <td>0.0</td>\n",
       "      <td>5206434.0</td>\n",
       "      <td>NaN</td>\n",
       "      <td>12.19</td>\n",
       "      <td>0.00</td>\n",
       "      <td>...</td>\n",
       "      <td>Tidak</td>\n",
       "      <td>9.916667</td>\n",
       "      <td>0.0</td>\n",
       "      <td>1041286.8</td>\n",
       "      <td>0.867739</td>\n",
       "      <td>0.000000</td>\n",
       "      <td>0.059401</td>\n",
       "      <td>0.041536</td>\n",
       "      <td>0.919164</td>\n",
       "      <td>0.919635</td>\n",
       "    </tr>\n",
       "    <tr>\n",
       "      <th>1</th>\n",
       "      <td>2</td>\n",
       "      <td>136453</td>\n",
       "      <td>65000000.0</td>\n",
       "      <td>128750.0</td>\n",
       "      <td>0.0</td>\n",
       "      <td>0.0</td>\n",
       "      <td>0.0</td>\n",
       "      <td>NaN</td>\n",
       "      <td>100.00</td>\n",
       "      <td>0.00</td>\n",
       "      <td>...</td>\n",
       "      <td>Tidak</td>\n",
       "      <td>3.500000</td>\n",
       "      <td>0.0</td>\n",
       "      <td>0.0</td>\n",
       "      <td>0.000000</td>\n",
       "      <td>0.000000</td>\n",
       "      <td>0.023722</td>\n",
       "      <td>0.013271</td>\n",
       "      <td>0.022847</td>\n",
       "      <td>0.007724</td>\n",
       "    </tr>\n",
       "    <tr>\n",
       "      <th>2</th>\n",
       "      <td>1</td>\n",
       "      <td>1354080</td>\n",
       "      <td>3000000.0</td>\n",
       "      <td>1369203.0</td>\n",
       "      <td>0.0</td>\n",
       "      <td>15000.0</td>\n",
       "      <td>0.0</td>\n",
       "      <td>NaN</td>\n",
       "      <td>100.00</td>\n",
       "      <td>0.00</td>\n",
       "      <td>...</td>\n",
       "      <td>Tidak</td>\n",
       "      <td>8.500000</td>\n",
       "      <td>15000.0</td>\n",
       "      <td>0.0</td>\n",
       "      <td>0.000000</td>\n",
       "      <td>0.005000</td>\n",
       "      <td>0.145833</td>\n",
       "      <td>0.000000</td>\n",
       "      <td>0.627426</td>\n",
       "      <td>0.899309</td>\n",
       "    </tr>\n",
       "    <tr>\n",
       "      <th>3</th>\n",
       "      <td>2</td>\n",
       "      <td>1076660</td>\n",
       "      <td>49000000.0</td>\n",
       "      <td>752108.0</td>\n",
       "      <td>0.0</td>\n",
       "      <td>775440.0</td>\n",
       "      <td>0.0</td>\n",
       "      <td>NaN</td>\n",
       "      <td>99.07</td>\n",
       "      <td>0.00</td>\n",
       "      <td>...</td>\n",
       "      <td>Tidak</td>\n",
       "      <td>4.333333</td>\n",
       "      <td>775440.0</td>\n",
       "      <td>0.0</td>\n",
       "      <td>0.000000</td>\n",
       "      <td>0.015825</td>\n",
       "      <td>0.017617</td>\n",
       "      <td>0.177094</td>\n",
       "      <td>0.013699</td>\n",
       "      <td>0.255363</td>\n",
       "    </tr>\n",
       "    <tr>\n",
       "      <th>4</th>\n",
       "      <td>3</td>\n",
       "      <td>42281368</td>\n",
       "      <td>34000000.0</td>\n",
       "      <td>43130581.0</td>\n",
       "      <td>0.0</td>\n",
       "      <td>0.0</td>\n",
       "      <td>41144841.0</td>\n",
       "      <td>NaN</td>\n",
       "      <td>0.00</td>\n",
       "      <td>22.63</td>\n",
       "      <td>...</td>\n",
       "      <td>Ya</td>\n",
       "      <td>7.000000</td>\n",
       "      <td>0.0</td>\n",
       "      <td>13714947.0</td>\n",
       "      <td>1.210142</td>\n",
       "      <td>0.000000</td>\n",
       "      <td>0.412361</td>\n",
       "      <td>0.014556</td>\n",
       "      <td>1.205087</td>\n",
       "      <td>1.116092</td>\n",
       "    </tr>\n",
       "  </tbody>\n",
       "</table>\n",
       "<p>5 rows × 23 columns</p>\n",
       "</div>"
      ],
      "text/plain": [
       "   Jumlah Kartu  Outstanding  Limit Kredit     Tagihan  Total Pemakaian Tunai  \\\n",
       "0             5      5972272     6000000.0   5068230.0                    0.0   \n",
       "1             2       136453    65000000.0    128750.0                    0.0   \n",
       "2             1      1354080     3000000.0   1369203.0                    0.0   \n",
       "3             2      1076660    49000000.0    752108.0                    0.0   \n",
       "4             3     42281368    34000000.0  43130581.0                    0.0   \n",
       "\n",
       "   Total Pemakaian Retail  Sisa Tagihan Tidak Terbayar Kode Cabang  \\\n",
       "0                     0.0                    5206434.0         NaN   \n",
       "1                     0.0                          0.0         NaN   \n",
       "2                 15000.0                          0.0         NaN   \n",
       "3                775440.0                          0.0         NaN   \n",
       "4                     0.0                   41144841.0         NaN   \n",
       "\n",
       "   Rasio Pembayaran  Persentase Overlimit  ...  Flag Kredit Macet  \\\n",
       "0             12.19                  0.00  ...              Tidak   \n",
       "1            100.00                  0.00  ...              Tidak   \n",
       "2            100.00                  0.00  ...              Tidak   \n",
       "3             99.07                  0.00  ...              Tidak   \n",
       "4              0.00                 22.63  ...                 Ya   \n",
       "\n",
       "   Jumlah Tahun Sejak Pembukaan Kredit  Total Pemakaian  \\\n",
       "0                             9.916667              0.0   \n",
       "1                             3.500000              0.0   \n",
       "2                             8.500000          15000.0   \n",
       "3                             4.333333         775440.0   \n",
       "4                             7.000000              0.0   \n",
       "\n",
       "  Sisa Tagihan Per Jumlah Kartu  Sisa Tagihan Per Limit  \\\n",
       "0                     1041286.8                0.867739   \n",
       "1                           0.0                0.000000   \n",
       "2                           0.0                0.000000   \n",
       "3                           0.0                0.000000   \n",
       "4                    13714947.0                1.210142   \n",
       "\n",
       "   Total Pemakaian Per Limit  Pemakaian 3 Bulan Per Limit  \\\n",
       "0                   0.000000                     0.059401   \n",
       "1                   0.000000                     0.023722   \n",
       "2                   0.005000                     0.145833   \n",
       "3                   0.015825                     0.017617   \n",
       "4                   0.000000                     0.412361   \n",
       "\n",
       "   Pemakaian 6 Bulan Per Limit  Utilisasi 3 Bulan  Utilisasi 6 Bulan  \n",
       "0                     0.041536           0.919164           0.919635  \n",
       "1                     0.013271           0.022847           0.007724  \n",
       "2                     0.000000           0.627426           0.899309  \n",
       "3                     0.177094           0.013699           0.255363  \n",
       "4                     0.014556           1.205087           1.116092  \n",
       "\n",
       "[5 rows x 23 columns]"
      ]
     },
     "metadata": {},
     "output_type": "display_data"
    },
    {
     "data": {
      "text/plain": [
       "(15343, 23)"
      ]
     },
     "metadata": {},
     "output_type": "display_data"
    }
   ],
   "source": [
    "plot_df = train_df.copy()\n",
    "\n",
    "plot_df.columns = plot_df.columns.\\\n",
    "    str.replace('_', ' ').str.title().\\\n",
    "    str.replace('(\\d)(Bln|Bulan)', '\\\\1 Bulan', regex = True)\n",
    "\n",
    "plot_df.rename(columns = {'Persentasi Overlimit': 'Persentase Overlimit'}, \n",
    "               inplace = True)\n",
    "\n",
    "plot_df['Flag Kredit Macet'] = pd.Categorical(plot_df['Flag Kredit Macet'].\\\n",
    "    replace({0: 'Tidak', 1: 'Ya'}), categories = ['Ya', 'Tidak'])\n",
    "\n",
    "display_df(plot_df)"
   ]
  },
  {
   "cell_type": "markdown",
   "metadata": {
    "hidden": true
   },
   "source": [
    "<u>**NOTE PENTING: Mengapa banyak digunakan bar plot vs box plot di bawah ini?**</u>\n",
    "\n",
    "Setelah mencocokkan antara angka rawnya (menggunakan `df.describe()`) dengan hasil bar plot dan box plot, ada cukup banyak angka dalam `train_df` yang masuk di atas right/top whisker dari box plot dan bertumpuk-tumpuk. \n",
    "\n",
    "Kelemahan dari box plot sebenarnya adalah ketika data pointnya sudah masuk \"outlier\", tidak terlihat sebenarnya ada berapa banyak outlier tersebut. Ini bisa diatasi oleh swarm plot atau sejenisnya, tetapi swarm plot dengan ribuan data sangat lama loadingnya. Oleh karena itu, untuk mengakalinya akan digunakan lebih banyak bar plot di bawah ini. Namun, apabila kolom yang sedang dianalisis lebih cocok dengan box plot, maka box plot akan digunakan di bawah ini."
   ]
  },
  {
   "cell_type": "code",
   "execution_count": 17,
   "metadata": {
    "ExecuteTime": {
     "end_time": "2021-08-31T05:41:29.830167Z",
     "start_time": "2021-08-31T05:41:28.687397Z"
    },
    "hidden": true
   },
   "outputs": [
    {
     "data": {
      "image/png": "[encoded data removed]",
      "text/plain": [
       "<Figure size 720x720 with 4 Axes>"
      ]
     },
     "metadata": {},
     "output_type": "display_data"
    }
   ],
   "source": [
    "fig, axes = plt.subplots(2, 2, figsize = (10, 10))\n",
    "\n",
    "sns.boxplot(x = 'Flag Kredit Macet', y = 'Limit Kredit', \n",
    "            ax = axes[0, 0],\n",
    "            data = plot_df)\n",
    "\n",
    "sns.barplot(x = 'Flag Kredit Macet', y = 'Limit Kredit', \n",
    "            ax = axes[0, 1], # line selanjutnya akan menghilangkan dampak outlier terbesar\n",
    "            data = plot_df[plot_df['Limit Kredit'] <= (0.8 * 10 ** 9)])\n",
    "\n",
    "sns.histplot(x = 'Limit Kredit',\n",
    "             data = plot_df[(plot_df['Flag Kredit Macet'] == 'Ya') & (plot_df['Limit Kredit'] <= (0.8 * 10 ** 9))], \n",
    "             ax = axes[1, 0]).\\\n",
    "    set(xlabel = 'Limit Kredit Nasabah Kredit Macet', ylabel = 'Jumlah Nasabah')\n",
    "\n",
    "sns.histplot(x = 'Limit Kredit', \n",
    "             data = plot_df[plot_df['Flag Kredit Macet'] == 'Tidak'], \n",
    "             ax = axes[1, 1]).\\\n",
    "    set(xlabel = 'Limit Kredit Nasabah Non-Kredit Macet', ylabel = 'Jumlah Nasabah')\n",
    "\n",
    "plt.show()"
   ]
  },
  {
   "cell_type": "markdown",
   "metadata": {
    "hidden": true
   },
   "source": [
    "Berikut ini contohnya, dimana secara box plot nampaknya nasabah kredit macet memiliki limit kredit lebih rendah, padahal sebenarnya jika dihitung rata-ratanya ternyata relatif lebih tinggi (bahkan setelah mengkompensasi outlier terekstrem nasabah kredit macet!).\n",
    "\n",
    "**Mungkin ada teknik lain untuk mengakalinya atau penjelasan yang tidak penulis ketahui**, namun untuk sekarang bar plot nampaknya trade-off yang cukup baik, terutama dalam presentasi yang langsung ke _takeaway_."
   ]
  },
  {
   "cell_type": "markdown",
   "metadata": {
    "hidden": true
   },
   "source": [
    "### **Flag Kredit Macet**"
   ]
  },
  {
   "cell_type": "markdown",
   "metadata": {
    "hidden": true
   },
   "source": [
    "**Berapa proporsi nasabah yang mengalami kredit macet dalam data?**"
   ]
  },
  {
   "cell_type": "code",
   "execution_count": 18,
   "metadata": {
    "ExecuteTime": {
     "end_time": "2021-08-31T05:41:29.938560Z",
     "start_time": "2021-08-31T05:41:29.831177Z"
    },
    "hidden": true
   },
   "outputs": [
    {
     "data": {
      "image/png": "[encoded data removed]",
      "text/plain": [
       "<Figure size 432x432 with 1 Axes>"
      ]
     },
     "metadata": {},
     "output_type": "display_data"
    }
   ],
   "source": [
    "plt.figure(figsize = (6, 6))\n",
    "plot_df['Flag Kredit Macet'].value_counts().plot.pie(autopct = '%1.1f%%')\n",
    "\n",
    "plt.show()"
   ]
  },
  {
   "cell_type": "markdown",
   "metadata": {
    "hidden": true
   },
   "source": [
    "**Data ini memiliki imbalanced class dalam variabel targetnya.**\n",
    "\n",
    "Ada jauh lebih banyak nasabah dengan kredit tidak macet dibandingkan nasabah kredit macet. Kemungkinan besar, ini akan perlu ditangani nanti."
   ]
  },
  {
   "cell_type": "markdown",
   "metadata": {
    "heading_collapsed": true,
    "hidden": true
   },
   "source": [
    "### **Kemampuan Membayar**"
   ]
  },
  {
   "cell_type": "markdown",
   "metadata": {
    "ExecuteTime": {
     "end_time": "2021-08-30T01:22:06.771392Z",
     "start_time": "2021-08-30T01:22:06.756954Z"
    },
    "hidden": true
   },
   "source": [
    "**Apakah kredit macet berhubungan dengan sisa tagihan tidak terbayar?**\n",
    "\n",
    "Definisi _non-performing loans_ atau kredit macet umumnya memerlukan kredit yang sudah 3-6 bulan yang tidak dibayar oleh nasabah, sehingga keberadaan tagihan tidak terbayar dapat menjadi tanda awal yang baik dari kemungkinan kredit macet."
   ]
  },
  {
   "cell_type": "code",
   "execution_count": 19,
   "metadata": {
    "ExecuteTime": {
     "end_time": "2021-08-31T05:41:30.161002Z",
     "start_time": "2021-08-31T05:41:29.940593Z"
    },
    "hidden": true,
    "scrolled": true
   },
   "outputs": [
    {
     "data": {
      "image/png": "[encoded data removed]",
      "text/plain": [
       "<Figure size 360x360 with 1 Axes>"
      ]
     },
     "metadata": {},
     "output_type": "display_data"
    }
   ],
   "source": [
    "plt.figure(figsize = (5, 5))\n",
    "\n",
    "sns.barplot(x = 'Flag Kredit Macet', y = 'Sisa Tagihan Tidak Terbayar', \n",
    "            data = plot_df)\n",
    "\n",
    "plt.show()"
   ]
  },
  {
   "cell_type": "markdown",
   "metadata": {
    "hidden": true
   },
   "source": [
    "<u>**Nasabah dengan kredit macet memiliki sisa tagihan tidak terbayar yang lebih tinggi!**</u>"
   ]
  },
  {
   "cell_type": "markdown",
   "metadata": {
    "hidden": true
   },
   "source": [
    "**Apakah rasio pembayaran nasabah dengan kredit macet juga lebih rendah?**\n",
    "\n",
    "Kesulitan untuk membayar keseluruhan tagihan juga merupakan pertanda nasabah akan kredit macet yang bagus."
   ]
  },
  {
   "cell_type": "code",
   "execution_count": 20,
   "metadata": {
    "ExecuteTime": {
     "end_time": "2021-08-31T05:41:30.757450Z",
     "start_time": "2021-08-31T05:41:30.163001Z"
    },
    "hidden": true
   },
   "outputs": [
    {
     "data": {
      "image/png": "[encoded data removed]",
      "text/plain": [
       "<Figure size 1080x360 with 3 Axes>"
      ]
     },
     "metadata": {},
     "output_type": "display_data"
    }
   ],
   "source": [
    "fig, axes = plt.subplots(1, 3, figsize = (15, 5))\n",
    "\n",
    "sns.barplot(x = 'Flag Kredit Macet', y = 'Rasio Pembayaran 6 Bulan', \n",
    "            data = plot_df[plot_df['Rasio Pembayaran 6 Bulan'] >= 0], ax = axes[0])\n",
    "\n",
    "sns.barplot(x = 'Flag Kredit Macet', y = 'Rasio Pembayaran 3 Bulan', \n",
    "            data = plot_df, ax = axes[1])\n",
    "\n",
    "sns.barplot(x = 'Flag Kredit Macet', y = 'Rasio Pembayaran', \n",
    "            data = plot_df, ax = axes[2])\n",
    "\n",
    "plt.show()"
   ]
  },
  {
   "cell_type": "markdown",
   "metadata": {
    "hidden": true
   },
   "source": [
    "<u>**Secara garis besar, nasabah kredit macet memang memiliki rasio pembayaran yang lebih rendah!**</u>\n",
    "\n",
    "Serta, nampaknya ada nilai minus yang janggal pada rasio pembayaran 6 bulan..."
   ]
  },
  {
   "cell_type": "markdown",
   "metadata": {
    "ExecuteTime": {
     "end_time": "2021-08-30T01:25:50.225286Z",
     "start_time": "2021-08-30T01:25:50.166878Z"
    },
    "hidden": true
   },
   "source": [
    "**Apakah mungkin sisa tagihan tidak terbayar nasabah kredit macet dipengaruhi limit kartu?**\n",
    "\n",
    "Misalnya, bisa jadi sisa tagihan tidak terbayar tinggi juga karena limit kartu nasabah kredit macet cenderung tinggi."
   ]
  },
  {
   "cell_type": "code",
   "execution_count": 21,
   "metadata": {
    "ExecuteTime": {
     "end_time": "2021-08-31T05:41:31.151559Z",
     "start_time": "2021-08-31T05:41:30.759454Z"
    },
    "hidden": true,
    "scrolled": false
   },
   "outputs": [
    {
     "data": {
      "image/png": "[encoded data removed]",
      "text/plain": [
       "<Figure size 720x360 with 2 Axes>"
      ]
     },
     "metadata": {},
     "output_type": "display_data"
    }
   ],
   "source": [
    "fig, axes = plt.subplots(1, 2, figsize = (10, 5))\n",
    "\n",
    "sns.barplot(x = 'Flag Kredit Macet', y = 'Limit Kredit', \n",
    "            data = plot_df, ax = axes[0])\n",
    "sns.barplot(x = 'Flag Kredit Macet', y = 'Sisa Tagihan Per Limit', \n",
    "            data = plot_df, ax = axes[1])\n",
    "\n",
    "plt.show()"
   ]
  },
  {
   "cell_type": "markdown",
   "metadata": {
    "hidden": true
   },
   "source": [
    "Ternyata memang benar <u>**nasabah dengan kredit macet memiliki kecenderungan limit yang relatif lebih tinggi**</u>, namun secara <u>**sisa tagihan tidak terbayar tetap tergolong tinggi**</u> meskipun memperhitungkan limit yang lebih tinggi."
   ]
  },
  {
   "cell_type": "markdown",
   "metadata": {
    "ExecuteTime": {
     "end_time": "2021-08-30T01:25:50.225286Z",
     "start_time": "2021-08-30T01:25:50.166878Z"
    },
    "hidden": true
   },
   "source": [
    "**Apakah mungkin sisa tagihan tidak terbayar nasabah kredit macet juga dipengaruhi jumlah kartu yang dimiliki?**\n",
    "\n",
    "Alternatif lain yang menarik diperiksa selain limit kartu sebelumnya, dengan alasan yang kurang lebih sama dengan sebelumnya."
   ]
  },
  {
   "cell_type": "code",
   "execution_count": 22,
   "metadata": {
    "ExecuteTime": {
     "end_time": "2021-08-31T05:41:31.561792Z",
     "start_time": "2021-08-31T05:41:31.153560Z"
    },
    "hidden": true
   },
   "outputs": [
    {
     "data": {
      "image/png": "[encoded data removed]",
      "text/plain": [
       "<Figure size 720x360 with 2 Axes>"
      ]
     },
     "metadata": {},
     "output_type": "display_data"
    }
   ],
   "source": [
    "fig, axes = plt.subplots(1, 2, figsize = (10, 5))\n",
    "\n",
    "sns.barplot(x = 'Flag Kredit Macet', y = 'Jumlah Kartu', \n",
    "            data = plot_df, ax = axes[0])\n",
    "sns.barplot(x = 'Flag Kredit Macet', y = 'Sisa Tagihan Per Jumlah Kartu', \n",
    "            data = plot_df, ax = axes[1])\n",
    "\n",
    "plt.show()"
   ]
  },
  {
   "cell_type": "markdown",
   "metadata": {
    "hidden": true
   },
   "source": [
    "<u>**Sepertinya jumlah kartu nasabah dengan kredit macet relatif sama dengan nasabah dengan kredit non-macet.**</u>\n",
    "\n",
    "Oleh karena itu, sisa tagihan jika dihitung per jumlah kartu juga tidak memiliki perbedaan substansial."
   ]
  },
  {
   "cell_type": "markdown",
   "metadata": {
    "ExecuteTime": {
     "end_time": "2021-08-30T01:35:05.296183Z",
     "start_time": "2021-08-30T01:35:05.279688Z"
    },
    "hidden": true
   },
   "source": [
    "**Apakah nasabah kredit macet cenderung memiliki nilai outstanding dan/atau tagihan tinggi juga?**\n",
    "\n",
    "Terlalu banyak tagihan atau outstanding di kartu kredit juga salah satu resep yang baik untuk menghasilkan ketidakmampuan membayar."
   ]
  },
  {
   "cell_type": "code",
   "execution_count": 23,
   "metadata": {
    "ExecuteTime": {
     "end_time": "2021-08-31T05:41:31.989028Z",
     "start_time": "2021-08-31T05:41:31.563838Z"
    },
    "hidden": true
   },
   "outputs": [
    {
     "data": {
      "image/png": "[encoded data removed]",
      "text/plain": [
       "<Figure size 720x360 with 2 Axes>"
      ]
     },
     "metadata": {},
     "output_type": "display_data"
    }
   ],
   "source": [
    "fig, axes = plt.subplots(1, 2, figsize = (10, 5))\n",
    "\n",
    "sns.barplot(x = 'Flag Kredit Macet', y = 'Outstanding', \n",
    "            data = plot_df, ax = axes[0])\n",
    "sns.barplot(x = 'Flag Kredit Macet', y = 'Tagihan', \n",
    "            data = plot_df, ax = axes[1])\n",
    "\n",
    "plt.show()"
   ]
  },
  {
   "cell_type": "markdown",
   "metadata": {
    "hidden": true
   },
   "source": [
    "<u>**Nampaknya sungguh-sungguh ada perbedaan substansial antara tagihan dan/atau outstanding nasabah kredit macet dan non-kredit macet!**</u>"
   ]
  },
  {
   "cell_type": "markdown",
   "metadata": {
    "ExecuteTime": {
     "end_time": "2021-08-30T01:25:50.225286Z",
     "start_time": "2021-08-30T01:25:50.166878Z"
    },
    "hidden": true
   },
   "source": [
    "**Apakah mungkin tagihan dan/atau outstanding nasabah kredit macet dapat dijelaskan dengan limit kredit yang lebih tinggi?**\n",
    "\n",
    "Mungkinkah tagihan dan/atau outstanding yang lebih tinggi ini bisa dijelaskan oleh limit kartu yang lebih tinggi sebelumnya? Untuk mengetahuinya, kita akan mencoba grafik lain untuk sekarang, yakni scatter plot."
   ]
  },
  {
   "cell_type": "code",
   "execution_count": 24,
   "metadata": {
    "ExecuteTime": {
     "end_time": "2021-08-31T05:41:33.474522Z",
     "start_time": "2021-08-31T05:41:31.990029Z"
    },
    "hidden": true
   },
   "outputs": [
    {
     "data": {
      "image/png": "[encoded data removed]",
      "text/plain": [
       "<Figure size 720x720 with 4 Axes>"
      ]
     },
     "metadata": {},
     "output_type": "display_data"
    }
   ],
   "source": [
    "fig, axes = plt.subplots(2, 2, figsize = (10, 10))\n",
    "\n",
    "sns.scatterplot(x = 'Outstanding', y = 'Limit Kredit', hue = 'Flag Kredit Macet',\n",
    "                data = plot_df, ax = axes[0, 0], alpha = 0.7)\n",
    "sns.scatterplot(x = 'Tagihan', y = 'Limit Kredit', hue = 'Flag Kredit Macet',\n",
    "                data = plot_df, ax = axes[0, 1], alpha = 0.7)\n",
    "\n",
    "plot_df['Outstanding Per Limit'] = plot_df['Outstanding'] / plot_df['Limit Kredit']\n",
    "plot_df['Tagihan Per Limit'] = plot_df['Tagihan'] / plot_df['Limit Kredit']\n",
    "\n",
    "sns.barplot(x = 'Flag Kredit Macet', y = 'Outstanding Per Limit', \n",
    "            data = plot_df, ax = axes[1, 0])\n",
    "sns.barplot(x = 'Flag Kredit Macet', y = 'Tagihan Per Limit', \n",
    "            data = plot_df, ax = axes[1, 1])\n",
    "\n",
    "plt.show()"
   ]
  },
  {
   "cell_type": "markdown",
   "metadata": {
    "hidden": true
   },
   "source": [
    "<u>**Limit yang lebih tinggi cukup menjelaskan outstanding dan/atau tagihan nasabah kredit macet yang lebih tinggi, meskipun tidak sepenuhnya.**</u>"
   ]
  },
  {
   "cell_type": "markdown",
   "metadata": {
    "heading_collapsed": true,
    "hidden": true
   },
   "source": [
    "### **Perilaku Penggunaan Kartu Kredit**"
   ]
  },
  {
   "cell_type": "markdown",
   "metadata": {
    "ExecuteTime": {
     "end_time": "2021-08-30T02:54:35.867576Z",
     "start_time": "2021-08-30T02:54:35.853615Z"
    },
    "hidden": true
   },
   "source": [
    "<u>**Sebenarnya, dari mana awalnya para nasabah kredit macet ini bisa memiliki outstanding/tagihan yang lebih tinggi?**</u>"
   ]
  },
  {
   "cell_type": "markdown",
   "metadata": {
    "hidden": true
   },
   "source": [
    "**Apakah nasabah kredit macet memiliki total pemakaian yang lebih tinggi, sejak awal?**\n",
    "\n",
    "Jika total pemakaian lebih tinggi, tentu akan lebih mudah menghasilkan tagihan yang lebih tinggi pula. Selain itu, kita akan langsung bandingkan dengan limit kredit juga."
   ]
  },
  {
   "cell_type": "code",
   "execution_count": 25,
   "metadata": {
    "ExecuteTime": {
     "end_time": "2021-08-31T05:41:33.867732Z",
     "start_time": "2021-08-31T05:41:33.475523Z"
    },
    "hidden": true
   },
   "outputs": [
    {
     "data": {
      "image/png": "[encoded data removed]",
      "text/plain": [
       "<Figure size 720x360 with 2 Axes>"
      ]
     },
     "metadata": {},
     "output_type": "display_data"
    }
   ],
   "source": [
    "fig, axes = plt.subplots(1, 2, figsize = (10, 5))\n",
    "\n",
    "sns.barplot(x = 'Flag Kredit Macet', y = 'Total Pemakaian', \n",
    "            data = plot_df, ax = axes[0])\n",
    "sns.barplot(x = 'Flag Kredit Macet', y = 'Total Pemakaian Per Limit', \n",
    "            data = plot_df, ax = axes[1])\n",
    "\n",
    "plt.show()"
   ]
  },
  {
   "cell_type": "markdown",
   "metadata": {
    "hidden": true
   },
   "source": [
    "<u>**Menariknya, justru total pemakaian nasabah kredit macet jauh lebih rendah dibandingkan dengan nasabah non-kredit macet!**</u>\n",
    "\n",
    "Tidak hanya itu, efek ini tetap sama atau justru lebih kuat setelah dibandingkan dengan limit kreditnya. Mungkin karena tagihan yang sudah ada sudah cukup berat, jadi mereka tidak menambah pemakaian lagi? Atau karena sudah terlalu dekat limit sehingga tidak bisa pemakaian banyak juga?"
   ]
  },
  {
   "cell_type": "markdown",
   "metadata": {
    "hidden": true
   },
   "source": [
    "**Bagaimana rata-rata pemakaian nasabah kredit macet selama 3 dan 6 bulan ke belakang?**\n",
    "\n",
    "Bisa jadi bulan-bulan sebelumnya pemakaiannya masih bisa lebih besar, benar kan? Kali ini, kita akan membandingkan langsung dengan limit kredit."
   ]
  },
  {
   "cell_type": "code",
   "execution_count": 26,
   "metadata": {
    "ExecuteTime": {
     "end_time": "2021-08-31T05:41:34.263646Z",
     "start_time": "2021-08-31T05:41:33.869771Z"
    },
    "hidden": true
   },
   "outputs": [
    {
     "data": {
      "image/png": "[encoded data removed]",
      "text/plain": [
       "<Figure size 720x360 with 2 Axes>"
      ]
     },
     "metadata": {},
     "output_type": "display_data"
    }
   ],
   "source": [
    "fig, axes = plt.subplots(1, 2, figsize = (10, 5))\n",
    "\n",
    "sns.barplot(x = 'Flag Kredit Macet', y = 'Pemakaian 3 Bulan Per Limit', \n",
    "            data = plot_df, ax = axes[0])\n",
    "sns.barplot(x = 'Flag Kredit Macet', y = 'Pemakaian 6 Bulan Per Limit', \n",
    "            data = plot_df, ax = axes[1])\n",
    "\n",
    "plt.show()"
   ]
  },
  {
   "cell_type": "markdown",
   "metadata": {
    "hidden": true
   },
   "source": [
    "<u>**Nasabah kredit macet nampaknya menggunakan kartu kredit cukup banyak 6 bulan yang lalu, lalu menurun hingga saat ini!**</u>\n",
    "\n",
    "Pemakaian nampaknya turun sejak 6 bulan hingga di titik saat ini di mana level pemakaiannya menjadi sangat rendah. Implikasinya, banyak dari beban yang ditanggung nasabah kredit macet saat ini berasal dari pemakaian paling tidak sekitar 6 bulan yang lalu."
   ]
  },
  {
   "cell_type": "markdown",
   "metadata": {
    "hidden": true
   },
   "source": [
    "**Bagaimana rata-rata utilisasi kartu kredit dari nasabah kredit macet kini, 3, dan 6 bulan ke belakang?**\n",
    "\n",
    "Pemakaian akan menunjukkan penggunaan pada bulan tersebut, tetapi utilisasi juga akan menunjukkan penumpukan dari bulan-bulan sebelumnya."
   ]
  },
  {
   "cell_type": "code",
   "execution_count": 27,
   "metadata": {
    "ExecuteTime": {
     "end_time": "2021-08-31T05:41:34.835153Z",
     "start_time": "2021-08-31T05:41:34.268591Z"
    },
    "hidden": true
   },
   "outputs": [
    {
     "data": {
      "image/png": "[encoded data removed]",
      "text/plain": [
       "<Figure size 1080x360 with 3 Axes>"
      ]
     },
     "metadata": {},
     "output_type": "display_data"
    }
   ],
   "source": [
    "fig, axes = plt.subplots(1, 3, figsize = (15, 5))\n",
    "\n",
    "plot_df['Utilisasi'] = plot_df['Outstanding'] / plot_df['Limit Kredit']\n",
    "\n",
    "sns.barplot(x = 'Flag Kredit Macet', y = 'Utilisasi', \n",
    "            data = plot_df, ax = axes[0])\n",
    "sns.barplot(x = 'Flag Kredit Macet', y = 'Utilisasi 3 Bulan', \n",
    "            data = plot_df, ax = axes[1])\n",
    "sns.barplot(x = 'Flag Kredit Macet', y = 'Utilisasi 6 Bulan', \n",
    "            data = plot_df, ax = axes[2])\n",
    "\n",
    "plt.show()"
   ]
  },
  {
   "cell_type": "markdown",
   "metadata": {
    "hidden": true
   },
   "source": [
    "<u>**Secara relatif, utilisasi tidak ada perubahan mencolok, tetapi baik nasabah kredit macet maupun yang non-kredit macet terus menerus naik utilisasinya...**</u>\n",
    "\n",
    "Misalnya, nasabah non-kredit macet bermula dari sekitar 50% di utilisasi 6 bulan, lalu ~56% di utilisasi 3 bulan, dan kini ~62% di utilisasi bulan ini. Menarik, meskipun sayangnya kolom datanya agak kurang untuk dikejar alasannya kenapa..."
   ]
  },
  {
   "cell_type": "markdown",
   "metadata": {
    "hidden": true
   },
   "source": [
    "**Apakah nasabah kredit macet sering menggunakan kartu hingga overlimit?**\n",
    "\n",
    "Overlimit kartu dapat menandakan kebutuhan menggunakan kredit yang mendesak hingga harus menggunakan overlimit, serta juga dikenakan biaya overlimit, sehingga overlimit merupakan salah satu elemen yang dapat memberatkan tagihan dan/atau outstanding nasabah pula."
   ]
  },
  {
   "cell_type": "code",
   "execution_count": 28,
   "metadata": {
    "ExecuteTime": {
     "end_time": "2021-08-31T05:41:35.200212Z",
     "start_time": "2021-08-31T05:41:34.837185Z"
    },
    "hidden": true
   },
   "outputs": [
    {
     "data": {
      "image/png": "[encoded data removed]",
      "text/plain": [
       "<Figure size 720x360 with 2 Axes>"
      ]
     },
     "metadata": {},
     "output_type": "display_data"
    }
   ],
   "source": [
    "fig, axes = plt.subplots(1, 2, figsize = (10, 5))\n",
    "\n",
    "sns.boxplot(x = 'Flag Kredit Macet', y = 'Persentase Overlimit', \n",
    "            data = plot_df, ax = axes[0])\n",
    "sns.barplot(x = 'Flag Kredit Macet', y = 'Persentase Overlimit', \n",
    "            data = plot_df, ax = axes[1])\n",
    "\n",
    "plt.show()"
   ]
  },
  {
   "cell_type": "markdown",
   "metadata": {
    "ExecuteTime": {
     "end_time": "2021-08-30T12:50:21.925976Z",
     "start_time": "2021-08-30T12:50:21.365872Z"
    },
    "hidden": true
   },
   "source": [
    "<u>**Nasabah kredit macet memiliki tendensi lebih tinggi untuk memiliki overlimit!**</u>\n",
    "\n",
    "Baik nasabah kredit macet maupun kredit non-macet bisa memiliki overlimit, namun nasabah kredit macet memiliki kecenderungan lebih tinggi untuk overlimit. Kecenderungan apa lagi yang umumnya dimiliki oleh nasabah kredit macet?"
   ]
  },
  {
   "cell_type": "markdown",
   "metadata": {
    "heading_collapsed": true,
    "hidden": true
   },
   "source": [
    "### **Sifat Nasabah Kredit Macet Lainnya**"
   ]
  },
  {
   "cell_type": "markdown",
   "metadata": {
    "hidden": true
   },
   "source": [
    "<u>**Pola-pola apa lagi yang dimiliki oleh nasabah kredit macet umumnya?**</u>"
   ]
  },
  {
   "cell_type": "markdown",
   "metadata": {
    "hidden": true
   },
   "source": [
    "**Apakah nasabah kredit macet memiliki preferensi untuk salah satu jenis pemakaian kredit?**\n",
    "\n",
    "Misalnya, apakah nasabah kredit macet memiliki kecenderungan lebih untuk menggunakan pemakaian tunai? Pemakaian tunai umumnya memiliki fee tambahan, sehingga itu juga dapat memperberat tagihan sebenarnya."
   ]
  },
  {
   "cell_type": "code",
   "execution_count": 29,
   "metadata": {
    "ExecuteTime": {
     "end_time": "2021-08-31T05:41:35.749359Z",
     "start_time": "2021-08-31T05:41:35.202172Z"
    },
    "hidden": true
   },
   "outputs": [
    {
     "data": {
      "image/png": "[encoded data removed]",
      "text/plain": [
       "<Figure size 1080x360 with 3 Axes>"
      ]
     },
     "metadata": {},
     "output_type": "display_data"
    }
   ],
   "source": [
    "fig, axes = plt.subplots(1, 3, figsize = (15, 5))\n",
    "\n",
    "plot_df['Rasio Pemakaian Retail'] = plot_df['Total Pemakaian Retail'] / plot_df['Total Pemakaian']\n",
    "plot_df['Rasio Pemakaian Tunai'] = plot_df['Total Pemakaian Tunai'] / plot_df['Total Pemakaian']\n",
    "\n",
    "sns.barplot(x = 'Flag Kredit Macet', y = 'Total Pemakaian', \n",
    "            data = plot_df, ax = axes[0])\n",
    "sns.barplot(x = 'Flag Kredit Macet', y = 'Rasio Pemakaian Retail', \n",
    "            data = plot_df, ax = axes[1])\n",
    "sns.barplot(x = 'Flag Kredit Macet', y = 'Rasio Pemakaian Tunai', \n",
    "            data = plot_df, ax = axes[2])\n",
    "\n",
    "plt.show()"
   ]
  },
  {
   "cell_type": "markdown",
   "metadata": {
    "hidden": true
   },
   "source": [
    "<u>**Nasabah kredit macet ditemukan memiliki kecenderungan lebih tinggi terhadap pemakaian tunai.**</u>\n",
    "\n",
    "Penggunaan pemakaian retail justru sedikit lebih kecil dibandingkan nasabah kredit non-macet, meskipun kurang lebih cukup dekat (perlu diingat juga bahwa rasio pemakaian retail adalah kebalikan dari rasio pemakaian tunai)."
   ]
  },
  {
   "cell_type": "markdown",
   "metadata": {
    "hidden": true
   },
   "source": [
    "**Apakah nasabah kredit macet cenderung memiliki nilai outstanding di atas nilai tagihan bulan tersebut?**\n",
    "\n",
    "Jika ada nasabah dengan nilai outstanding di atas nilai tagihan, bisa juga disebabkan oleh hal-hal seperti mengambil cicilan, sehingga ada kreditnya yang tidak langsung ditagihkan saat bulan tersebut. \n",
    "\n",
    "Jika iya, maka akan semakin berbahaya jika nasabah tidak dapat membayar tagihan saat bulan itu, karena tagihan bulan itu pun hanya sebagian dari total kredit nasabah tersebut sesungguhnya."
   ]
  },
  {
   "cell_type": "code",
   "execution_count": 30,
   "metadata": {
    "ExecuteTime": {
     "end_time": "2021-08-31T05:41:35.963528Z",
     "start_time": "2021-08-31T05:41:35.750357Z"
    },
    "hidden": true
   },
   "outputs": [
    {
     "data": {
      "image/png": "[encoded data removed]",
      "text/plain": [
       "<Figure size 360x360 with 1 Axes>"
      ]
     },
     "metadata": {},
     "output_type": "display_data"
    }
   ],
   "source": [
    "plt.figure(figsize = (5, 5))\n",
    "\n",
    "plot_df['Selisih Outstanding-Tagihan'] = plot_df['Outstanding'] - plot_df['Tagihan']\n",
    "\n",
    "sns.barplot(x = 'Flag Kredit Macet', y = 'Selisih Outstanding-Tagihan', \n",
    "            data = plot_df)\n",
    "\n",
    "plt.show()"
   ]
  },
  {
   "cell_type": "markdown",
   "metadata": {
    "hidden": true
   },
   "source": [
    "<u>**Karena batang confidence interval cukup panjang, sulit dikonklusikan apakah nasabah kredit macet lebih tinggi atau tidak.**</u>"
   ]
  },
  {
   "cell_type": "markdown",
   "metadata": {
    "hidden": true
   },
   "source": [
    "**Apakah nasabah kredit macet memiliki skor delikuensi yang lebih tinggi?**\n",
    "\n",
    "Karena nasabah memiliki kredit macet sekarang, bisa juga skor delikuensinya di masa lalu juga kurang baik."
   ]
  },
  {
   "cell_type": "code",
   "execution_count": 31,
   "metadata": {
    "ExecuteTime": {
     "end_time": "2021-08-31T05:41:36.313842Z",
     "start_time": "2021-08-31T05:41:35.964572Z"
    },
    "hidden": true,
    "scrolled": false
   },
   "outputs": [
    {
     "name": "stdout",
     "output_type": "stream",
     "text": [
      "Proporsi skor delikuensi:\n"
     ]
    },
    {
     "data": {
      "text/html": [
       "<div>\n",
       "<style scoped>\n",
       "    .dataframe tbody tr th:only-of-type {\n",
       "        vertical-align: middle;\n",
       "    }\n",
       "\n",
       "    .dataframe tbody tr th {\n",
       "        vertical-align: top;\n",
       "    }\n",
       "\n",
       "    .dataframe thead th {\n",
       "        text-align: right;\n",
       "    }\n",
       "</style>\n",
       "<table border=\"1\" class=\"dataframe\">\n",
       "  <thead>\n",
       "    <tr style=\"text-align: right;\">\n",
       "      <th></th>\n",
       "      <th>Skor Delikuensi</th>\n",
       "      <th>Proporsi (%)</th>\n",
       "    </tr>\n",
       "  </thead>\n",
       "  <tbody>\n",
       "    <tr>\n",
       "      <th>0</th>\n",
       "      <td>0</td>\n",
       "      <td>99.73</td>\n",
       "    </tr>\n",
       "    <tr>\n",
       "      <th>1</th>\n",
       "      <td>1</td>\n",
       "      <td>0.18</td>\n",
       "    </tr>\n",
       "    <tr>\n",
       "      <th>2</th>\n",
       "      <td>2</td>\n",
       "      <td>0.03</td>\n",
       "    </tr>\n",
       "    <tr>\n",
       "      <th>3</th>\n",
       "      <td>4</td>\n",
       "      <td>0.03</td>\n",
       "    </tr>\n",
       "    <tr>\n",
       "      <th>4</th>\n",
       "      <td>5</td>\n",
       "      <td>0.02</td>\n",
       "    </tr>\n",
       "    <tr>\n",
       "      <th>5</th>\n",
       "      <td>3</td>\n",
       "      <td>0.01</td>\n",
       "    </tr>\n",
       "  </tbody>\n",
       "</table>\n",
       "</div>"
      ],
      "text/plain": [
       "   Skor Delikuensi  Proporsi (%)\n",
       "0                0         99.73\n",
       "1                1          0.18\n",
       "2                2          0.03\n",
       "3                4          0.03\n",
       "4                5          0.02\n",
       "5                3          0.01"
      ]
     },
     "metadata": {},
     "output_type": "display_data"
    },
    {
     "data": {
      "image/png": "[encoded data removed]",
      "text/plain": [
       "<Figure size 720x360 with 2 Axes>"
      ]
     },
     "metadata": {},
     "output_type": "display_data"
    }
   ],
   "source": [
    "fig, axes = plt.subplots(1, 2, figsize = (10, 5))\n",
    "\n",
    "# Perlu menjadi tabel karena terlalu kecil untuk muncul di plot jika tidak\n",
    "proporsi_skor_delikuensi = plot_df['Skor Delikuensi'].\\\n",
    "    value_counts(normalize = True).reset_index().\\\n",
    "        rename(columns = {'index': 'Skor Delikuensi', \n",
    "                          'Skor Delikuensi': 'Proporsi (%)'})\n",
    "    \n",
    "proporsi_skor_delikuensi['Proporsi (%)'] = (proporsi_skor_delikuensi['Proporsi (%)'] * 100).round(2)\n",
    "\n",
    "print('Proporsi skor delikuensi:')\n",
    "display(proporsi_skor_delikuensi)\n",
    "\n",
    "sns.boxplot(x = 'Flag Kredit Macet', y = 'Skor Delikuensi', \n",
    "            data = plot_df, ax = axes[0])\n",
    "sns.barplot(x = 'Flag Kredit Macet', y = 'Skor Delikuensi', \n",
    "            data = plot_df, ax = axes[1])\n",
    "\n",
    "plt.show()"
   ]
  },
  {
   "cell_type": "markdown",
   "metadata": {
    "hidden": true
   },
   "source": [
    "<u>**Inkonklusif, namun outlier terbesar skor delikuensi justru berasal dari nasabah non-kredit macet.**</u>"
   ]
  },
  {
   "cell_type": "markdown",
   "metadata": {
    "hidden": true
   },
   "source": [
    "**Bagaimana pola panjang _tenure_ nasabah antara nasabah kredit macet dengan non-kredit macet?**\n",
    "\n",
    "Nasabah kredit macet bisa jadi nasabah baru yang belum terbukti secara _track record_, meskipun bisa pula tidak seperti itu seperti dengan skor delikuensi."
   ]
  },
  {
   "cell_type": "code",
   "execution_count": 32,
   "metadata": {
    "ExecuteTime": {
     "end_time": "2021-08-31T05:41:36.678904Z",
     "start_time": "2021-08-31T05:41:36.315843Z"
    },
    "hidden": true
   },
   "outputs": [
    {
     "data": {
      "image/png": "[encoded data removed]",
      "text/plain": [
       "<Figure size 720x360 with 2 Axes>"
      ]
     },
     "metadata": {},
     "output_type": "display_data"
    }
   ],
   "source": [
    "fig, axes = plt.subplots(1, 2, figsize = (10, 5))\n",
    "\n",
    "sns.boxplot(x = 'Flag Kredit Macet', y = 'Jumlah Tahun Sejak Pembukaan Kredit', \n",
    "            data = plot_df, ax = axes[0]).set(ylabel = 'Tenure Kredit Nasabah')\n",
    "sns.barplot(x = 'Flag Kredit Macet', y = 'Jumlah Tahun Sejak Pembukaan Kredit', \n",
    "            data = plot_df, ax = axes[1]).set(ylabel = 'Tenure Kredit Nasabah')\n",
    "\n",
    "plt.show()"
   ]
  },
  {
   "cell_type": "markdown",
   "metadata": {
    "ExecuteTime": {
     "end_time": "2021-08-30T13:56:50.029572Z",
     "start_time": "2021-08-30T13:56:50.017604Z"
    },
    "hidden": true
   },
   "source": [
    "<u>**Inkonklusif juga berdasarkan panjang _whisker_, jumlah outlier, maupun barplot.**</u>"
   ]
  },
  {
   "cell_type": "markdown",
   "metadata": {
    "ExecuteTime": {
     "end_time": "2021-08-30T13:57:26.825193Z",
     "start_time": "2021-08-30T13:57:26.814223Z"
    },
    "hidden": true
   },
   "source": [
    "**Apakah nasabah kredit macet lebih banyak ditemukan di cabang tertentu?**\n",
    "\n",
    "Jika dapat ditemukan seperti itu, tentunya itu adalah suatu pola yang menarik juga."
   ]
  },
  {
   "cell_type": "code",
   "execution_count": 33,
   "metadata": {
    "ExecuteTime": {
     "end_time": "2021-08-31T05:41:37.022995Z",
     "start_time": "2021-08-31T05:41:36.679890Z"
    },
    "hidden": true
   },
   "outputs": [
    {
     "data": {
      "image/png": "[encoded data removed]",
      "text/plain": [
       "<Figure size 432x288 with 1 Axes>"
      ]
     },
     "metadata": {},
     "output_type": "display_data"
    }
   ],
   "source": [
    "flag_per_cabang = plot_df.groupby(['Kode Cabang', 'Flag Kredit Macet']).size()\n",
    "flag_cabang_df = pd.DataFrame({'Ya': flag_per_cabang[:, 'Ya'] / flag_per_cabang[:, 'Ya'].sum() * 100, \n",
    "                               'Tidak': flag_per_cabang[:, 'Tidak'] / flag_per_cabang[:, 'Tidak'].sum() * 100, \n",
    "                               'Kode Cabang': pd.Categorical(flag_per_cabang[:, 'Ya'].index)})\n",
    "\n",
    "flag_cabang_df = flag_cabang_df.melt(id_vars = 'Kode Cabang', \n",
    "                                     var_name = 'Flag Kredit Macet', \n",
    "                                     value_name = 'Proporsi (%)')\n",
    "\n",
    "sns.barplot(x = 'Kode Cabang', y = 'Proporsi (%)', \n",
    "            data = flag_cabang_df, hue = 'Flag Kredit Macet')\n",
    "\n",
    "plt.show()"
   ]
  },
  {
   "cell_type": "markdown",
   "metadata": {
    "hidden": true
   },
   "source": [
    "<u>**Tidak ada cabang khusus dimana ada sangat banyak nasabah kredit macet.**</u>\n",
    "\n",
    "Implikasi lainnya, analisis tentang nasabah kredit macet bisa digeneralisir antar cabang juga!"
   ]
  },
  {
   "cell_type": "markdown",
   "metadata": {
    "heading_collapsed": true,
    "hidden": true,
    "id": "YCOLd_9KJ_lg"
   },
   "source": [
    "## **Data Pre-processing**"
   ]
  },
  {
   "cell_type": "markdown",
   "metadata": {
    "hidden": true
   },
   "source": [
    "**Sebagian besar akan berkutat pada data train, kecuali masalah yang sama juga ada di data test dan perlu ditangani.**"
   ]
  },
  {
   "cell_type": "markdown",
   "metadata": {
    "heading_collapsed": true,
    "hidden": true
   },
   "source": [
    "### **Missing Value**"
   ]
  },
  {
   "cell_type": "markdown",
   "metadata": {
    "hidden": true
   },
   "source": [
    "**Di antara semua baris, hanya ada satu baris yang memiliki missing value dan akan kita tangani.**"
   ]
  },
  {
   "cell_type": "code",
   "execution_count": 34,
   "metadata": {
    "ExecuteTime": {
     "end_time": "2021-08-31T05:41:37.038911Z",
     "start_time": "2021-08-31T05:41:37.026940Z"
    },
    "hidden": true
   },
   "outputs": [
    {
     "data": {
      "text/plain": [
       "jumlah_kartu                             0\n",
       "outstanding                              0\n",
       "limit_kredit                             0\n",
       "tagihan                                  0\n",
       "total_pemakaian_tunai                    0\n",
       "total_pemakaian_retail                   0\n",
       "sisa_tagihan_tidak_terbayar              0\n",
       "kode_cabang                            100\n",
       "rasio_pembayaran                         0\n",
       "persentasi_overlimit                     0\n",
       "rasio_pembayaran_3bulan                  0\n",
       "rasio_pembayaran_6bulan                  0\n",
       "skor_delikuensi                          0\n",
       "flag_kredit_macet                        0\n",
       "jumlah_tahun_sejak_pembukaan_kredit      0\n",
       "total_pemakaian                          0\n",
       "sisa_tagihan_per_jumlah_kartu            0\n",
       "sisa_tagihan_per_limit                   0\n",
       "total_pemakaian_per_limit                0\n",
       "pemakaian_3bln_per_limit                 0\n",
       "pemakaian_6bln_per_limit                 0\n",
       "utilisasi_3bulan                         0\n",
       "utilisasi_6bulan                         0\n",
       "dtype: int64"
      ]
     },
     "execution_count": 34,
     "metadata": {},
     "output_type": "execute_result"
    }
   ],
   "source": [
    "train_df.isnull().sum()"
   ]
  },
  {
   "cell_type": "markdown",
   "metadata": {
    "hidden": true
   },
   "source": [
    "**Missing value dari kolom `kode_cabang` diisi dengan modus.**\n",
    "\n",
    "Modus dipilih karena sejauh EDA tadi, tidak ditemukan pola khusus antara kode cabang dengan variabel target kita, sehingga diisi dengan cara standar untuk variabel kategorikal saja."
   ]
  },
  {
   "cell_type": "code",
   "execution_count": 35,
   "metadata": {
    "ExecuteTime": {
     "end_time": "2021-08-31T05:41:37.054909Z",
     "start_time": "2021-08-31T05:41:37.042902Z"
    },
    "hidden": true
   },
   "outputs": [
    {
     "data": {
      "text/plain": [
       "jumlah_kartu                           0\n",
       "outstanding                            0\n",
       "limit_kredit                           0\n",
       "tagihan                                0\n",
       "total_pemakaian_tunai                  0\n",
       "total_pemakaian_retail                 0\n",
       "sisa_tagihan_tidak_terbayar            0\n",
       "kode_cabang                            0\n",
       "rasio_pembayaran                       0\n",
       "persentasi_overlimit                   0\n",
       "rasio_pembayaran_3bulan                0\n",
       "rasio_pembayaran_6bulan                0\n",
       "skor_delikuensi                        0\n",
       "flag_kredit_macet                      0\n",
       "jumlah_tahun_sejak_pembukaan_kredit    0\n",
       "total_pemakaian                        0\n",
       "sisa_tagihan_per_jumlah_kartu          0\n",
       "sisa_tagihan_per_limit                 0\n",
       "total_pemakaian_per_limit              0\n",
       "pemakaian_3bln_per_limit               0\n",
       "pemakaian_6bln_per_limit               0\n",
       "utilisasi_3bulan                       0\n",
       "utilisasi_6bulan                       0\n",
       "dtype: int64"
      ]
     },
     "execution_count": 35,
     "metadata": {},
     "output_type": "execute_result"
    }
   ],
   "source": [
    "train_df.loc[train_df['kode_cabang'].isnull(), 'kode_cabang'] = train_df['kode_cabang'].mode()[0]\n",
    "\n",
    "train_df.isnull().sum()"
   ]
  },
  {
   "cell_type": "markdown",
   "metadata": {
    "heading_collapsed": true,
    "hidden": true
   },
   "source": [
    "### **Data Duplikat**"
   ]
  },
  {
   "cell_type": "markdown",
   "metadata": {
    "hidden": true
   },
   "source": [
    "**Berdasarkan pengecekan, tidak ada data duplikat dalam data train.**\n",
    "\n",
    "Begitu pula pada data test, meskipun tidak dicantumkan disini."
   ]
  },
  {
   "cell_type": "code",
   "execution_count": 36,
   "metadata": {
    "ExecuteTime": {
     "end_time": "2021-08-31T05:41:37.102783Z",
     "start_time": "2021-08-31T05:41:37.060852Z"
    },
    "hidden": true
   },
   "outputs": [
    {
     "data": {
      "text/plain": [
       "0"
      ]
     },
     "execution_count": 36,
     "metadata": {},
     "output_type": "execute_result"
    }
   ],
   "source": [
    "train_df.duplicated().sum()"
   ]
  },
  {
   "cell_type": "markdown",
   "metadata": {
    "heading_collapsed": true,
    "hidden": true
   },
   "source": [
    "### **Data Outliers**"
   ]
  },
  {
   "cell_type": "markdown",
   "metadata": {
    "ExecuteTime": {
     "end_time": "2021-08-30T17:15:21.376393Z",
     "start_time": "2021-08-30T17:15:21.361259Z"
    },
    "hidden": true
   },
   "source": [
    "**Outliers pada data train tidak dapat langsung dihilangkan karena sangat umum ditemukan.**\n",
    "\n",
    "Pada data train, nampaknya outliers adalah sesuatu yang lumrah dan biasa, dan outliers seringkali adalah nilai-nilai yang membedakan salah satu dari kelas variabel target, terutama jika perbedaan antar kelas cukup besar seperti yang disajikan pada bagian EDA. Oleh karena outliers memuat informasi penting, outliers tidak dapat dihapus begitu saja."
   ]
  },
  {
   "cell_type": "code",
   "execution_count": 37,
   "metadata": {
    "ExecuteTime": {
     "end_time": "2021-08-31T05:41:37.735095Z",
     "start_time": "2021-08-31T05:41:37.106793Z"
    },
    "hidden": true
   },
   "outputs": [
    {
     "data": {
      "image/png": "[encoded data removed]",
      "text/plain": [
       "<Figure size 1080x360 with 1 Axes>"
      ]
     },
     "metadata": {},
     "output_type": "display_data"
    }
   ],
   "source": [
    "plt.figure(figsize = (15, 5))\n",
    "\n",
    "sns.boxplot(data = train_df)\n",
    "plt.xticks(rotation = 60)\n",
    "\n",
    "plt.show()"
   ]
  },
  {
   "cell_type": "markdown",
   "metadata": {
    "hidden": true
   },
   "source": [
    "**Akan tetapi, tetap ada beberapa nilai outlier yang terlalu jauh di luar batas normal sehingga dapat dibersihkan.**\n",
    "\n",
    "Misalnya, nilai pada kolom `rasio_pembayaran` yang seharusnya 0-100% saja, namun ada nilai positif atau negatif hingga ribuan. Nilai-nilai ini bisa dihilangkan apabila tidak ada penjelasan yang bagus. Nilai-nilai ini terlalu di luar batas normal, dan nilai ini tidak banyak jumlahnya, sehingga perbedaan ini bukan fitur unik yang menjadi identitas salah satu kelas di variabel target kita. "
   ]
  },
  {
   "cell_type": "code",
   "execution_count": 38,
   "metadata": {
    "ExecuteTime": {
     "end_time": "2021-08-31T05:41:37.753042Z",
     "start_time": "2021-08-31T05:41:37.739087Z"
    },
    "hidden": true
   },
   "outputs": [
    {
     "name": "stdout",
     "output_type": "stream",
     "text": [
      "Jumlah baris data train sebelum pembersihan outlier: 15343\n"
     ]
    }
   ],
   "source": [
    "print(f'Jumlah baris data train sebelum pembersihan outlier: {len(train_df)}')"
   ]
  },
  {
   "cell_type": "markdown",
   "metadata": {
    "hidden": true
   },
   "source": [
    "**Daftar kolom yang memiliki kejanggalan:**\n",
    "<br /><br />\n",
    "\n",
    "- `rasio_pembayaran`, `rasio_pembayaran_3bulan`, `rasio_pembayaran_6bulan`: seharusnya hanya sekitar 0-100%, atau setidaknya tidak sampai ribuan persen positif atau negatif, dan sejauh ini tidak ada penjelasan yang bagus.\n",
    "<br /><br />\n",
    "\n",
    "- `total_pemakaian_retail`, `total_pemakaian`, `total_pemakaian_per_limit`, `pemakaian_3bln_per_limit`, `pemakaian_6bln_per_limit`: keluarga ini total pemakaian ini memiliki nilai negatif sehingga cukup janggal, tetapi ada kemungkinan itu disebabkan oleh pembayaran kartu kredit dan sejauh ini konsisten (ketika satu negatif, semuanya negatif) sehingga untuk sekarang ditoleransi.\n",
    "<br /><br />\n",
    "\n",
    "- `persentasi_overlimit`, `utilisasi_3bulan`, dan `utilisasi_6bulan`: di luar kewajaran pula, namun masih ditoleransi karena masih mendekati batas masuk akal.\n",
    "<br /><br />\n",
    "\n",
    "**Oleh karena itu, kolom-kolom yang dirasa perlu koreksi adalah kolom-kolom rasio pembayaran.** "
   ]
  },
  {
   "cell_type": "code",
   "execution_count": 39,
   "metadata": {
    "ExecuteTime": {
     "end_time": "2021-08-31T05:41:37.862748Z",
     "start_time": "2021-08-31T05:41:37.760027Z"
    },
    "hidden": true
   },
   "outputs": [
    {
     "data": {
      "text/html": [
       "<div>\n",
       "<style scoped>\n",
       "    .dataframe tbody tr th:only-of-type {\n",
       "        vertical-align: middle;\n",
       "    }\n",
       "\n",
       "    .dataframe tbody tr th {\n",
       "        vertical-align: top;\n",
       "    }\n",
       "\n",
       "    .dataframe thead th {\n",
       "        text-align: right;\n",
       "    }\n",
       "</style>\n",
       "<table border=\"1\" class=\"dataframe\">\n",
       "  <thead>\n",
       "    <tr style=\"text-align: right;\">\n",
       "      <th></th>\n",
       "      <th>jumlah_kartu</th>\n",
       "      <th>outstanding</th>\n",
       "      <th>limit_kredit</th>\n",
       "      <th>tagihan</th>\n",
       "      <th>total_pemakaian_tunai</th>\n",
       "      <th>total_pemakaian_retail</th>\n",
       "      <th>sisa_tagihan_tidak_terbayar</th>\n",
       "      <th>rasio_pembayaran</th>\n",
       "      <th>persentasi_overlimit</th>\n",
       "      <th>rasio_pembayaran_3bulan</th>\n",
       "      <th>rasio_pembayaran_6bulan</th>\n",
       "      <th>skor_delikuensi</th>\n",
       "    </tr>\n",
       "  </thead>\n",
       "  <tbody>\n",
       "    <tr>\n",
       "      <th>min</th>\n",
       "      <td>1.0</td>\n",
       "      <td>0.0</td>\n",
       "      <td>3.000000e+06</td>\n",
       "      <td>20043.0</td>\n",
       "      <td>0.0</td>\n",
       "      <td>-15667200.0</td>\n",
       "      <td>0.0</td>\n",
       "      <td>-18138.0</td>\n",
       "      <td>0.0</td>\n",
       "      <td>-57792.34</td>\n",
       "      <td>-77056.0</td>\n",
       "      <td>0.0</td>\n",
       "    </tr>\n",
       "    <tr>\n",
       "      <th>50%</th>\n",
       "      <td>2.0</td>\n",
       "      <td>4724856.0</td>\n",
       "      <td>9.000000e+06</td>\n",
       "      <td>3141692.0</td>\n",
       "      <td>0.0</td>\n",
       "      <td>201042.0</td>\n",
       "      <td>2750772.0</td>\n",
       "      <td>26.9</td>\n",
       "      <td>0.0</td>\n",
       "      <td>50.00</td>\n",
       "      <td>65.6</td>\n",
       "      <td>0.0</td>\n",
       "    </tr>\n",
       "    <tr>\n",
       "      <th>max</th>\n",
       "      <td>16.0</td>\n",
       "      <td>798058574.0</td>\n",
       "      <td>1.000000e+09</td>\n",
       "      <td>628000000.0</td>\n",
       "      <td>28840572.0</td>\n",
       "      <td>285000000.0</td>\n",
       "      <td>444000000.0</td>\n",
       "      <td>68983.0</td>\n",
       "      <td>190.0</td>\n",
       "      <td>75575.00</td>\n",
       "      <td>54899.0</td>\n",
       "      <td>5.0</td>\n",
       "    </tr>\n",
       "  </tbody>\n",
       "</table>\n",
       "</div>"
      ],
      "text/plain": [
       "     jumlah_kartu  outstanding  limit_kredit      tagihan  \\\n",
       "min           1.0          0.0  3.000000e+06      20043.0   \n",
       "50%           2.0    4724856.0  9.000000e+06    3141692.0   \n",
       "max          16.0  798058574.0  1.000000e+09  628000000.0   \n",
       "\n",
       "     total_pemakaian_tunai  total_pemakaian_retail  \\\n",
       "min                    0.0             -15667200.0   \n",
       "50%                    0.0                201042.0   \n",
       "max             28840572.0             285000000.0   \n",
       "\n",
       "     sisa_tagihan_tidak_terbayar  rasio_pembayaran  persentasi_overlimit  \\\n",
       "min                          0.0          -18138.0                   0.0   \n",
       "50%                    2750772.0              26.9                   0.0   \n",
       "max                  444000000.0           68983.0                 190.0   \n",
       "\n",
       "     rasio_pembayaran_3bulan  rasio_pembayaran_6bulan  skor_delikuensi  \n",
       "min                -57792.34                 -77056.0              0.0  \n",
       "50%                    50.00                     65.6              0.0  \n",
       "max                 75575.00                  54899.0              5.0  "
      ]
     },
     "metadata": {},
     "output_type": "display_data"
    },
    {
     "data": {
      "text/html": [
       "<div>\n",
       "<style scoped>\n",
       "    .dataframe tbody tr th:only-of-type {\n",
       "        vertical-align: middle;\n",
       "    }\n",
       "\n",
       "    .dataframe tbody tr th {\n",
       "        vertical-align: top;\n",
       "    }\n",
       "\n",
       "    .dataframe thead th {\n",
       "        text-align: right;\n",
       "    }\n",
       "</style>\n",
       "<table border=\"1\" class=\"dataframe\">\n",
       "  <thead>\n",
       "    <tr style=\"text-align: right;\">\n",
       "      <th></th>\n",
       "      <th>flag_kredit_macet</th>\n",
       "      <th>jumlah_tahun_sejak_pembukaan_kredit</th>\n",
       "      <th>total_pemakaian</th>\n",
       "      <th>sisa_tagihan_per_jumlah_kartu</th>\n",
       "      <th>sisa_tagihan_per_limit</th>\n",
       "      <th>total_pemakaian_per_limit</th>\n",
       "      <th>pemakaian_3bln_per_limit</th>\n",
       "      <th>pemakaian_6bln_per_limit</th>\n",
       "      <th>utilisasi_3bulan</th>\n",
       "      <th>utilisasi_6bulan</th>\n",
       "    </tr>\n",
       "  </thead>\n",
       "  <tbody>\n",
       "    <tr>\n",
       "      <th>min</th>\n",
       "      <td>0.0</td>\n",
       "      <td>0.750000</td>\n",
       "      <td>-15667200.0</td>\n",
       "      <td>0.0</td>\n",
       "      <td>0.000000</td>\n",
       "      <td>-0.6320</td>\n",
       "      <td>-0.126</td>\n",
       "      <td>-0.569</td>\n",
       "      <td>0.000288</td>\n",
       "      <td>0.000</td>\n",
       "    </tr>\n",
       "    <tr>\n",
       "      <th>50%</th>\n",
       "      <td>0.0</td>\n",
       "      <td>5.666667</td>\n",
       "      <td>248000.0</td>\n",
       "      <td>1209318.0</td>\n",
       "      <td>0.335929</td>\n",
       "      <td>0.0221</td>\n",
       "      <td>0.108</td>\n",
       "      <td>0.117</td>\n",
       "      <td>0.576000</td>\n",
       "      <td>0.496</td>\n",
       "    </tr>\n",
       "    <tr>\n",
       "      <th>max</th>\n",
       "      <td>1.0</td>\n",
       "      <td>34.416667</td>\n",
       "      <td>314000000.0</td>\n",
       "      <td>148000000.0</td>\n",
       "      <td>7.240000</td>\n",
       "      <td>4.6000</td>\n",
       "      <td>3.490</td>\n",
       "      <td>8.110</td>\n",
       "      <td>8.125671</td>\n",
       "      <td>9.730</td>\n",
       "    </tr>\n",
       "  </tbody>\n",
       "</table>\n",
       "</div>"
      ],
      "text/plain": [
       "     flag_kredit_macet  jumlah_tahun_sejak_pembukaan_kredit  total_pemakaian  \\\n",
       "min                0.0                             0.750000      -15667200.0   \n",
       "50%                0.0                             5.666667         248000.0   \n",
       "max                1.0                            34.416667      314000000.0   \n",
       "\n",
       "     sisa_tagihan_per_jumlah_kartu  sisa_tagihan_per_limit  \\\n",
       "min                            0.0                0.000000   \n",
       "50%                      1209318.0                0.335929   \n",
       "max                    148000000.0                7.240000   \n",
       "\n",
       "     total_pemakaian_per_limit  pemakaian_3bln_per_limit  \\\n",
       "min                    -0.6320                    -0.126   \n",
       "50%                     0.0221                     0.108   \n",
       "max                     4.6000                     3.490   \n",
       "\n",
       "     pemakaian_6bln_per_limit  utilisasi_3bulan  utilisasi_6bulan  \n",
       "min                    -0.569          0.000288             0.000  \n",
       "50%                     0.117          0.576000             0.496  \n",
       "max                     8.110          8.125671             9.730  "
      ]
     },
     "metadata": {},
     "output_type": "display_data"
    }
   ],
   "source": [
    "outlier_detector_df = train_df.describe().loc[['min', '50%', 'max']]\n",
    "\n",
    "display(outlier_detector_df.iloc[:, 0:12])\n",
    "display(outlier_detector_df.iloc[:, 12:24])"
   ]
  },
  {
   "cell_type": "markdown",
   "metadata": {
    "hidden": true
   },
   "source": [
    "**Seperti yang dapat dilihat, outlier yang satu ini cukup sulit dicari justifikasinya.**\n",
    "\n",
    "Berbeda dengan kolom-kolom total pemakaian, dimana ketika satu kolom negatif semuanya ikut negatif, tidak ada pola yang ditemukan disini, sehingga data outlier ini akan dihapus."
   ]
  },
  {
   "cell_type": "code",
   "execution_count": 40,
   "metadata": {
    "ExecuteTime": {
     "end_time": "2021-08-31T05:41:37.894126Z",
     "start_time": "2021-08-31T05:41:37.863746Z"
    },
    "hidden": true
   },
   "outputs": [
    {
     "data": {
      "text/html": [
       "<div>\n",
       "<style scoped>\n",
       "    .dataframe tbody tr th:only-of-type {\n",
       "        vertical-align: middle;\n",
       "    }\n",
       "\n",
       "    .dataframe tbody tr th {\n",
       "        vertical-align: top;\n",
       "    }\n",
       "\n",
       "    .dataframe thead th {\n",
       "        text-align: right;\n",
       "    }\n",
       "</style>\n",
       "<table border=\"1\" class=\"dataframe\">\n",
       "  <thead>\n",
       "    <tr style=\"text-align: right;\">\n",
       "      <th></th>\n",
       "      <th>tagihan</th>\n",
       "      <th>rasio_pembayaran</th>\n",
       "      <th>rasio_pembayaran_3bulan</th>\n",
       "      <th>rasio_pembayaran_6bulan</th>\n",
       "    </tr>\n",
       "  </thead>\n",
       "  <tbody>\n",
       "    <tr>\n",
       "      <th>30</th>\n",
       "      <td>78629.0</td>\n",
       "      <td>0.00</td>\n",
       "      <td>-48.0</td>\n",
       "      <td>33.30</td>\n",
       "    </tr>\n",
       "    <tr>\n",
       "      <th>413</th>\n",
       "      <td>1018492.0</td>\n",
       "      <td>244.00</td>\n",
       "      <td>355.0</td>\n",
       "      <td>-141.00</td>\n",
       "    </tr>\n",
       "    <tr>\n",
       "      <th>433</th>\n",
       "      <td>70992.0</td>\n",
       "      <td>0.00</td>\n",
       "      <td>0.0</td>\n",
       "      <td>-85.30</td>\n",
       "    </tr>\n",
       "    <tr>\n",
       "      <th>542</th>\n",
       "      <td>197464.0</td>\n",
       "      <td>182.91</td>\n",
       "      <td>123.2</td>\n",
       "      <td>-19.32</td>\n",
       "    </tr>\n",
       "    <tr>\n",
       "      <th>633</th>\n",
       "      <td>34394.0</td>\n",
       "      <td>0.00</td>\n",
       "      <td>-642.0</td>\n",
       "      <td>50.00</td>\n",
       "    </tr>\n",
       "    <tr>\n",
       "      <th>...</th>\n",
       "      <td>...</td>\n",
       "      <td>...</td>\n",
       "      <td>...</td>\n",
       "      <td>...</td>\n",
       "    </tr>\n",
       "    <tr>\n",
       "      <th>14682</th>\n",
       "      <td>506000.0</td>\n",
       "      <td>0.00</td>\n",
       "      <td>-216.0</td>\n",
       "      <td>65.70</td>\n",
       "    </tr>\n",
       "    <tr>\n",
       "      <th>14883</th>\n",
       "      <td>244025.0</td>\n",
       "      <td>-2100.00</td>\n",
       "      <td>-11068.0</td>\n",
       "      <td>-77056.00</td>\n",
       "    </tr>\n",
       "    <tr>\n",
       "      <th>14976</th>\n",
       "      <td>763707.0</td>\n",
       "      <td>0.00</td>\n",
       "      <td>-94.7</td>\n",
       "      <td>105.00</td>\n",
       "    </tr>\n",
       "    <tr>\n",
       "      <th>15054</th>\n",
       "      <td>2134749.0</td>\n",
       "      <td>-498.00</td>\n",
       "      <td>60.2</td>\n",
       "      <td>105.00</td>\n",
       "    </tr>\n",
       "    <tr>\n",
       "      <th>15065</th>\n",
       "      <td>12457291.0</td>\n",
       "      <td>100.00</td>\n",
       "      <td>45.8</td>\n",
       "      <td>-353.00</td>\n",
       "    </tr>\n",
       "  </tbody>\n",
       "</table>\n",
       "<p>162 rows × 4 columns</p>\n",
       "</div>"
      ],
      "text/plain": [
       "          tagihan  rasio_pembayaran  rasio_pembayaran_3bulan  \\\n",
       "30        78629.0              0.00                    -48.0   \n",
       "413     1018492.0            244.00                    355.0   \n",
       "433       70992.0              0.00                      0.0   \n",
       "542      197464.0            182.91                    123.2   \n",
       "633       34394.0              0.00                   -642.0   \n",
       "...           ...               ...                      ...   \n",
       "14682    506000.0              0.00                   -216.0   \n",
       "14883    244025.0          -2100.00                 -11068.0   \n",
       "14976    763707.0              0.00                    -94.7   \n",
       "15054   2134749.0           -498.00                     60.2   \n",
       "15065  12457291.0            100.00                     45.8   \n",
       "\n",
       "       rasio_pembayaran_6bulan  \n",
       "30                       33.30  \n",
       "413                    -141.00  \n",
       "433                     -85.30  \n",
       "542                     -19.32  \n",
       "633                      50.00  \n",
       "...                        ...  \n",
       "14682                    65.70  \n",
       "14883                -77056.00  \n",
       "14976                   105.00  \n",
       "15054                   105.00  \n",
       "15065                  -353.00  \n",
       "\n",
       "[162 rows x 4 columns]"
      ]
     },
     "execution_count": 40,
     "metadata": {},
     "output_type": "execute_result"
    }
   ],
   "source": [
    "correction_columns = ['rasio_pembayaran', 'rasio_pembayaran_3bulan', \n",
    "                      'rasio_pembayaran_6bulan']\n",
    "\n",
    "extreme_negative_filter = (train_df[correction_columns] < 0).any(axis = 1)\n",
    "\n",
    "train_df.loc[extreme_negative_filter, ['tagihan'] + correction_columns]"
   ]
  },
  {
   "cell_type": "code",
   "execution_count": 41,
   "metadata": {
    "ExecuteTime": {
     "end_time": "2021-08-31T05:41:37.926044Z",
     "start_time": "2021-08-31T05:41:37.895123Z"
    },
    "hidden": true
   },
   "outputs": [
    {
     "data": {
      "text/html": [
       "<div>\n",
       "<style scoped>\n",
       "    .dataframe tbody tr th:only-of-type {\n",
       "        vertical-align: middle;\n",
       "    }\n",
       "\n",
       "    .dataframe tbody tr th {\n",
       "        vertical-align: top;\n",
       "    }\n",
       "\n",
       "    .dataframe thead th {\n",
       "        text-align: right;\n",
       "    }\n",
       "</style>\n",
       "<table border=\"1\" class=\"dataframe\">\n",
       "  <thead>\n",
       "    <tr style=\"text-align: right;\">\n",
       "      <th></th>\n",
       "      <th>tagihan</th>\n",
       "      <th>rasio_pembayaran</th>\n",
       "      <th>rasio_pembayaran_3bulan</th>\n",
       "      <th>rasio_pembayaran_6bulan</th>\n",
       "    </tr>\n",
       "  </thead>\n",
       "  <tbody>\n",
       "    <tr>\n",
       "      <th>13</th>\n",
       "      <td>642313.0</td>\n",
       "      <td>0.00</td>\n",
       "      <td>0.0</td>\n",
       "      <td>1518.0</td>\n",
       "    </tr>\n",
       "    <tr>\n",
       "      <th>582</th>\n",
       "      <td>810294.0</td>\n",
       "      <td>107.00</td>\n",
       "      <td>100.0</td>\n",
       "      <td>7069.0</td>\n",
       "    </tr>\n",
       "    <tr>\n",
       "      <th>646</th>\n",
       "      <td>11942091.0</td>\n",
       "      <td>100.00</td>\n",
       "      <td>100.0</td>\n",
       "      <td>4444.0</td>\n",
       "    </tr>\n",
       "    <tr>\n",
       "      <th>650</th>\n",
       "      <td>574643.0</td>\n",
       "      <td>0.00</td>\n",
       "      <td>908.0</td>\n",
       "      <td>1013.0</td>\n",
       "    </tr>\n",
       "    <tr>\n",
       "      <th>768</th>\n",
       "      <td>7465907.0</td>\n",
       "      <td>981.00</td>\n",
       "      <td>863.0</td>\n",
       "      <td>3090.0</td>\n",
       "    </tr>\n",
       "    <tr>\n",
       "      <th>...</th>\n",
       "      <td>...</td>\n",
       "      <td>...</td>\n",
       "      <td>...</td>\n",
       "      <td>...</td>\n",
       "    </tr>\n",
       "    <tr>\n",
       "      <th>14894</th>\n",
       "      <td>628000000.0</td>\n",
       "      <td>0.00</td>\n",
       "      <td>75.0</td>\n",
       "      <td>54899.0</td>\n",
       "    </tr>\n",
       "    <tr>\n",
       "      <th>14930</th>\n",
       "      <td>1860712.0</td>\n",
       "      <td>3717.00</td>\n",
       "      <td>954.0</td>\n",
       "      <td>51.4</td>\n",
       "    </tr>\n",
       "    <tr>\n",
       "      <th>15125</th>\n",
       "      <td>5788609.0</td>\n",
       "      <td>33.80</td>\n",
       "      <td>38.6</td>\n",
       "      <td>8729.0</td>\n",
       "    </tr>\n",
       "    <tr>\n",
       "      <th>15154</th>\n",
       "      <td>638701.0</td>\n",
       "      <td>9556.00</td>\n",
       "      <td>2569.0</td>\n",
       "      <td>80.2</td>\n",
       "    </tr>\n",
       "    <tr>\n",
       "      <th>15245</th>\n",
       "      <td>4803752.0</td>\n",
       "      <td>8.42</td>\n",
       "      <td>160.0</td>\n",
       "      <td>8433.0</td>\n",
       "    </tr>\n",
       "  </tbody>\n",
       "</table>\n",
       "<p>106 rows × 4 columns</p>\n",
       "</div>"
      ],
      "text/plain": [
       "           tagihan  rasio_pembayaran  rasio_pembayaran_3bulan  \\\n",
       "13        642313.0              0.00                      0.0   \n",
       "582       810294.0            107.00                    100.0   \n",
       "646     11942091.0            100.00                    100.0   \n",
       "650       574643.0              0.00                    908.0   \n",
       "768      7465907.0            981.00                    863.0   \n",
       "...            ...               ...                      ...   \n",
       "14894  628000000.0              0.00                     75.0   \n",
       "14930    1860712.0           3717.00                    954.0   \n",
       "15125    5788609.0             33.80                     38.6   \n",
       "15154     638701.0           9556.00                   2569.0   \n",
       "15245    4803752.0              8.42                    160.0   \n",
       "\n",
       "       rasio_pembayaran_6bulan  \n",
       "13                      1518.0  \n",
       "582                     7069.0  \n",
       "646                     4444.0  \n",
       "650                     1013.0  \n",
       "768                     3090.0  \n",
       "...                        ...  \n",
       "14894                  54899.0  \n",
       "14930                     51.4  \n",
       "15125                   8729.0  \n",
       "15154                     80.2  \n",
       "15245                   8433.0  \n",
       "\n",
       "[106 rows x 4 columns]"
      ]
     },
     "execution_count": 41,
     "metadata": {},
     "output_type": "execute_result"
    }
   ],
   "source": [
    "# Setara dengan membayar kembali tagihan kita 10 kali lipat\n",
    "extreme_positive_filter = (train_df[correction_columns] > 1000).any(axis = 1)\n",
    "\n",
    "train_df.loc[extreme_positive_filter, ['tagihan'] + correction_columns]"
   ]
  },
  {
   "cell_type": "code",
   "execution_count": 42,
   "metadata": {
    "ExecuteTime": {
     "end_time": "2021-08-31T05:41:37.972915Z",
     "start_time": "2021-08-31T05:41:37.928038Z"
    },
    "hidden": true
   },
   "outputs": [
    {
     "data": {
      "text/html": [
       "<div>\n",
       "<style scoped>\n",
       "    .dataframe tbody tr th:only-of-type {\n",
       "        vertical-align: middle;\n",
       "    }\n",
       "\n",
       "    .dataframe tbody tr th {\n",
       "        vertical-align: top;\n",
       "    }\n",
       "\n",
       "    .dataframe thead th {\n",
       "        text-align: right;\n",
       "    }\n",
       "</style>\n",
       "<table border=\"1\" class=\"dataframe\">\n",
       "  <thead>\n",
       "    <tr style=\"text-align: right;\">\n",
       "      <th></th>\n",
       "      <th>jumlah_kartu</th>\n",
       "      <th>outstanding</th>\n",
       "      <th>limit_kredit</th>\n",
       "      <th>tagihan</th>\n",
       "      <th>total_pemakaian_tunai</th>\n",
       "      <th>total_pemakaian_retail</th>\n",
       "      <th>sisa_tagihan_tidak_terbayar</th>\n",
       "      <th>kode_cabang</th>\n",
       "      <th>rasio_pembayaran</th>\n",
       "      <th>persentasi_overlimit</th>\n",
       "      <th>...</th>\n",
       "      <th>flag_kredit_macet</th>\n",
       "      <th>jumlah_tahun_sejak_pembukaan_kredit</th>\n",
       "      <th>total_pemakaian</th>\n",
       "      <th>sisa_tagihan_per_jumlah_kartu</th>\n",
       "      <th>sisa_tagihan_per_limit</th>\n",
       "      <th>total_pemakaian_per_limit</th>\n",
       "      <th>pemakaian_3bln_per_limit</th>\n",
       "      <th>pemakaian_6bln_per_limit</th>\n",
       "      <th>utilisasi_3bulan</th>\n",
       "      <th>utilisasi_6bulan</th>\n",
       "    </tr>\n",
       "  </thead>\n",
       "  <tbody>\n",
       "  </tbody>\n",
       "</table>\n",
       "<p>0 rows × 23 columns</p>\n",
       "</div>"
      ],
      "text/plain": [
       "Empty DataFrame\n",
       "Columns: [jumlah_kartu, outstanding, limit_kredit, tagihan, total_pemakaian_tunai, total_pemakaian_retail, sisa_tagihan_tidak_terbayar, kode_cabang, rasio_pembayaran, persentasi_overlimit, rasio_pembayaran_3bulan, rasio_pembayaran_6bulan, skor_delikuensi, flag_kredit_macet, jumlah_tahun_sejak_pembukaan_kredit, total_pemakaian, sisa_tagihan_per_jumlah_kartu, sisa_tagihan_per_limit, total_pemakaian_per_limit, pemakaian_3bln_per_limit, pemakaian_6bln_per_limit, utilisasi_3bulan, utilisasi_6bulan]\n",
       "Index: []\n",
       "\n",
       "[0 rows x 23 columns]"
      ]
     },
     "execution_count": 42,
     "metadata": {},
     "output_type": "execute_result"
    }
   ],
   "source": [
    "dropped_rows = train_df[extreme_negative_filter | extreme_positive_filter].index\n",
    "train_df.drop(dropped_rows, inplace = True)\n",
    "\n",
    "train_df[(train_df[correction_columns] < 0).any(axis = 1)]"
   ]
  },
  {
   "cell_type": "markdown",
   "metadata": {
    "hidden": true
   },
   "source": [
    "**Data train tidak berkurang banyak setelah pembersihan outlier.**\n",
    "\n",
    "Hal itu merupakan pertanda bagus, sebab jika terlalu banyak outlier yang dihapus, kita akan mengurangi informasi terlalu banyak dari data kita atau sebenarnya itu bukan outlier yang seharusnya dihapus."
   ]
  },
  {
   "cell_type": "code",
   "execution_count": 43,
   "metadata": {
    "ExecuteTime": {
     "end_time": "2021-08-31T05:41:37.988876Z",
     "start_time": "2021-08-31T05:41:37.979897Z"
    },
    "hidden": true
   },
   "outputs": [
    {
     "name": "stdout",
     "output_type": "stream",
     "text": [
      "Jumlah baris data train setelah pembersihan outlier: 15077\n"
     ]
    }
   ],
   "source": [
    "print(f'Jumlah baris data train setelah pembersihan outlier: {len(train_df)}')"
   ]
  },
  {
   "cell_type": "markdown",
   "metadata": {
    "heading_collapsed": true,
    "hidden": true
   },
   "source": [
    "### **Transformasi Data Kategorikal**"
   ]
  },
  {
   "cell_type": "markdown",
   "metadata": {
    "hidden": true
   },
   "source": [
    "**Kolom `kode_cabang` akan ditransformasikan dari kategorikal menjadi integer, baik di data train maupun test.**\n",
    "\n",
    "Kolom ini adalah satu-satunya kolom non-numerik yang ada dalam data kita."
   ]
  },
  {
   "cell_type": "code",
   "execution_count": 44,
   "metadata": {
    "ExecuteTime": {
     "end_time": "2021-08-31T05:41:38.004833Z",
     "start_time": "2021-08-31T05:41:37.992864Z"
    },
    "hidden": true
   },
   "outputs": [
    {
     "data": {
      "text/plain": [
       "Index(['kode_cabang'], dtype='object')"
      ]
     },
     "execution_count": 44,
     "metadata": {},
     "output_type": "execute_result"
    }
   ],
   "source": [
    "train_df.select_dtypes('object').columns"
   ]
  },
  {
   "cell_type": "markdown",
   "metadata": {
    "ExecuteTime": {
     "end_time": "2021-08-30T18:10:54.859790Z",
     "start_time": "2021-08-30T18:10:54.843867Z"
    },
    "hidden": true
   },
   "source": [
    "**Transformasi menggunakan `LabelEncoder` berhasil dilakukan.**"
   ]
  },
  {
   "cell_type": "code",
   "execution_count": 45,
   "metadata": {
    "ExecuteTime": {
     "end_time": "2021-08-31T05:41:38.035749Z",
     "start_time": "2021-08-31T05:41:38.007822Z"
    },
    "hidden": true
   },
   "outputs": [
    {
     "data": {
      "text/plain": [
       "array([ 0,  2,  5,  1,  6,  8,  3,  7,  9, 10,  4])"
      ]
     },
     "execution_count": 45,
     "metadata": {},
     "output_type": "execute_result"
    }
   ],
   "source": [
    "label_encoder = LabelEncoder()\n",
    "\n",
    "train_df['kode_cabang'] = label_encoder.fit_transform(train_df['kode_cabang'])\n",
    "test_df['kode_cabang'] = label_encoder.fit_transform(test_df['kode_cabang'])\n",
    "\n",
    "train_df['kode_cabang'].unique()"
   ]
  },
  {
   "cell_type": "markdown",
   "metadata": {
    "heading_collapsed": true,
    "hidden": true,
    "id": "31xYfZiLJ_li"
   },
   "source": [
    "## **Feature Engineering**"
   ]
  },
  {
   "cell_type": "markdown",
   "metadata": {
    "heading_collapsed": true,
    "hidden": true
   },
   "source": [
    "### **Feature Selection**"
   ]
  },
  {
   "cell_type": "markdown",
   "metadata": {
    "hidden": true
   },
   "source": [
    "**Kita akan menggunakan korelasi sebagai alat dasar untuk memilih kolom yang akan digunakan.**\n",
    "\n",
    "Korelasi pada umumnya tersebar dan cukup kecil, kecuali kolom yang bersangkutan merupakan satu rumpun kolom atau memang merupakan derivasi dari kolom yang berkorelasi tinggi tersebut (misalnya `outstanding` dan `tagihan`).  "
   ]
  },
  {
   "cell_type": "code",
   "execution_count": 46,
   "metadata": {
    "ExecuteTime": {
     "end_time": "2021-08-31T05:41:41.962212Z",
     "start_time": "2021-08-31T05:41:38.036746Z"
    },
    "hidden": true
   },
   "outputs": [
    {
     "data": {
      "image/png": "[encoded data removed]",
      "text/plain": [
       "<Figure size 1152x720 with 2 Axes>"
      ]
     },
     "metadata": {},
     "output_type": "display_data"
    }
   ],
   "source": [
    "plt.figure(figsize = (16, 10))\n",
    "\n",
    "sns.heatmap(train_df.corr().round(2), annot = True, cmap = 'RdYlGn')\n",
    "\n",
    "plt.show()"
   ]
  },
  {
   "cell_type": "markdown",
   "metadata": {
    "hidden": true
   },
   "source": [
    "**Daftar ini dapat digunakan untuk memotong variabel dengan korelasi rendah.**\n",
    "\n",
    "Menariknya, tiga kolom terbawah adalah tiga kolom yang kita nyatakan inkonklusif di akhir EDA!"
   ]
  },
  {
   "cell_type": "code",
   "execution_count": 47,
   "metadata": {
    "ExecuteTime": {
     "end_time": "2021-08-31T05:41:42.008119Z",
     "start_time": "2021-08-31T05:41:41.964206Z"
    },
    "hidden": true
   },
   "outputs": [
    {
     "data": {
      "text/html": [
       "<div>\n",
       "<style scoped>\n",
       "    .dataframe tbody tr th:only-of-type {\n",
       "        vertical-align: middle;\n",
       "    }\n",
       "\n",
       "    .dataframe tbody tr th {\n",
       "        vertical-align: top;\n",
       "    }\n",
       "\n",
       "    .dataframe thead th {\n",
       "        text-align: right;\n",
       "    }\n",
       "</style>\n",
       "<table border=\"1\" class=\"dataframe\">\n",
       "  <thead>\n",
       "    <tr style=\"text-align: right;\">\n",
       "      <th></th>\n",
       "      <th>Kolom</th>\n",
       "      <th>Korelasi</th>\n",
       "    </tr>\n",
       "  </thead>\n",
       "  <tbody>\n",
       "    <tr>\n",
       "      <th>0</th>\n",
       "      <td>flag_kredit_macet</td>\n",
       "      <td>1.000000</td>\n",
       "    </tr>\n",
       "    <tr>\n",
       "      <th>1</th>\n",
       "      <td>rasio_pembayaran</td>\n",
       "      <td>0.198451</td>\n",
       "    </tr>\n",
       "    <tr>\n",
       "      <th>2</th>\n",
       "      <td>rasio_pembayaran_3bulan</td>\n",
       "      <td>0.161314</td>\n",
       "    </tr>\n",
       "    <tr>\n",
       "      <th>3</th>\n",
       "      <td>persentasi_overlimit</td>\n",
       "      <td>0.147027</td>\n",
       "    </tr>\n",
       "    <tr>\n",
       "      <th>4</th>\n",
       "      <td>sisa_tagihan_per_limit</td>\n",
       "      <td>0.137842</td>\n",
       "    </tr>\n",
       "    <tr>\n",
       "      <th>5</th>\n",
       "      <td>sisa_tagihan_tidak_terbayar</td>\n",
       "      <td>0.127819</td>\n",
       "    </tr>\n",
       "    <tr>\n",
       "      <th>6</th>\n",
       "      <td>sisa_tagihan_per_jumlah_kartu</td>\n",
       "      <td>0.121319</td>\n",
       "    </tr>\n",
       "    <tr>\n",
       "      <th>7</th>\n",
       "      <td>total_pemakaian_per_limit</td>\n",
       "      <td>0.117303</td>\n",
       "    </tr>\n",
       "    <tr>\n",
       "      <th>8</th>\n",
       "      <td>tagihan</td>\n",
       "      <td>0.104411</td>\n",
       "    </tr>\n",
       "    <tr>\n",
       "      <th>9</th>\n",
       "      <td>rasio_pembayaran_6bulan</td>\n",
       "      <td>0.103901</td>\n",
       "    </tr>\n",
       "    <tr>\n",
       "      <th>10</th>\n",
       "      <td>utilisasi_3bulan</td>\n",
       "      <td>0.102709</td>\n",
       "    </tr>\n",
       "    <tr>\n",
       "      <th>11</th>\n",
       "      <td>utilisasi_6bulan</td>\n",
       "      <td>0.094784</td>\n",
       "    </tr>\n",
       "    <tr>\n",
       "      <th>12</th>\n",
       "      <td>outstanding</td>\n",
       "      <td>0.086264</td>\n",
       "    </tr>\n",
       "    <tr>\n",
       "      <th>13</th>\n",
       "      <td>pemakaian_3bln_per_limit</td>\n",
       "      <td>0.068344</td>\n",
       "    </tr>\n",
       "    <tr>\n",
       "      <th>14</th>\n",
       "      <td>total_pemakaian_retail</td>\n",
       "      <td>0.051447</td>\n",
       "    </tr>\n",
       "    <tr>\n",
       "      <th>15</th>\n",
       "      <td>total_pemakaian</td>\n",
       "      <td>0.049098</td>\n",
       "    </tr>\n",
       "    <tr>\n",
       "      <th>16</th>\n",
       "      <td>limit_kredit</td>\n",
       "      <td>0.025009</td>\n",
       "    </tr>\n",
       "    <tr>\n",
       "      <th>17</th>\n",
       "      <td>jumlah_kartu</td>\n",
       "      <td>0.023399</td>\n",
       "    </tr>\n",
       "    <tr>\n",
       "      <th>18</th>\n",
       "      <td>total_pemakaian_tunai</td>\n",
       "      <td>0.016029</td>\n",
       "    </tr>\n",
       "    <tr>\n",
       "      <th>19</th>\n",
       "      <td>pemakaian_6bln_per_limit</td>\n",
       "      <td>0.015154</td>\n",
       "    </tr>\n",
       "    <tr>\n",
       "      <th>20</th>\n",
       "      <td>skor_delikuensi</td>\n",
       "      <td>0.004608</td>\n",
       "    </tr>\n",
       "    <tr>\n",
       "      <th>21</th>\n",
       "      <td>kode_cabang</td>\n",
       "      <td>0.001312</td>\n",
       "    </tr>\n",
       "    <tr>\n",
       "      <th>22</th>\n",
       "      <td>jumlah_tahun_sejak_pembukaan_kredit</td>\n",
       "      <td>0.000447</td>\n",
       "    </tr>\n",
       "  </tbody>\n",
       "</table>\n",
       "</div>"
      ],
      "text/plain": [
       "                                  Kolom  Korelasi\n",
       "0                     flag_kredit_macet  1.000000\n",
       "1                      rasio_pembayaran  0.198451\n",
       "2               rasio_pembayaran_3bulan  0.161314\n",
       "3                  persentasi_overlimit  0.147027\n",
       "4                sisa_tagihan_per_limit  0.137842\n",
       "5           sisa_tagihan_tidak_terbayar  0.127819\n",
       "6         sisa_tagihan_per_jumlah_kartu  0.121319\n",
       "7             total_pemakaian_per_limit  0.117303\n",
       "8                               tagihan  0.104411\n",
       "9               rasio_pembayaran_6bulan  0.103901\n",
       "10                     utilisasi_3bulan  0.102709\n",
       "11                     utilisasi_6bulan  0.094784\n",
       "12                          outstanding  0.086264\n",
       "13             pemakaian_3bln_per_limit  0.068344\n",
       "14               total_pemakaian_retail  0.051447\n",
       "15                      total_pemakaian  0.049098\n",
       "16                         limit_kredit  0.025009\n",
       "17                         jumlah_kartu  0.023399\n",
       "18                total_pemakaian_tunai  0.016029\n",
       "19             pemakaian_6bln_per_limit  0.015154\n",
       "20                      skor_delikuensi  0.004608\n",
       "21                          kode_cabang  0.001312\n",
       "22  jumlah_tahun_sejak_pembukaan_kredit  0.000447"
      ]
     },
     "execution_count": 47,
     "metadata": {},
     "output_type": "execute_result"
    }
   ],
   "source": [
    "korelasi_flag_macet = np.abs(train_df.corr()['flag_kredit_macet']).\\\n",
    "    sort_values(ascending = False).reset_index().\\\n",
    "    rename(columns = {'index': 'Kolom', 'flag_kredit_macet': 'Korelasi'})\n",
    "\n",
    "korelasi_flag_macet"
   ]
  },
  {
   "cell_type": "markdown",
   "metadata": {
    "heading_collapsed": true,
    "hidden": true
   },
   "source": [
    "### **Feature Tambahan**"
   ]
  },
  {
   "cell_type": "markdown",
   "metadata": {
    "hidden": true
   },
   "source": [
    "**Kolom dengan korelasi di bawah < 0.01 tidak akan digunakan seterusnya.**\n",
    "\n",
    "Pilihan ini juga sejalan dengan hasil EDA yang tidak menemukan hubungan yang signifikan antara kolom-kolom yang akan dibuang dengan variabel target."
   ]
  },
  {
   "cell_type": "code",
   "execution_count": 48,
   "metadata": {
    "ExecuteTime": {
     "end_time": "2021-08-31T05:41:42.023049Z",
     "start_time": "2021-08-31T05:41:42.010084Z"
    },
    "hidden": true
   },
   "outputs": [
    {
     "name": "stdout",
     "output_type": "stream",
     "text": [
      "Kolom-kolom telah berhasil dihapus!\n"
     ]
    }
   ],
   "source": [
    "dropped_columns = korelasi_flag_macet.loc[korelasi_flag_macet['Korelasi'] < 0.01, 'Kolom']\n",
    "\n",
    "train_df.drop(dropped_columns, axis = 1, inplace = True)\n",
    "test_df.drop(dropped_columns, axis = 1, inplace = True)\n",
    "\n",
    "assert train_df.columns.isin(dropped_columns).any() == False\n",
    "assert test_df.columns.isin(dropped_columns).any() == False\n",
    "\n",
    "print('Kolom-kolom telah berhasil dihapus!')"
   ]
  },
  {
   "cell_type": "markdown",
   "metadata": {
    "hidden": true
   },
   "source": [
    "**Beberapa fitur essensial akan ditambahkan dari bahan eksperimen selama EDA.**\n",
    "\n",
    "Kolom-kolom ini terbukti dapat membedakan antara nasabah kredit macet dengan kredit non-macet:\n",
    "- Utilisasi/Outstanding Per Limit: Rasio antara outstanding dengan limit kredit milik nasabah\n",
    "- Tagihan Per Limit: Rasio antara tagihan dengan limit kredit milik nasabah\n",
    "\n",
    "Selain itu, kita akan menambah kolom Penurunan Pemakaian Per Limit, yaitu kolom yang menunjukkan seberapa banyak penurunan pemakaian per limit dari sekitar 4-6 bulan yang lalu dibandingkan sekarang."
   ]
  },
  {
   "cell_type": "code",
   "execution_count": 49,
   "metadata": {
    "ExecuteTime": {
     "end_time": "2021-08-31T05:41:42.053997Z",
     "start_time": "2021-08-31T05:41:42.025045Z"
    },
    "hidden": true
   },
   "outputs": [
    {
     "data": {
      "text/html": [
       "<div>\n",
       "<style scoped>\n",
       "    .dataframe tbody tr th:only-of-type {\n",
       "        vertical-align: middle;\n",
       "    }\n",
       "\n",
       "    .dataframe tbody tr th {\n",
       "        vertical-align: top;\n",
       "    }\n",
       "\n",
       "    .dataframe thead th {\n",
       "        text-align: right;\n",
       "    }\n",
       "</style>\n",
       "<table border=\"1\" class=\"dataframe\">\n",
       "  <thead>\n",
       "    <tr style=\"text-align: right;\">\n",
       "      <th></th>\n",
       "      <th>utilisasi</th>\n",
       "      <th>tagihan_per_limit</th>\n",
       "      <th>penurunan_pemakaian_per_limit</th>\n",
       "    </tr>\n",
       "  </thead>\n",
       "  <tbody>\n",
       "    <tr>\n",
       "      <th>0</th>\n",
       "      <td>0.995379</td>\n",
       "      <td>0.844705</td>\n",
       "      <td>0.041536</td>\n",
       "    </tr>\n",
       "    <tr>\n",
       "      <th>1</th>\n",
       "      <td>0.002099</td>\n",
       "      <td>0.001981</td>\n",
       "      <td>0.013271</td>\n",
       "    </tr>\n",
       "    <tr>\n",
       "      <th>2</th>\n",
       "      <td>0.451360</td>\n",
       "      <td>0.456401</td>\n",
       "      <td>-0.005000</td>\n",
       "    </tr>\n",
       "    <tr>\n",
       "      <th>3</th>\n",
       "      <td>0.021973</td>\n",
       "      <td>0.015349</td>\n",
       "      <td>0.161269</td>\n",
       "    </tr>\n",
       "    <tr>\n",
       "      <th>4</th>\n",
       "      <td>1.243570</td>\n",
       "      <td>1.268547</td>\n",
       "      <td>0.014556</td>\n",
       "    </tr>\n",
       "  </tbody>\n",
       "</table>\n",
       "</div>"
      ],
      "text/plain": [
       "   utilisasi  tagihan_per_limit  penurunan_pemakaian_per_limit\n",
       "0   0.995379           0.844705                       0.041536\n",
       "1   0.002099           0.001981                       0.013271\n",
       "2   0.451360           0.456401                      -0.005000\n",
       "3   0.021973           0.015349                       0.161269\n",
       "4   1.243570           1.268547                       0.014556"
      ]
     },
     "metadata": {},
     "output_type": "display_data"
    },
    {
     "data": {
      "text/plain": [
       "(15077, 3)"
      ]
     },
     "metadata": {},
     "output_type": "display_data"
    }
   ],
   "source": [
    "for data in [train_df, test_df]:\n",
    "    data['utilisasi'] = data['outstanding'] / data['limit_kredit']\n",
    "    data['tagihan_per_limit'] = data['tagihan'] / data['limit_kredit']\n",
    "    data['penurunan_pemakaian_per_limit'] = data['pemakaian_6bln_per_limit'] - data['total_pemakaian_per_limit']\n",
    "    \n",
    "display_df(train_df[['utilisasi', 'tagihan_per_limit', 'penurunan_pemakaian_per_limit']])"
   ]
  },
  {
   "cell_type": "markdown",
   "metadata": {
    "hidden": true
   },
   "source": [
    "**Ketiga kolom yang dibuat dapat membedakan nasabah dengan baik.**\n",
    "\n",
    "_Performance_ terbaik ditunjukkan oleh kolom ketiga, dimana kolom ketiga berguna untuk menunjukkan tren penurunan pemakaian nasabah yang akan kredit macet."
   ]
  },
  {
   "cell_type": "code",
   "execution_count": 50,
   "metadata": {
    "ExecuteTime": {
     "end_time": "2021-08-31T05:41:42.760978Z",
     "start_time": "2021-08-31T05:41:42.055961Z"
    },
    "hidden": true
   },
   "outputs": [
    {
     "data": {
      "image/png": "[encoded data removed]",
      "text/plain": [
       "<Figure size 1080x360 with 3 Axes>"
      ]
     },
     "metadata": {},
     "output_type": "display_data"
    }
   ],
   "source": [
    "fig, axes = plt.subplots(1, 3, figsize = (15, 5))\n",
    "\n",
    "sns.barplot(x = 'flag_kredit_macet', y = 'utilisasi', \n",
    "            data = train_df, ax = axes[0]).\\\n",
    "    set(xlabel = 'Flag Kredit Macet', ylabel = 'Utilisasi')\n",
    "\n",
    "sns.barplot(x = 'flag_kredit_macet', y = 'tagihan_per_limit', \n",
    "            data = train_df, ax = axes[1]).\\\n",
    "    set(xlabel = 'Flag Kredit Macet', ylabel = 'Tagihan Per Limit')\n",
    "\n",
    "sns.barplot(x = 'flag_kredit_macet', y = 'penurunan_pemakaian_per_limit', \n",
    "            data = train_df, ax = axes[2]).\\\n",
    "    set(xlabel = 'Flag Kredit Macet', ylabel = 'Penurunan Pemakaian Per Limit')\n",
    "\n",
    "plt.show()"
   ]
  },
  {
   "cell_type": "markdown",
   "metadata": {
    "heading_collapsed": true,
    "hidden": true
   },
   "source": [
    "### **Scaling Setelah Feature Engineering**"
   ]
  },
  {
   "cell_type": "markdown",
   "metadata": {
    "hidden": true
   },
   "source": [
    "**Semua kolom akan discaling sekarang setelah kolom feature engineering dibuat.**\n",
    "\n",
    "Scaling ini bertujuan agar _performance_ model akan semakin baik setelah ini."
   ]
  },
  {
   "cell_type": "code",
   "execution_count": 51,
   "metadata": {
    "ExecuteTime": {
     "end_time": "2021-08-31T05:41:42.839773Z",
     "start_time": "2021-08-31T05:41:42.762977Z"
    },
    "hidden": true
   },
   "outputs": [
    {
     "data": {
      "text/html": [
       "<div>\n",
       "<style scoped>\n",
       "    .dataframe tbody tr th:only-of-type {\n",
       "        vertical-align: middle;\n",
       "    }\n",
       "\n",
       "    .dataframe tbody tr th {\n",
       "        vertical-align: top;\n",
       "    }\n",
       "\n",
       "    .dataframe thead th {\n",
       "        text-align: right;\n",
       "    }\n",
       "</style>\n",
       "<table border=\"1\" class=\"dataframe\">\n",
       "  <thead>\n",
       "    <tr style=\"text-align: right;\">\n",
       "      <th></th>\n",
       "      <th>jumlah_kartu</th>\n",
       "      <th>outstanding</th>\n",
       "      <th>limit_kredit</th>\n",
       "      <th>tagihan</th>\n",
       "      <th>total_pemakaian_tunai</th>\n",
       "      <th>total_pemakaian_retail</th>\n",
       "      <th>sisa_tagihan_tidak_terbayar</th>\n",
       "      <th>rasio_pembayaran</th>\n",
       "      <th>persentasi_overlimit</th>\n",
       "      <th>rasio_pembayaran_3bulan</th>\n",
       "      <th>...</th>\n",
       "      <th>sisa_tagihan_per_jumlah_kartu</th>\n",
       "      <th>sisa_tagihan_per_limit</th>\n",
       "      <th>total_pemakaian_per_limit</th>\n",
       "      <th>pemakaian_3bln_per_limit</th>\n",
       "      <th>pemakaian_6bln_per_limit</th>\n",
       "      <th>utilisasi_3bulan</th>\n",
       "      <th>utilisasi_6bulan</th>\n",
       "      <th>utilisasi</th>\n",
       "      <th>tagihan_per_limit</th>\n",
       "      <th>penurunan_pemakaian_per_limit</th>\n",
       "    </tr>\n",
       "  </thead>\n",
       "  <tbody>\n",
       "    <tr>\n",
       "      <th>0</th>\n",
       "      <td>0.266667</td>\n",
       "      <td>0.007484</td>\n",
       "      <td>0.003009</td>\n",
       "      <td>0.012049</td>\n",
       "      <td>0.0</td>\n",
       "      <td>0.052108</td>\n",
       "      <td>0.011726</td>\n",
       "      <td>0.01219</td>\n",
       "      <td>0.000000</td>\n",
       "      <td>0.007919</td>\n",
       "      <td>...</td>\n",
       "      <td>0.007036</td>\n",
       "      <td>0.119853</td>\n",
       "      <td>0.120795</td>\n",
       "      <td>0.056080</td>\n",
       "      <td>0.070346</td>\n",
       "      <td>0.113087</td>\n",
       "      <td>0.094515</td>\n",
       "      <td>0.142345</td>\n",
       "      <td>0.123968</td>\n",
       "      <td>0.288495</td>\n",
       "    </tr>\n",
       "    <tr>\n",
       "      <th>1</th>\n",
       "      <td>0.066667</td>\n",
       "      <td>0.000171</td>\n",
       "      <td>0.062187</td>\n",
       "      <td>0.000259</td>\n",
       "      <td>0.0</td>\n",
       "      <td>0.052108</td>\n",
       "      <td>0.000000</td>\n",
       "      <td>0.10000</td>\n",
       "      <td>0.000000</td>\n",
       "      <td>0.075677</td>\n",
       "      <td>...</td>\n",
       "      <td>0.000000</td>\n",
       "      <td>0.000000</td>\n",
       "      <td>0.120795</td>\n",
       "      <td>0.045288</td>\n",
       "      <td>0.067090</td>\n",
       "      <td>0.002776</td>\n",
       "      <td>0.000794</td>\n",
       "      <td>0.000300</td>\n",
       "      <td>0.000270</td>\n",
       "      <td>0.286003</td>\n",
       "    </tr>\n",
       "    <tr>\n",
       "      <th>2</th>\n",
       "      <td>0.000000</td>\n",
       "      <td>0.001697</td>\n",
       "      <td>0.000000</td>\n",
       "      <td>0.003220</td>\n",
       "      <td>0.0</td>\n",
       "      <td>0.052158</td>\n",
       "      <td>0.000000</td>\n",
       "      <td>0.10000</td>\n",
       "      <td>0.000000</td>\n",
       "      <td>0.082838</td>\n",
       "      <td>...</td>\n",
       "      <td>0.000000</td>\n",
       "      <td>0.000000</td>\n",
       "      <td>0.121751</td>\n",
       "      <td>0.082224</td>\n",
       "      <td>0.065561</td>\n",
       "      <td>0.077183</td>\n",
       "      <td>0.092426</td>\n",
       "      <td>0.064547</td>\n",
       "      <td>0.066971</td>\n",
       "      <td>0.284392</td>\n",
       "    </tr>\n",
       "    <tr>\n",
       "      <th>3</th>\n",
       "      <td>0.066667</td>\n",
       "      <td>0.001349</td>\n",
       "      <td>0.046138</td>\n",
       "      <td>0.001747</td>\n",
       "      <td>0.0</td>\n",
       "      <td>0.054687</td>\n",
       "      <td>0.000000</td>\n",
       "      <td>0.09907</td>\n",
       "      <td>0.000000</td>\n",
       "      <td>0.030020</td>\n",
       "      <td>...</td>\n",
       "      <td>0.000000</td>\n",
       "      <td>0.000000</td>\n",
       "      <td>0.123820</td>\n",
       "      <td>0.043441</td>\n",
       "      <td>0.085965</td>\n",
       "      <td>0.001650</td>\n",
       "      <td>0.026245</td>\n",
       "      <td>0.003142</td>\n",
       "      <td>0.002232</td>\n",
       "      <td>0.299054</td>\n",
       "    </tr>\n",
       "    <tr>\n",
       "      <th>4</th>\n",
       "      <td>0.133333</td>\n",
       "      <td>0.052980</td>\n",
       "      <td>0.031093</td>\n",
       "      <td>0.102894</td>\n",
       "      <td>0.0</td>\n",
       "      <td>0.052108</td>\n",
       "      <td>0.092669</td>\n",
       "      <td>0.00000</td>\n",
       "      <td>0.119105</td>\n",
       "      <td>0.037869</td>\n",
       "      <td>...</td>\n",
       "      <td>0.092669</td>\n",
       "      <td>0.167147</td>\n",
       "      <td>0.120795</td>\n",
       "      <td>0.162844</td>\n",
       "      <td>0.067238</td>\n",
       "      <td>0.148276</td>\n",
       "      <td>0.114706</td>\n",
       "      <td>0.177838</td>\n",
       "      <td>0.186180</td>\n",
       "      <td>0.286116</td>\n",
       "    </tr>\n",
       "  </tbody>\n",
       "</table>\n",
       "<p>5 rows × 23 columns</p>\n",
       "</div>"
      ],
      "text/plain": [
       "   jumlah_kartu  outstanding  limit_kredit   tagihan  total_pemakaian_tunai  \\\n",
       "0      0.266667     0.007484      0.003009  0.012049                    0.0   \n",
       "1      0.066667     0.000171      0.062187  0.000259                    0.0   \n",
       "2      0.000000     0.001697      0.000000  0.003220                    0.0   \n",
       "3      0.066667     0.001349      0.046138  0.001747                    0.0   \n",
       "4      0.133333     0.052980      0.031093  0.102894                    0.0   \n",
       "\n",
       "   total_pemakaian_retail  sisa_tagihan_tidak_terbayar  rasio_pembayaran  \\\n",
       "0                0.052108                     0.011726           0.01219   \n",
       "1                0.052108                     0.000000           0.10000   \n",
       "2                0.052158                     0.000000           0.10000   \n",
       "3                0.054687                     0.000000           0.09907   \n",
       "4                0.052108                     0.092669           0.00000   \n",
       "\n",
       "   persentasi_overlimit  rasio_pembayaran_3bulan  ...  \\\n",
       "0              0.000000                 0.007919  ...   \n",
       "1              0.000000                 0.075677  ...   \n",
       "2              0.000000                 0.082838  ...   \n",
       "3              0.000000                 0.030020  ...   \n",
       "4              0.119105                 0.037869  ...   \n",
       "\n",
       "   sisa_tagihan_per_jumlah_kartu  sisa_tagihan_per_limit  \\\n",
       "0                       0.007036                0.119853   \n",
       "1                       0.000000                0.000000   \n",
       "2                       0.000000                0.000000   \n",
       "3                       0.000000                0.000000   \n",
       "4                       0.092669                0.167147   \n",
       "\n",
       "   total_pemakaian_per_limit  pemakaian_3bln_per_limit  \\\n",
       "0                   0.120795                  0.056080   \n",
       "1                   0.120795                  0.045288   \n",
       "2                   0.121751                  0.082224   \n",
       "3                   0.123820                  0.043441   \n",
       "4                   0.120795                  0.162844   \n",
       "\n",
       "   pemakaian_6bln_per_limit  utilisasi_3bulan  utilisasi_6bulan  utilisasi  \\\n",
       "0                  0.070346          0.113087          0.094515   0.142345   \n",
       "1                  0.067090          0.002776          0.000794   0.000300   \n",
       "2                  0.065561          0.077183          0.092426   0.064547   \n",
       "3                  0.085965          0.001650          0.026245   0.003142   \n",
       "4                  0.067238          0.148276          0.114706   0.177838   \n",
       "\n",
       "   tagihan_per_limit  penurunan_pemakaian_per_limit  \n",
       "0           0.123968                       0.288495  \n",
       "1           0.000270                       0.286003  \n",
       "2           0.066971                       0.284392  \n",
       "3           0.002232                       0.299054  \n",
       "4           0.186180                       0.286116  \n",
       "\n",
       "[5 rows x 23 columns]"
      ]
     },
     "metadata": {},
     "output_type": "display_data"
    },
    {
     "data": {
      "text/plain": [
       "(15077, 23)"
      ]
     },
     "metadata": {},
     "output_type": "display_data"
    }
   ],
   "source": [
    "scaler = MinMaxScaler()\n",
    "scaled_columns = [column for column in train_df if column != 'flag_kredit_macet']\n",
    "\n",
    "for data in [train_df, test_df]:\n",
    "    data[scaled_columns] = scaler.fit_transform(data[scaled_columns])\n",
    "    \n",
    "display_df(train_df)"
   ]
  },
  {
   "cell_type": "markdown",
   "metadata": {
    "heading_collapsed": true,
    "hidden": true,
    "id": "5w3A1_M7J_lj"
   },
   "source": [
    "## **Modelling**"
   ]
  },
  {
   "cell_type": "markdown",
   "metadata": {
    "ExecuteTime": {
     "end_time": "2021-08-29T17:17:46.845882Z",
     "start_time": "2021-08-29T17:17:46.823203Z"
    },
    "hidden": true,
    "id": "HxVM-E6kJ_lk"
   },
   "source": [
    "**Melakukan train-test split untuk persiapan modelling.**\n",
    "\n",
    "Kesuksesan train-test split dicek menggunakan `assert`."
   ]
  },
  {
   "cell_type": "code",
   "execution_count": 52,
   "metadata": {
    "ExecuteTime": {
     "end_time": "2021-08-31T05:41:42.872016Z",
     "start_time": "2021-08-31T05:41:42.840770Z"
    },
    "hidden": true
   },
   "outputs": [],
   "source": [
    "X = train_df.drop('flag_kredit_macet', axis = 1)\n",
    "y = train_df['flag_kredit_macet'] \n",
    "\n",
    "X_train, X_valid, y_train, y_valid = train_test_split(X, y, random_state = 9, stratify = y)\n",
    "\n",
    "assert len(X_train) == len(y_train)\n",
    "assert len(X_valid) == len(y_valid)"
   ]
  },
  {
   "cell_type": "markdown",
   "metadata": {
    "heading_collapsed": true,
    "hidden": true
   },
   "source": [
    "### **Model Upgrade**"
   ]
  },
  {
   "cell_type": "markdown",
   "metadata": {
    "hidden": true
   },
   "source": [
    "**Membuat model logistic pertama tanpa hyperparameter tuning.**\n",
    "\n",
    "Sekaligus prediksi agar pengecekan selanjutnya lebih mudah."
   ]
  },
  {
   "cell_type": "code",
   "execution_count": 53,
   "metadata": {
    "ExecuteTime": {
     "end_time": "2021-08-31T05:41:42.935706Z",
     "start_time": "2021-08-31T05:41:42.872873Z"
    },
    "hidden": true
   },
   "outputs": [],
   "source": [
    "logreg = LogisticRegression()\n",
    "logreg.fit(X_train, y_train)\n",
    "\n",
    "y_pred = logreg.predict(X_valid)"
   ]
  },
  {
   "cell_type": "markdown",
   "metadata": {
    "hidden": true
   },
   "source": [
    "**Akurasi tinggi, namun recall cukup rendah!**\n",
    "\n",
    "Akurasi bisa mencapai hingga ~90% dan cukup konsisten antara train dan validation, namun recall hanya 1.2%! Hal ini disebabkan oleh kelas yang tidak balance, sehingga akurasi dapat naik dengan cara menebak lebih banyak nasabah sebagai nasabah non-kredit macet."
   ]
  },
  {
   "cell_type": "code",
   "execution_count": 54,
   "metadata": {
    "ExecuteTime": {
     "end_time": "2021-08-31T05:41:42.965628Z",
     "start_time": "2021-08-31T05:41:42.937700Z"
    },
    "hidden": true
   },
   "outputs": [
    {
     "name": "stdout",
     "output_type": "stream",
     "text": [
      "Train data accuracy: 0.913\n",
      "Validation data accuracy: 0.911\n"
     ]
    }
   ],
   "source": [
    "print('Train data accuracy: {:.3f}'.format(logreg.score(X_train, y_train)))\n",
    "print('Validation data accuracy: {:.3f}'.format(logreg.score(X_valid, y_valid)))"
   ]
  },
  {
   "cell_type": "code",
   "execution_count": 55,
   "metadata": {
    "ExecuteTime": {
     "end_time": "2021-08-31T05:41:42.980585Z",
     "start_time": "2021-08-31T05:41:42.968620Z"
    },
    "hidden": true
   },
   "outputs": [
    {
     "name": "stdout",
     "output_type": "stream",
     "text": [
      "Recall score: 0.012\n"
     ]
    }
   ],
   "source": [
    "print('Recall score: {:.3f}'.format(recall_score(y_valid, y_pred)))"
   ]
  },
  {
   "cell_type": "markdown",
   "metadata": {
    "heading_collapsed": true,
    "hidden": true
   },
   "source": [
    "### **Model Kedua**"
   ]
  },
  {
   "cell_type": "markdown",
   "metadata": {
    "ExecuteTime": {
     "end_time": "2021-08-30T22:21:03.018672Z",
     "start_time": "2021-08-30T22:21:02.996352Z"
    },
    "hidden": true
   },
   "source": [
    "**Borderline SMOTE dan undersampling dikombinasikan untuk mengatasi kelas yang imbalance.**\n",
    "\n",
    "Keduanya digabungkan karena terlalu banyak oversampling atau terlalu banyak undersampling akan menyebabkan masalah karena terlalu banyak data berulang atau justru hilangnya informasi penting. Varian borderline SMOTE akan memberikan emphasis lebih pada sample yang sering dimisklasifikasikan, dan parameter telah dipilih untuk optimisasi recall dalam batas yang wajar."
   ]
  },
  {
   "cell_type": "code",
   "execution_count": 56,
   "metadata": {
    "ExecuteTime": {
     "end_time": "2021-08-31T05:41:43.358574Z",
     "start_time": "2021-08-31T05:41:42.982580Z"
    },
    "hidden": true
   },
   "outputs": [],
   "source": [
    "smote = BorderlineSMOTE(sampling_strategy = 0.8, random_state = 9)\n",
    "under_sampler = RandomUnderSampler(sampling_strategy = 0.8)\n",
    "\n",
    "X_train, y_train = smote.fit_resample(X_train, y_train)\n",
    "X_train, y_train = under_sampler.fit_resample(X_train, y_train)"
   ]
  },
  {
   "cell_type": "markdown",
   "metadata": {
    "hidden": true
   },
   "source": [
    "**Model dibangun ulang, tetap menggunakan logistic regression.**"
   ]
  },
  {
   "cell_type": "code",
   "execution_count": 57,
   "metadata": {
    "ExecuteTime": {
     "end_time": "2021-08-31T05:41:43.436367Z",
     "start_time": "2021-08-31T05:41:43.359571Z"
    },
    "hidden": true
   },
   "outputs": [],
   "source": [
    "logreg = LogisticRegression()\n",
    "logreg.fit(X_train, y_train)\n",
    "\n",
    "y_pred = logreg.predict(X_valid)"
   ]
  },
  {
   "cell_type": "markdown",
   "metadata": {
    "hidden": true
   },
   "source": [
    "**Akurasi berkurang, namun recall naik drastis.**\n",
    "\n",
    "Akurasi kini hanya sekitar ~70%, namun recall telah berubah menjadi ~70% juga. Karena bank ini sebenarnya lebih memprioritaskan agar tidak _false negative_, ini adalah trade-off yang sangat baik."
   ]
  },
  {
   "cell_type": "code",
   "execution_count": 58,
   "metadata": {
    "ExecuteTime": {
     "end_time": "2021-08-31T05:41:43.452324Z",
     "start_time": "2021-08-31T05:41:43.438361Z"
    },
    "hidden": true
   },
   "outputs": [
    {
     "name": "stdout",
     "output_type": "stream",
     "text": [
      "Train data accuracy: 0.775\n",
      "Validation data accuracy: 0.714\n"
     ]
    }
   ],
   "source": [
    "print('Train data accuracy: {:.3f}'.format(logreg.score(X_train, y_train)))\n",
    "print('Validation data accuracy: {:.3f}'.format(logreg.score(X_valid, y_valid)))"
   ]
  },
  {
   "cell_type": "code",
   "execution_count": 59,
   "metadata": {
    "ExecuteTime": {
     "end_time": "2021-08-31T05:41:43.467284Z",
     "start_time": "2021-08-31T05:41:43.454319Z"
    },
    "hidden": true
   },
   "outputs": [
    {
     "name": "stdout",
     "output_type": "stream",
     "text": [
      "Recall score: 0.714\n"
     ]
    }
   ],
   "source": [
    "print('Recall score: {:.3f}'.format(recall_score(y_valid, y_pred)))"
   ]
  },
  {
   "cell_type": "markdown",
   "metadata": {
    "heading_collapsed": true,
    "hidden": true,
    "id": "gDbQSokoJ_lk"
   },
   "source": [
    "## **Evaluation**"
   ]
  },
  {
   "cell_type": "markdown",
   "metadata": {
    "hidden": true
   },
   "source": [
    "**Cross-validation dilakukan dengan function custom, dan hasilnya bagus!**\n",
    "\n",
    "Kurang lebih tidak beda jauh dengan angka yang telah didapatkan sebelumnya, namun precision ditemukan cukup baik juga sekitar ~70%. Cek definisi function di awal notebook (function menggunakan `cross_validate`)."
   ]
  },
  {
   "cell_type": "code",
   "execution_count": 60,
   "metadata": {
    "ExecuteTime": {
     "end_time": "2021-08-31T05:41:43.775461Z",
     "start_time": "2021-08-31T05:41:43.469279Z"
    },
    "hidden": true
   },
   "outputs": [
    {
     "name": "stdout",
     "output_type": "stream",
     "text": [
      "Mean accuracy: 0.774\n",
      "Mean precision: 0.704\n",
      "Mean recall: 0.851\n",
      "Mean F1-score: 0.770\n"
     ]
    }
   ],
   "source": [
    "kfold = KFold(n_splits = 5, shuffle = True, random_state = 9)\n",
    "\n",
    "logreg = LogisticRegression(random_state = 9)\n",
    "\n",
    "_ = batch_cross_val(logreg, X_train, y_train, kfold)"
   ]
  },
  {
   "cell_type": "markdown",
   "metadata": {
    "hidden": true
   },
   "source": [
    "**Grid-search cross-validation akan dilakukan untuk hyperparameter tuning.**\n",
    "\n",
    "Untuk optimisasi lebih lanjut, beberapa parameter akan dicoba dan dicari mana yang paling baik. Sebelumnya, logistic regression diset dengan parameter n_jobs = -1 agar bisa menggunakan semua CPU, karena kita perlu segala bantuan yang kita punya untuk grid-search."
   ]
  },
  {
   "cell_type": "code",
   "execution_count": 61,
   "metadata": {
    "ExecuteTime": {
     "end_time": "2021-08-31T05:41:51.744584Z",
     "start_time": "2021-08-31T05:41:43.777461Z"
    },
    "hidden": true,
    "id": "T6xfhZ__J_lk"
   },
   "outputs": [],
   "source": [
    "param_grid = {'C': [0.001, 0.01, 0.1, 1, 10, 100],\n",
    "              'penalty': ['l1', 'l2'],\n",
    "              'class_weight': ['balanced', None]}\n",
    "\n",
    "logreg = LogisticRegression(random_state = 9, n_jobs = -1)\n",
    "\n",
    "# Perlu catch warnings karena beberapa kombinasi tidak akan konvergensi\n",
    "with warnings.catch_warnings():\n",
    "    warnings.simplefilter(\"ignore\")\n",
    "    \n",
    "    logreg_cv = GridSearchCV(logreg, param_grid, cv = kfold, \n",
    "                             scoring = 'recall', n_jobs = -1)\n",
    "\n",
    "    logreg_cv.fit(X_train, y_train)"
   ]
  },
  {
   "cell_type": "code",
   "execution_count": 62,
   "metadata": {
    "ExecuteTime": {
     "end_time": "2021-08-31T05:41:51.759586Z",
     "start_time": "2021-08-31T05:41:51.747582Z"
    },
    "hidden": true
   },
   "outputs": [
    {
     "name": "stdout",
     "output_type": "stream",
     "text": [
      "Parameter terbaik: {'C': 1, 'class_weight': 'balanced', 'penalty': 'l2'}\n",
      "Skor cross-validation terbaik: 0.906\n"
     ]
    }
   ],
   "source": [
    "print('Parameter terbaik: {}'.format(logreg_cv.best_params_))\n",
    "print('Skor cross-validation terbaik: {:.3}'.format(logreg_cv.best_score_))"
   ]
  },
  {
   "cell_type": "markdown",
   "metadata": {
    "hidden": true
   },
   "source": [
    "**Model final akan dibangun ulang dengan parameter baru, lalu dicek cross-validation score lengkapnya.**\n",
    "\n",
    "Cross-validation dilakukan dengan `batch_cross_val` seperti sebelumnya, cek di bagian awal notebook untuk melihat definisi functionnya."
   ]
  },
  {
   "cell_type": "markdown",
   "metadata": {
    "hidden": true
   },
   "source": [
    "**Ditemukan peningkatan recall dan f1-score, dan sedikit penurunan precision.**\n",
    "\n",
    "Accuracy masih relatif sama, sementara memang kita lebih berfokus pada recall sesuai dengan tujuan bank sebelumnya yang ingin menghindari _false negative_."
   ]
  },
  {
   "cell_type": "code",
   "execution_count": 63,
   "metadata": {
    "ExecuteTime": {
     "end_time": "2021-08-31T05:41:52.382142Z",
     "start_time": "2021-08-31T05:41:51.763540Z"
    },
    "hidden": true
   },
   "outputs": [
    {
     "name": "stdout",
     "output_type": "stream",
     "text": [
      "Mean accuracy: 0.762\n",
      "Mean precision: 0.673\n",
      "Mean recall: 0.906\n",
      "Mean F1-score: 0.772\n"
     ]
    }
   ],
   "source": [
    "logreg_final = LogisticRegression(C = 1, penalty = 'l2', \n",
    "                                  class_weight = 'balanced', random_state = 9)\n",
    "\n",
    "_ = batch_cross_val(logreg_final, X_train, y_train, kfold)"
   ]
  },
  {
   "cell_type": "markdown",
   "metadata": {
    "ExecuteTime": {
     "end_time": "2021-08-31T02:11:49.218614Z",
     "start_time": "2021-08-31T02:11:49.207644Z"
    },
    "hidden": true
   },
   "source": [
    "**Pengecekan dengan data validasi menunjukkan recall score sekitar ~80%.**\n",
    "\n",
    "Terdapat penurunan, namun masih cukup acceptable secara skor. Mengapa terjadi penurunan? Sebenarnya ini adalah efek samping/trade-off dari menggunakan oversampling (salah satunya SMOTE), karena semakin banyak oversampling bisa berpengaruh ke overfitting, tinggal bagaimana kita mengaturnya agar trade-offnya sesuai dan tetap dapat meningkatkan data kita :)"
   ]
  },
  {
   "cell_type": "code",
   "execution_count": 64,
   "metadata": {
    "ExecuteTime": {
     "end_time": "2021-08-31T05:41:52.475861Z",
     "start_time": "2021-08-31T05:41:52.384106Z"
    },
    "hidden": true
   },
   "outputs": [
    {
     "name": "stdout",
     "output_type": "stream",
     "text": [
      "Validation data accuracy: 0.655\n",
      "Validation recall score: 0.796\n"
     ]
    }
   ],
   "source": [
    "logreg_final.fit(X_train, y_train)\n",
    "y_pred_valid = logreg_final.predict(X_valid)\n",
    "\n",
    "print('Validation data accuracy: {:.3f}'.format(logreg_final.score(X_valid, y_valid)))\n",
    "print('Validation recall score: {:.3f}'.format(recall_score(y_valid, y_pred_valid)))"
   ]
  },
  {
   "cell_type": "markdown",
   "metadata": {
    "heading_collapsed": true,
    "hidden": true,
    "id": "qLZAG3gUKPHg"
   },
   "source": [
    "## **Predict New Data**"
   ]
  },
  {
   "cell_type": "markdown",
   "metadata": {
    "ExecuteTime": {
     "end_time": "2021-08-31T02:08:50.348565Z",
     "start_time": "2021-08-31T02:08:50.334603Z"
    },
    "hidden": true,
    "id": "lYpKG-VWKPwT"
   },
   "source": [
    "**Data test sudah siap dari awal, sehingga cukup melakukan predict pada data test.**"
   ]
  },
  {
   "cell_type": "code",
   "execution_count": 65,
   "metadata": {
    "ExecuteTime": {
     "end_time": "2021-08-31T05:41:52.491819Z",
     "start_time": "2021-08-31T05:41:52.476858Z"
    },
    "hidden": true
   },
   "outputs": [],
   "source": [
    "y_pred_test = logreg_final.predict(test_df)"
   ]
  },
  {
   "cell_type": "markdown",
   "metadata": {
    "hidden": true
   },
   "source": [
    "**Sekitar 2% dari nasabah pada data test diprediksi akan memiliki kredit macet.**\n",
    "\n",
    "Sementara 98% sisanya diprediksi tidak akan memiliki kredit macet. Angkanya cukup imbalanced seperti data train, meskipun mungkin relatif lebih parah. Tetapi, memang nasabah kredit macet seharusnya adalah minoritas dibanding keseluruhan nasabah."
   ]
  },
  {
   "cell_type": "code",
   "execution_count": 66,
   "metadata": {
    "ExecuteTime": {
     "end_time": "2021-08-31T05:41:52.586563Z",
     "start_time": "2021-08-31T05:41:52.494809Z"
    },
    "hidden": true
   },
   "outputs": [
    {
     "data": {
      "image/png": "[encoded data removed]",
      "text/plain": [
       "<Figure size 432x432 with 1 Axes>"
      ]
     },
     "metadata": {},
     "output_type": "display_data"
    }
   ],
   "source": [
    "plt.figure(figsize = (6, 6))\n",
    "pd.Series(y_pred_test).replace({0: 'Tidak', 1: 'Ya'}).\\\n",
    "    value_counts().plot.pie(autopct = '%1.1f%%')\n",
    "\n",
    "plt.ylabel('Perbandingan Kredit Macet')\n",
    "\n",
    "plt.show()"
   ]
  },
  {
   "cell_type": "markdown",
   "metadata": {
    "heading_collapsed": true,
    "hidden": true,
    "id": "qFWul082J_lk"
   },
   "source": [
    "## **Kesimpulan/Saran**"
   ]
  },
  {
   "cell_type": "markdown",
   "metadata": {
    "hidden": true,
    "id": "ujjcbbNTJ_lk"
   },
   "source": [
    "**Kesimpulan:**\n",
    "- Data memiliki imbalanced classification, di mana hanya ada sekitar 10% nasabah dengan kredit macet sehingga menjadi tantangan dalam pembuatan model.\n",
    "- Nasabah kredit macet memiliki pattern behaviour yang menarik, di mana umumnya mereka memiliki sisa tagihan tidak terbayar besar sekarang, rasio pembayaran yang terus menurun, serta total pemakaian yang pelan-pelan menurun bersama dengan naiknya tagihan, tetapi tidak ada pola secara skor delikuensi, jumlah kartu, ataupun _tenure_.\n",
    "- Masing-masing kolom memiliki korelasi yang relatif kecil dengan variabel target (maksimum hanya 0.2, dan banyak yang jauh lebih kecil daripada itu).\n",
    "- Secara accuracy, model memiliki akurasi yang sedang-sedang, sekitar 65-75%, namun secara recall yang memang kita optimize, nilai metriknya cukup baik sekitar ~80%.\n",
    "\n",
    "**Saran:**\n",
    "- Bank perlu berhati-hati karena faktor-faktor yang biasanya digunakan untuk menilai pengajuan kredit, seperti skor delikuensi dan _tenure_ yang umumnya dilihat sebagai faktor historis, nyaris tidak berdampak dalam kasus ini.\n",
    "- Nasabah kredit macet dapat diprediksi dan diantisipasi dari behaviournya, sehingga bank dapat melakukan monitoring kepada behaviour nasabah, menggunakan model ini atau teknik lain, untuk mengantisipasi nasabah yang potensial kredit macet dan mengarahkan mereka kembali ke jalan yang benar jika bisa.\n",
    "- Data dapat diperlengkapi dengan data demografis, data kredit nasabah yang lain selain kartu kredit, aspek 5C lainnya dari nasabah tersebut, di mana setidaknya data demografis pasti dimiliki oleh bank.\n",
    "- Jika bisa didapatkan data yang lebih lengkap seperti di atas, model bisa dibangun ulang dan ditingkatkan lagi, atau bisa juga crosscheck untuk mengecek misalnya mengapa nasabah kredit macet kerap kali menurun secara rasio pembayaran (apakah _willingly_ atau _unwillingly_)."
   ]
  }
 ],
 "metadata": {
  "colab": {
   "collapsed_sections": [],
   "name": "[Temp] Classification.ipynb",
   "provenance": [],
   "toc_visible": true
  },
  "kernelspec": {
   "display_name": "Python 3 (ipykernel)",
   "language": "python",
   "name": "python3"
  },
  "language_info": {
   "codemirror_mode": {
    "name": "ipython",
    "version": 3
   },
   "file_extension": ".py",
   "mimetype": "text/x-python",
   "name": "python",
   "nbconvert_exporter": "python",
   "pygments_lexer": "ipython3",
   "version": "3.8.5"
  }
 },
 "nbformat": 4,
 "nbformat_minor": 1
}
